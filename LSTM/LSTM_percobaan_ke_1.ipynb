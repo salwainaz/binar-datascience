{
  "cells": [
    {
      "cell_type": "markdown",
      "id": "49b71fe4",
      "metadata": {
        "id": "49b71fe4"
      },
      "source": [
        "# Import library untuk cleansing data teks"
      ]
    },
    {
      "cell_type": "code",
      "source": [
        "from google.colab import drive\n",
        "drive.mount('/content/drive')"
      ],
      "metadata": {
        "colab": {
          "base_uri": "https://localhost:8080/"
        },
        "id": "E_62iBSXRomq",
        "outputId": "73109bd9-0770-4080-f4f1-9f4ad3465630"
      },
      "id": "E_62iBSXRomq",
      "execution_count": null,
      "outputs": [
        {
          "output_type": "stream",
          "name": "stdout",
          "text": [
            "Mounted at /content/drive\n"
          ]
        }
      ]
    },
    {
      "cell_type": "code",
      "execution_count": null,
      "id": "417be760",
      "metadata": {
        "id": "417be760"
      },
      "outputs": [],
      "source": [
        "import pandas as pd\n",
        "import matplotlib.pyplot as plt\n",
        "import seaborn as sns\n",
        "import numpy as np\n",
        "import scipy.stats as st\n",
        "import re\n",
        "import warnings\n",
        "warnings.filterwarnings('ignore')"
      ]
    },
    {
      "cell_type": "code",
      "execution_count": null,
      "id": "137be9f6",
      "metadata": {
        "colab": {
          "base_uri": "https://localhost:8080/",
          "height": 424
        },
        "id": "137be9f6",
        "outputId": "56305123-4a34-4837-ccfb-54ada825faac"
      },
      "outputs": [
        {
          "output_type": "execute_result",
          "data": {
            "text/plain": [
              "                                                 Kalimat     label\n",
              "0      warung ini dimiliki oleh pengusaha pabrik tahu...  positive\n",
              "1      mohon ulama lurus dan k212 mmbri hujjah partai...   neutral\n",
              "2      lokasi strategis di jalan sumatera bandung . t...  positive\n",
              "3      betapa bahagia nya diri ini saat unboxing pake...  positive\n",
              "4      duh . jadi mahasiswa jangan sombong dong . kas...  negative\n",
              "...                                                  ...       ...\n",
              "10995                                       tidak kecewa  positive\n",
              "10996  enak rasa masakan nya apalagi kepiting yang me...  positive\n",
              "10997        hormati partai-partai yang telah berkoalisi   neutral\n",
              "10998  pagi pagi di tol pasteur sudah macet parah , b...  negative\n",
              "10999  meskipun sering belanja ke yogya di riau junct...  positive\n",
              "\n",
              "[11000 rows x 2 columns]"
            ],
            "text/html": [
              "\n",
              "  <div id=\"df-25dc0ebd-94ea-4f8d-995c-3818d1abe13d\">\n",
              "    <div class=\"colab-df-container\">\n",
              "      <div>\n",
              "<style scoped>\n",
              "    .dataframe tbody tr th:only-of-type {\n",
              "        vertical-align: middle;\n",
              "    }\n",
              "\n",
              "    .dataframe tbody tr th {\n",
              "        vertical-align: top;\n",
              "    }\n",
              "\n",
              "    .dataframe thead th {\n",
              "        text-align: right;\n",
              "    }\n",
              "</style>\n",
              "<table border=\"1\" class=\"dataframe\">\n",
              "  <thead>\n",
              "    <tr style=\"text-align: right;\">\n",
              "      <th></th>\n",
              "      <th>Kalimat</th>\n",
              "      <th>label</th>\n",
              "    </tr>\n",
              "  </thead>\n",
              "  <tbody>\n",
              "    <tr>\n",
              "      <th>0</th>\n",
              "      <td>warung ini dimiliki oleh pengusaha pabrik tahu...</td>\n",
              "      <td>positive</td>\n",
              "    </tr>\n",
              "    <tr>\n",
              "      <th>1</th>\n",
              "      <td>mohon ulama lurus dan k212 mmbri hujjah partai...</td>\n",
              "      <td>neutral</td>\n",
              "    </tr>\n",
              "    <tr>\n",
              "      <th>2</th>\n",
              "      <td>lokasi strategis di jalan sumatera bandung . t...</td>\n",
              "      <td>positive</td>\n",
              "    </tr>\n",
              "    <tr>\n",
              "      <th>3</th>\n",
              "      <td>betapa bahagia nya diri ini saat unboxing pake...</td>\n",
              "      <td>positive</td>\n",
              "    </tr>\n",
              "    <tr>\n",
              "      <th>4</th>\n",
              "      <td>duh . jadi mahasiswa jangan sombong dong . kas...</td>\n",
              "      <td>negative</td>\n",
              "    </tr>\n",
              "    <tr>\n",
              "      <th>...</th>\n",
              "      <td>...</td>\n",
              "      <td>...</td>\n",
              "    </tr>\n",
              "    <tr>\n",
              "      <th>10995</th>\n",
              "      <td>tidak kecewa</td>\n",
              "      <td>positive</td>\n",
              "    </tr>\n",
              "    <tr>\n",
              "      <th>10996</th>\n",
              "      <td>enak rasa masakan nya apalagi kepiting yang me...</td>\n",
              "      <td>positive</td>\n",
              "    </tr>\n",
              "    <tr>\n",
              "      <th>10997</th>\n",
              "      <td>hormati partai-partai yang telah berkoalisi</td>\n",
              "      <td>neutral</td>\n",
              "    </tr>\n",
              "    <tr>\n",
              "      <th>10998</th>\n",
              "      <td>pagi pagi di tol pasteur sudah macet parah , b...</td>\n",
              "      <td>negative</td>\n",
              "    </tr>\n",
              "    <tr>\n",
              "      <th>10999</th>\n",
              "      <td>meskipun sering belanja ke yogya di riau junct...</td>\n",
              "      <td>positive</td>\n",
              "    </tr>\n",
              "  </tbody>\n",
              "</table>\n",
              "<p>11000 rows × 2 columns</p>\n",
              "</div>\n",
              "      <button class=\"colab-df-convert\" onclick=\"convertToInteractive('df-25dc0ebd-94ea-4f8d-995c-3818d1abe13d')\"\n",
              "              title=\"Convert this dataframe to an interactive table.\"\n",
              "              style=\"display:none;\">\n",
              "        \n",
              "  <svg xmlns=\"http://www.w3.org/2000/svg\" height=\"24px\"viewBox=\"0 0 24 24\"\n",
              "       width=\"24px\">\n",
              "    <path d=\"M0 0h24v24H0V0z\" fill=\"none\"/>\n",
              "    <path d=\"M18.56 5.44l.94 2.06.94-2.06 2.06-.94-2.06-.94-.94-2.06-.94 2.06-2.06.94zm-11 1L8.5 8.5l.94-2.06 2.06-.94-2.06-.94L8.5 2.5l-.94 2.06-2.06.94zm10 10l.94 2.06.94-2.06 2.06-.94-2.06-.94-.94-2.06-.94 2.06-2.06.94z\"/><path d=\"M17.41 7.96l-1.37-1.37c-.4-.4-.92-.59-1.43-.59-.52 0-1.04.2-1.43.59L10.3 9.45l-7.72 7.72c-.78.78-.78 2.05 0 2.83L4 21.41c.39.39.9.59 1.41.59.51 0 1.02-.2 1.41-.59l7.78-7.78 2.81-2.81c.8-.78.8-2.07 0-2.86zM5.41 20L4 18.59l7.72-7.72 1.47 1.35L5.41 20z\"/>\n",
              "  </svg>\n",
              "      </button>\n",
              "      \n",
              "  <style>\n",
              "    .colab-df-container {\n",
              "      display:flex;\n",
              "      flex-wrap:wrap;\n",
              "      gap: 12px;\n",
              "    }\n",
              "\n",
              "    .colab-df-convert {\n",
              "      background-color: #E8F0FE;\n",
              "      border: none;\n",
              "      border-radius: 50%;\n",
              "      cursor: pointer;\n",
              "      display: none;\n",
              "      fill: #1967D2;\n",
              "      height: 32px;\n",
              "      padding: 0 0 0 0;\n",
              "      width: 32px;\n",
              "    }\n",
              "\n",
              "    .colab-df-convert:hover {\n",
              "      background-color: #E2EBFA;\n",
              "      box-shadow: 0px 1px 2px rgba(60, 64, 67, 0.3), 0px 1px 3px 1px rgba(60, 64, 67, 0.15);\n",
              "      fill: #174EA6;\n",
              "    }\n",
              "\n",
              "    [theme=dark] .colab-df-convert {\n",
              "      background-color: #3B4455;\n",
              "      fill: #D2E3FC;\n",
              "    }\n",
              "\n",
              "    [theme=dark] .colab-df-convert:hover {\n",
              "      background-color: #434B5C;\n",
              "      box-shadow: 0px 1px 3px 1px rgba(0, 0, 0, 0.15);\n",
              "      filter: drop-shadow(0px 1px 2px rgba(0, 0, 0, 0.3));\n",
              "      fill: #FFFFFF;\n",
              "    }\n",
              "  </style>\n",
              "\n",
              "      <script>\n",
              "        const buttonEl =\n",
              "          document.querySelector('#df-25dc0ebd-94ea-4f8d-995c-3818d1abe13d button.colab-df-convert');\n",
              "        buttonEl.style.display =\n",
              "          google.colab.kernel.accessAllowed ? 'block' : 'none';\n",
              "\n",
              "        async function convertToInteractive(key) {\n",
              "          const element = document.querySelector('#df-25dc0ebd-94ea-4f8d-995c-3818d1abe13d');\n",
              "          const dataTable =\n",
              "            await google.colab.kernel.invokeFunction('convertToInteractive',\n",
              "                                                     [key], {});\n",
              "          if (!dataTable) return;\n",
              "\n",
              "          const docLinkHtml = 'Like what you see? Visit the ' +\n",
              "            '<a target=\"_blank\" href=https://colab.research.google.com/notebooks/data_table.ipynb>data table notebook</a>'\n",
              "            + ' to learn more about interactive tables.';\n",
              "          element.innerHTML = '';\n",
              "          dataTable['output_type'] = 'display_data';\n",
              "          await google.colab.output.renderOutput(dataTable, element);\n",
              "          const docLink = document.createElement('div');\n",
              "          docLink.innerHTML = docLinkHtml;\n",
              "          element.appendChild(docLink);\n",
              "        }\n",
              "      </script>\n",
              "    </div>\n",
              "  </div>\n",
              "  "
            ]
          },
          "metadata": {},
          "execution_count": 3
        }
      ],
      "source": [
        "df = pd.read_csv('/content/drive/MyDrive/train_preprocess.tsv.txt',sep='\\t', names= ['Kalimat','label'])\n",
        "df"
      ]
    },
    {
      "cell_type": "markdown",
      "id": "87a14357",
      "metadata": {
        "id": "87a14357"
      },
      "source": [
        "## drop data yang duplicate"
      ]
    },
    {
      "cell_type": "code",
      "execution_count": null,
      "id": "36335e20",
      "metadata": {
        "colab": {
          "base_uri": "https://localhost:8080/"
        },
        "id": "36335e20",
        "outputId": "aed2e029-a17b-46d6-8770-23514896c0ea"
      },
      "outputs": [
        {
          "output_type": "execute_result",
          "data": {
            "text/plain": [
              "67"
            ]
          },
          "metadata": {},
          "execution_count": 4
        }
      ],
      "source": [
        "df.duplicated().sum()"
      ]
    },
    {
      "cell_type": "code",
      "execution_count": null,
      "id": "081c8e1e",
      "metadata": {
        "colab": {
          "base_uri": "https://localhost:8080/"
        },
        "id": "081c8e1e",
        "outputId": "d7c4eff9-13cf-41b9-c352-c78ed374a90f"
      },
      "outputs": [
        {
          "output_type": "execute_result",
          "data": {
            "text/plain": [
              "0"
            ]
          },
          "metadata": {},
          "execution_count": 5
        }
      ],
      "source": [
        "df = df.drop_duplicates()\n",
        "df.duplicated().sum()"
      ]
    },
    {
      "cell_type": "code",
      "execution_count": null,
      "id": "fa32213b",
      "metadata": {
        "colab": {
          "base_uri": "https://localhost:8080/"
        },
        "id": "fa32213b",
        "outputId": "b82b9c18-1f9f-4a73-cc8f-c3423548f201"
      },
      "outputs": [
        {
          "output_type": "execute_result",
          "data": {
            "text/plain": [
              "(10933, 2)"
            ]
          },
          "metadata": {},
          "execution_count": 6
        }
      ],
      "source": [
        "df.shape"
      ]
    },
    {
      "cell_type": "code",
      "source": [
        "df.isnull().sum()"
      ],
      "metadata": {
        "colab": {
          "base_uri": "https://localhost:8080/"
        },
        "id": "O91L7gUxzUUT",
        "outputId": "920ec6b7-3b21-4e50-8f17-f32c28a33e29"
      },
      "id": "O91L7gUxzUUT",
      "execution_count": null,
      "outputs": [
        {
          "output_type": "execute_result",
          "data": {
            "text/plain": [
              "Kalimat    0\n",
              "label      0\n",
              "dtype: int64"
            ]
          },
          "metadata": {},
          "execution_count": 7
        }
      ]
    },
    {
      "cell_type": "code",
      "execution_count": null,
      "id": "641ead83",
      "metadata": {
        "colab": {
          "base_uri": "https://localhost:8080/"
        },
        "id": "641ead83",
        "outputId": "4c0329d1-39fa-41e2-a4e4-4792bb4c6028"
      },
      "outputs": [
        {
          "output_type": "execute_result",
          "data": {
            "text/plain": [
              "positive    6383\n",
              "negative    3412\n",
              "neutral     1138\n",
              "Name: label, dtype: int64"
            ]
          },
          "metadata": {},
          "execution_count": 8
        }
      ],
      "source": [
        "df.label.value_counts()"
      ]
    },
    {
      "cell_type": "markdown",
      "id": "f6979812",
      "metadata": {
        "id": "f6979812"
      },
      "source": [
        "# Visualisasi data training yang belum di cleansing menggunakan wordcloud"
      ]
    },
    {
      "cell_type": "code",
      "execution_count": null,
      "id": "0fa57140",
      "metadata": {
        "colab": {
          "base_uri": "https://localhost:8080/",
          "height": 198
        },
        "id": "0fa57140",
        "outputId": "21f224c8-24d9-4b71-ad82-6b3af0613d89"
      },
      "outputs": [
        {
          "output_type": "display_data",
          "data": {
            "text/plain": [
              "<Figure size 432x288 with 1 Axes>"
            ],
            "image/png": "[encoded data removed]"
          },
          "metadata": {
            "needs_background": "light"
          }
        }
      ],
      "source": [
        "# Visualisasi Wordcloud\n",
        "from wordcloud import WordCloud\n",
        "text =' '.join(df['Kalimat'])\n",
        "wordcloud = WordCloud().generate(text)\n",
        "\n",
        "# Generate plot\n",
        "plt.imshow(wordcloud)\n",
        "plt.axis(\"off\")\n",
        "plt.show()"
      ]
    },
    {
      "cell_type": "markdown",
      "id": "2778cd66",
      "metadata": {
        "id": "2778cd66"
      },
      "source": [
        "## Melakukan  Cleansing data "
      ]
    },
    {
      "cell_type": "code",
      "execution_count": null,
      "id": "63f09676",
      "metadata": {
        "id": "63f09676"
      },
      "outputs": [],
      "source": [
        "### text normalization\n",
        "def regex(text):\n",
        "    text = re.sub('k212',' ', text)\n",
        "    text = re.sub('USER',' ', text) #Remove USER\n",
        "    text = re.sub('URL', ' ', text) #Remove URL\n",
        "    text = re.sub(r'\\\\n+', ' ', text) #Remove \\n\n",
        "    text = re.sub(r'https\\S+', ' ', text) #Remove hppts\n",
        "    text = re.sub(r'\\\\x[A-Za-z0-9./]+', ' ', text) #Remove \\x96 ect\n",
        "    text = re.sub('#[A-Za-z0-9./]+',' ', text) #Remove hastag\n",
        "    text = re.sub(' +',' ', text) #Remove extra space\n",
        "    text = text.lower() #Lowercase text\n",
        "    text = re.sub(r'[^a-zA-Z0-9]',' ', text) #Remove non alpha numeric\n",
        "    return text"
      ]
    },
    {
      "cell_type": "markdown",
      "id": "af6fc68c",
      "metadata": {
        "id": "af6fc68c"
      },
      "source": [
        "### Menghilangkan kata alay"
      ]
    },
    {
      "cell_type": "code",
      "execution_count": null,
      "id": "e256e477",
      "metadata": {
        "id": "e256e477"
      },
      "outputs": [],
      "source": [
        "### text normalization\n",
        "alay_dict = pd.read_csv('/content/drive/MyDrive/new_kamusalay.csv', encoding='latin-1',header=None)\n",
        "alay_dict = alay_dict.rename(columns={0: 'Original', 1: 'Arti'})\n",
        "def normalize_alay(text):\n",
        "  alay_dict_map = dict(zip(alay_dict['Original'], alay_dict['Arti']))\n",
        "  return ' '.join([alay_dict_map[word] if word in alay_dict_map else word for word in text.split(' ')])"
      ]
    },
    {
      "cell_type": "code",
      "execution_count": null,
      "id": "ad1b3cd7",
      "metadata": {
        "colab": {
          "base_uri": "https://localhost:8080/",
          "height": 206
        },
        "id": "ad1b3cd7",
        "outputId": "c632eb67-ad22-42ae-fd56-2ed674eeea16"
      },
      "outputs": [
        {
          "output_type": "execute_result",
          "data": {
            "text/plain": [
              "              Original                      Arti\n",
              "0  anakjakartaasikasik  anak jakarta asyik asyik\n",
              "1         pakcikdahtua         pak cik sudah tua\n",
              "2       pakcikmudalagi         pak cik muda lagi\n",
              "3          t3tapjokowi              tetap jokowi\n",
              "4                   3x                 tiga kali"
            ],
            "text/html": [
              "\n",
              "  <div id=\"df-01700d95-7df1-41c4-ac12-410c221f7e7c\">\n",
              "    <div class=\"colab-df-container\">\n",
              "      <div>\n",
              "<style scoped>\n",
              "    .dataframe tbody tr th:only-of-type {\n",
              "        vertical-align: middle;\n",
              "    }\n",
              "\n",
              "    .dataframe tbody tr th {\n",
              "        vertical-align: top;\n",
              "    }\n",
              "\n",
              "    .dataframe thead th {\n",
              "        text-align: right;\n",
              "    }\n",
              "</style>\n",
              "<table border=\"1\" class=\"dataframe\">\n",
              "  <thead>\n",
              "    <tr style=\"text-align: right;\">\n",
              "      <th></th>\n",
              "      <th>Original</th>\n",
              "      <th>Arti</th>\n",
              "    </tr>\n",
              "  </thead>\n",
              "  <tbody>\n",
              "    <tr>\n",
              "      <th>0</th>\n",
              "      <td>anakjakartaasikasik</td>\n",
              "      <td>anak jakarta asyik asyik</td>\n",
              "    </tr>\n",
              "    <tr>\n",
              "      <th>1</th>\n",
              "      <td>pakcikdahtua</td>\n",
              "      <td>pak cik sudah tua</td>\n",
              "    </tr>\n",
              "    <tr>\n",
              "      <th>2</th>\n",
              "      <td>pakcikmudalagi</td>\n",
              "      <td>pak cik muda lagi</td>\n",
              "    </tr>\n",
              "    <tr>\n",
              "      <th>3</th>\n",
              "      <td>t3tapjokowi</td>\n",
              "      <td>tetap jokowi</td>\n",
              "    </tr>\n",
              "    <tr>\n",
              "      <th>4</th>\n",
              "      <td>3x</td>\n",
              "      <td>tiga kali</td>\n",
              "    </tr>\n",
              "  </tbody>\n",
              "</table>\n",
              "</div>\n",
              "      <button class=\"colab-df-convert\" onclick=\"convertToInteractive('df-01700d95-7df1-41c4-ac12-410c221f7e7c')\"\n",
              "              title=\"Convert this dataframe to an interactive table.\"\n",
              "              style=\"display:none;\">\n",
              "        \n",
              "  <svg xmlns=\"http://www.w3.org/2000/svg\" height=\"24px\"viewBox=\"0 0 24 24\"\n",
              "       width=\"24px\">\n",
              "    <path d=\"M0 0h24v24H0V0z\" fill=\"none\"/>\n",
              "    <path d=\"M18.56 5.44l.94 2.06.94-2.06 2.06-.94-2.06-.94-.94-2.06-.94 2.06-2.06.94zm-11 1L8.5 8.5l.94-2.06 2.06-.94-2.06-.94L8.5 2.5l-.94 2.06-2.06.94zm10 10l.94 2.06.94-2.06 2.06-.94-2.06-.94-.94-2.06-.94 2.06-2.06.94z\"/><path d=\"M17.41 7.96l-1.37-1.37c-.4-.4-.92-.59-1.43-.59-.52 0-1.04.2-1.43.59L10.3 9.45l-7.72 7.72c-.78.78-.78 2.05 0 2.83L4 21.41c.39.39.9.59 1.41.59.51 0 1.02-.2 1.41-.59l7.78-7.78 2.81-2.81c.8-.78.8-2.07 0-2.86zM5.41 20L4 18.59l7.72-7.72 1.47 1.35L5.41 20z\"/>\n",
              "  </svg>\n",
              "      </button>\n",
              "      \n",
              "  <style>\n",
              "    .colab-df-container {\n",
              "      display:flex;\n",
              "      flex-wrap:wrap;\n",
              "      gap: 12px;\n",
              "    }\n",
              "\n",
              "    .colab-df-convert {\n",
              "      background-color: #E8F0FE;\n",
              "      border: none;\n",
              "      border-radius: 50%;\n",
              "      cursor: pointer;\n",
              "      display: none;\n",
              "      fill: #1967D2;\n",
              "      height: 32px;\n",
              "      padding: 0 0 0 0;\n",
              "      width: 32px;\n",
              "    }\n",
              "\n",
              "    .colab-df-convert:hover {\n",
              "      background-color: #E2EBFA;\n",
              "      box-shadow: 0px 1px 2px rgba(60, 64, 67, 0.3), 0px 1px 3px 1px rgba(60, 64, 67, 0.15);\n",
              "      fill: #174EA6;\n",
              "    }\n",
              "\n",
              "    [theme=dark] .colab-df-convert {\n",
              "      background-color: #3B4455;\n",
              "      fill: #D2E3FC;\n",
              "    }\n",
              "\n",
              "    [theme=dark] .colab-df-convert:hover {\n",
              "      background-color: #434B5C;\n",
              "      box-shadow: 0px 1px 3px 1px rgba(0, 0, 0, 0.15);\n",
              "      filter: drop-shadow(0px 1px 2px rgba(0, 0, 0, 0.3));\n",
              "      fill: #FFFFFF;\n",
              "    }\n",
              "  </style>\n",
              "\n",
              "      <script>\n",
              "        const buttonEl =\n",
              "          document.querySelector('#df-01700d95-7df1-41c4-ac12-410c221f7e7c button.colab-df-convert');\n",
              "        buttonEl.style.display =\n",
              "          google.colab.kernel.accessAllowed ? 'block' : 'none';\n",
              "\n",
              "        async function convertToInteractive(key) {\n",
              "          const element = document.querySelector('#df-01700d95-7df1-41c4-ac12-410c221f7e7c');\n",
              "          const dataTable =\n",
              "            await google.colab.kernel.invokeFunction('convertToInteractive',\n",
              "                                                     [key], {});\n",
              "          if (!dataTable) return;\n",
              "\n",
              "          const docLinkHtml = 'Like what you see? Visit the ' +\n",
              "            '<a target=\"_blank\" href=https://colab.research.google.com/notebooks/data_table.ipynb>data table notebook</a>'\n",
              "            + ' to learn more about interactive tables.';\n",
              "          element.innerHTML = '';\n",
              "          dataTable['output_type'] = 'display_data';\n",
              "          await google.colab.output.renderOutput(dataTable, element);\n",
              "          const docLink = document.createElement('div');\n",
              "          docLink.innerHTML = docLinkHtml;\n",
              "          element.appendChild(docLink);\n",
              "        }\n",
              "      </script>\n",
              "    </div>\n",
              "  </div>\n",
              "  "
            ]
          },
          "metadata": {},
          "execution_count": 12
        }
      ],
      "source": [
        "alay_dict.head()"
      ]
    },
    {
      "cell_type": "markdown",
      "id": "3ffc2e4c",
      "metadata": {
        "id": "3ffc2e4c"
      },
      "source": [
        "### Menghilangkan imbuhan "
      ]
    },
    {
      "cell_type": "code",
      "source": [
        "pip install sastrawi"
      ],
      "metadata": {
        "colab": {
          "base_uri": "https://localhost:8080/"
        },
        "id": "syYDAJIrS3ag",
        "outputId": "fb5f0756-6192-4870-bdce-461961699025"
      },
      "id": "syYDAJIrS3ag",
      "execution_count": null,
      "outputs": [
        {
          "output_type": "stream",
          "name": "stdout",
          "text": [
            "Looking in indexes: https://pypi.org/simple, https://us-python.pkg.dev/colab-wheels/public/simple/\n",
            "Collecting sastrawi\n",
            "  Downloading Sastrawi-1.0.1-py2.py3-none-any.whl (209 kB)\n",
            "\u001b[2K     \u001b[90m━━━━━━━━━━━━━━━━━━━━━━━━━━━━━━━━━━━━━━━\u001b[0m \u001b[32m209.7/209.7 KB\u001b[0m \u001b[31m4.5 MB/s\u001b[0m eta \u001b[36m0:00:00\u001b[0m\n",
            "\u001b[?25hInstalling collected packages: sastrawi\n",
            "Successfully installed sastrawi-1.0.1\n"
          ]
        }
      ]
    },
    {
      "cell_type": "code",
      "execution_count": null,
      "id": "98dae528",
      "metadata": {
        "id": "98dae528"
      },
      "outputs": [],
      "source": [
        "from Sastrawi.Stemmer.StemmerFactory import StemmerFactory\n",
        "from nltk.tokenize import TweetTokenizer\n",
        "from nltk.corpus import stopwords \n",
        "\n",
        "stem = StemmerFactory()\n",
        "stemmer = stem.create_stemmer()"
      ]
    },
    {
      "cell_type": "code",
      "execution_count": null,
      "id": "3f29c534",
      "metadata": {
        "id": "3f29c534"
      },
      "outputs": [],
      "source": [
        "def stemming(text):\n",
        "    return stemmer.stem(text)"
      ]
    },
    {
      "cell_type": "markdown",
      "id": "bb6a8aad",
      "metadata": {
        "id": "bb6a8aad"
      },
      "source": [
        "### Menghilangkan kata yang tidak bermakna"
      ]
    },
    {
      "cell_type": "code",
      "execution_count": null,
      "id": "90f55e35",
      "metadata": {
        "colab": {
          "base_uri": "https://localhost:8080/"
        },
        "id": "90f55e35",
        "outputId": "3255f7bb-3d25-4b23-95cf-62f64a6a540a"
      },
      "outputs": [
        {
          "output_type": "stream",
          "name": "stderr",
          "text": [
            "[nltk_data] Downloading package stopwords to /root/nltk_data...\n",
            "[nltk_data]   Unzipping corpora/stopwords.zip.\n"
          ]
        }
      ],
      "source": [
        "import nltk\n",
        "nltk.download('stopwords')\n",
        "from nltk.corpus import stopwords as stopwords_scratch\n",
        "list_stopwords= stopwords_scratch.words('indonesian')\n",
        "list_stopwords.extend(['sih','nya', 'iya', 'nih', 'biar', 'tau', 'kayak', 'banget','ya','gue','rt','RT','amp'])\n",
        "stopwords=list_stopwords"
      ]
    },
    {
      "cell_type": "code",
      "source": [
        "#remove words that are in NLTK stopwords list\n",
        "not_stopwords = {'tidak'} \n",
        "final_stop_words = set([word for word in stopwords if word not in not_stopwords])\n",
        "\n",
        "print(final_stop_words)"
      ],
      "metadata": {
        "colab": {
          "base_uri": "https://localhost:8080/"
        },
        "id": "26y0uW4Jz4QA",
        "outputId": "980a5618-ec09-44d5-be0b-a60ca9192239"
      },
      "id": "26y0uW4Jz4QA",
      "execution_count": null,
      "outputs": [
        {
          "output_type": "stream",
          "name": "stdout",
          "text": [
            "{'antara', 'kelihatan', 'lagi', 'inikah', 'kelima', 'semata-mata', 'dipersoalkan', 'bolehlah', 'bilakah', 'menyangkut', 'tiba', 'terdahulu', 'mengungkapkan', 'dalam', 'kamulah', 'semisal', 'menegaskan', 'sekurang-kurangnya', 'turut', 'ikut', 'banyak', 'yakni', 'antar', 'jadilah', 'meskipun', 'ditandaskan', 'menanti-nanti', 'seluruh', 'masih', 'tentang', 'sejauh', 'kalaulah', 'ditunjukkan', 'akankah', 'katanya', 'menyiapkan', 'diibaratkannya', 'seseorang', 'termasuk', 'bagaikan', 'bersama', 'mempersoalkan', 'justru', 'RT', 'setiap', 'sebagian', 'harus', 'memihak', 'dua', 'dilihat', 'tengah', 'awalnya', 'terus', 'sekalipun', 'depan', 'menanyakan', 'menanya', 'dikira', 'guna', 'aku', 'haruslah', 'disebut', 'diingatkan', 'segalanya', 'sempat', 'mana', 'jawaban', 'terasa', 'sebagainya', 'berakhirlah', 'segera', 'karenanya', 'ini', 'lah', 'manakala', 'selanjutnya', 'kelamaan', 'sering', 'masihkah', 'bawah', 'ucapnya', 'bagaimanapun', 'masing-masing', 'saya', 'tetap', 'se', 'namun', 'dan', 'misalkan', 'rasa', 'artinya', 'kitalah', 'bagaimana', 'setibanya', 'wong', 'tau', 'sehingga', 'gue', 'menuturkan', 'berjumlah', 'umumnya', 'asal', 'saat', 'enggaknya', 'menginginkan', 'semampunya', 'sebesar', 'paling', 'melihat', 'tempat', 'merekalah', 'bisa', 'semata', 'keseluruhan', 'meski', 'kesampaian', 'khususnya', 'jelasnya', 'tersebutlah', 'selama-lamanya', 'suatu', 'ya', 'sebetulnya', 'seharusnya', 'dikarenakan', 'penting', 'teringat', 'hari', 'pertama-tama', 'mampukah', 'terlihat', 'benarkah', 'sela', 'usai', 'disampaikan', 'sampai-sampai', 'keduanya', 'tandas', 'demikianlah', 'setelah', 'tidaklah', 'mereka', 'demi', 'sampaikan', 'keluar', 'keadaan', 'tegas', 'dimulai', 'demikian', 'kita', 'mungkin', 'jawabnya', 'ibaratnya', 'mengapa', 'hendaklah', 'asalkan', 'lama', 'kecil', 'adalah', 'sesekali', 'dong', 'nah', 'dituturkannya', 'percuma', 'dimaksudkannya', 'tertuju', 'sinilah', 'tadinya', 'bermaksud', 'teringat-ingat', 'dijelaskan', 'karena', 'sebaik-baiknya', 'terhadap', 'bung', 'bekerja', 'bertanya-tanya', 'sebaliknya', 'sekitarnya', 'dulu', 'dapat', 'diperbuatnya', 'sedemikian', 'berapapun', 'mirip', 'bersiap', 'setiba', 'nyaris', 'diibaratkan', 'menjadi', 'pula', 'ingat', 'sebelumnya', 'kemungkinan', 'maka', 'pada', 'sebegitu', 'waktunya', 'lalu', 'meminta', 'jumlahnya', 'kapankah', 'kok', 'per', 'mengetahui', 'meyakini', 'bermacam', 'tetapi', 'jauh', 'pukul', 'meyakinkan', 'sejenak', 'diantaranya', 'tersampaikan', 'memperbuat', 'ingat-ingat', 'berkata', 'keinginan', 'pak', 'terlalu', 'dirinya', 'setinggi', 'dimisalkan', 'dahulu', 'didapat', 'apatah', 'sesudah', 'naik', 'toh', 'dikatakan', 'jadi', 'apaan', 'agak', 'berikut', 'dia', 'sedikitnya', 'terkira', 'dibuatnya', 'enggak', 'jelaskan', 'menantikan', 'menuju', 'seenaknya', 'seketika', 'memungkinkan', 'sekurangnya', 'begitukah', 'biasa', 'persoalan', 'seluruhnya', 'banget', 'dini', 'malahan', 'secara', 'minta', 'panjang', 'dengan', 'ia', 'kayak', 'semaunya', 'buat', 'menunjuk', 'jadinya', 'diketahui', 'soal', 'ditunjuk', 'sebutnya', 'nanti', 'keterlaluan', 'sayalah', 'merupakan', 'begini', 'dituturkan', 'ditambahkan', 'akhirnya', 'sesudahnya', 'berakhir', 'memastikan', 'dari', 'rata', 'menyebutkan', 'atas', 'dilalui', 'mengatakannya', 'sedangkan', 'supaya', 'akhir', 'seorang', 'kenapa', 'makin', 'wahai', 'sebegini', 'diinginkan', 'pasti', 'umum', 'sebabnya', 'berupa', 'hendak', 'satu', 'keseluruhannya', 'diungkapkan', 'kemudian', 'bagi', 'lagian', 'semakin', 'kinilah', 'mulailah', 'memang', 'sesuatu', 'bagian', 'para', 'sendirinya', 'berakhirnya', 'entahlah', 'mula', 'kan', 'kalaupun', 'sebaik', 'semasih', 'diakhiri', 'ternyata', 'bolehkah', 'rasanya', 'bagaimanakah', 'setengah', 'sana', 'bakalan', 'seusai', 'sekitar', 'melakukan', 'biasanya', 'mempertanyakan', 'serupa', 'sebut', 'maupun', 'sepihak', 'terdapat', 'mempunyai', 'tiga', 'sepantasnyalah', 'sedikit', 'kedua', 'dimintai', 'dibuat', 'ditanyakan', 'menunjukkan', 'andalah', 'dikerjakan', 'berbagai', 'kamu', 'kasus', 'nyatanya', 'menandaskan', 'diberikannya', 'berlangsung', 'jika', 'disini', 'melihatnya', 'melalui', 'diucapkan', 'memberikan', 'diberi', 'yakin', 'malah', 'entah', 'kiranya', 'mempergunakan', 'adapun', 'ditunjuki', 'seterusnya', 'menunjuknya', 'bukanlah', 'kelihatannya', 'sekadarnya', 'pertanyaan', 'atau', 'mempersiapkan', 'bermacam-macam', 'begitu', 'mengenai', 'belakangan', 'daripada', 'mendapat', 'sendirian', 'siap', 'ibu', 'jumlah', 'oleh', 'dimaksudkan', 'dimulailah', 'berujar', 'dimulainya', 'jawab', 'kala', 'disebutkannya', 'dijelaskannya', 'bahwasanya', 'apakah', 'menyeluruh', 'tampak', 'dimaksud', 'terjadinya', 'mengibaratkan', 'harusnya', 'ataupun', 'seolah-olah', 'akan', 'menaiki', 'betul', 'hanya', 'katakanlah', 'belum', 'usah', 'sekali', 'berlebihan', 'setempat', 'sekarang', 'seberapa', 'kami', 'lewat', 'masalahnya', 'digunakan', 'bahwa', 'menunjuki', 'secukupnya', 'tidakkah', 'mungkinkah', 'tentunya', 'misalnya', 'untuk', 'inginkan', 'baik', 'besar', 'dipastikan', 'diperlihatkan', 'diantara', 'pertanyakan', 'tanyanya', 'mendatangi', 'diperkirakan', 'sebab', 'itulah', 'sebuah', 'sesama', 'walaupun', 'ibaratkan', 'balik', 'ungkap', 'tahu', 'mendapatkan', 'terhadapnya', 'rt', 'tertentu', 'kalian', 'hendaknya', 'mau', 'padanya', 'tepat', 'mengingat', 'nya', 'ada', 'tambah', 'diperlukannya', 'sendiri', 'menambahkan', 'dikatakannya', 'diberikan', 'benar', 'diucapkannya', 'betulkah', 'caranya', 'tiba-tiba', 'sebenarnya', 'dipertanyakan', 'disinilah', 'ialah', 'katakan', 'semula', 'setidak-tidaknya', 'terlebih', 'itukah', 'terakhir', 'pentingnya', 'siapakah', 'tentulah', 'menyatakan', 'perlunya', 'dekat', 'telah', 'jelaslah', 'itu', 'cukup', 'olehnya', 'jangan', 'diperbuat', 'sebagaimana', 'memisalkan', 'sudahlah', 'kalau', 'bakal', 'sama-sama', 'tampaknya', 'bagai', 'hingga', 'lanjut', 'sebagai', 'mengira', 'biar', 'masa', 'bukannya', 'kini', 'di', 'memerlukan', 'sementara', 'menjawab', 'berikutnya', 'tahun', 'terbanyak', 'sebaiknya', 'mengucapkannya', 'apabila', 'kapan', 'sama', 'berkehendak', 'empat', 'diingat', 'lanjutnya', 'memperlihatkan', 'segala', 'berlainan', 'memberi', 'sedang', 'perlu', 'sekiranya', 'bukan', 'mengingatkan', 'mendatangkan', 'tadi', 'berturut', 'berarti', 'menggunakan', 'mengucapkan', 'pantas', 'punya', 'inginkah', 'mengerjakan', 'selain', 'menyampaikan', 'mendatang', 'terjadilah', 'sepertinya', 'beginian', 'antaranya', 'sewaktu', 'seingat', 'kembali', 'waduh', 'pun', 'siapapun', 'berturut-turut', 'bulan', 'sekadar', 'sejak', 'iya', 'sesaat', 'ibarat', 'bapak', 'seringnya', 'sudah', 'diketahuinya', 'tanyakan', 'bersama-sama', 'merasa', 'saja', 'hampir', 'berlalu', 'sesuatunya', 'lebih', 'ditanya', 'berawal', 'tandasnya', 'ucap', 'seperti', 'menanyai', 'selamanya', 'terjadi', 'ingin', 'diri', 'hal', 'sih', 'janganlah', 'sebutlah', 'setidaknya', 'awal', 'dimaksudnya', 'ditanyai', 'sepantasnya', 'tuturnya', 'yaitu', 'ketika', 'mengakhiri', 'apa', 'pertama', 'sepanjang', 'sangatlah', 'masalah', 'manalagi', 'lamanya', 'soalnya', 'tambahnya', 'nih', 'tersebut', 'mampu', 'cukupkah', 'boleh', 'sekaligus', 'memperkirakan', 'selaku', 'terdiri', 'semampu', 'bertanya', 'dijawab', 'berkali-kali', 'ditunjuknya', 'sebisanya', 'selama', 'walau', 'kepadanya', 'dipergunakan', 'tunjuk', 'saatnya', 'kapanpun', 'terutama', 'selalu', 'diakhirinya', 'bisakah', 'pihak', 'bila', 'didatangkan', 'serta', 'tanya', 'waktu', 'bersiap-siap', 'ujarnya', 'semacam', 'diminta', 'nantinya', 'sajalah', 'kebetulan', 'bahkan', 'berikan', 'saling', 'semuanya', 'diperlukan', 'datang', 'sesampai', 'jangankan', 'sini', 'yang', 'sebelum', 'beginilah', 'kamilah', 'rupanya', 'berapa', 'wah', 'begitupun', 'pernah', 'bukankah', 'menghendaki', 'cukuplah', 'cuma', 'baru', 'tegasnya', 'jikalau', 'macam', 'masing', 'anda', 'berkenaan', 'begitulah', 'ke', 'inilah', 'padahal', 'membuat', 'ataukah', 'ujar', 'kurang', 'sesegera', 'hanyalah', 'disebutkan', 'ditujukan', 'melainkan', 'seperlunya', 'siapa', 'juga', 'tak', 'semisalnya', 'pastilah', 'mulanya', 'tutur', 'tiap', 'berdatangan', 'beri', 'tentu', 'makanya', 'berapalah', 'sangat', 'menurut', 'jelas', 'belakang', 'apalagi', 'berkeinginan', 'bertutur', 'kira', 'misal', 'sampai', 'sudahkah', 'lain', 'kata', 'sambil', 'agar', 'kemungkinannya', 'berapakah', 'amat', 'akhiri', 'dialah', 'sebanyak', 'tinggi', 'ungkapnya', 'luar', 'dimungkinkan', 'menjelaskan', 'beberapa', 'pihaknya', 'memulai', 'sekalian', 'semua', 'tapi', 'agaknya', 'ditegaskan', 'ditunjukkannya', 'lainnya', 'sekali-kali', 'bermula', 'mulai', 'sejumlah', 'mengatakan', 'belumlah', 'benarlah', 'amatlah', 'kira-kira', 'perlukah', 'semasa', 'berada', 'beginikah', 'gunakan', 'kepada', 'lima', 'memintakan', 'dilakukan', 'adanya', 'amp', 'menanti', 'mengibaratkannya', 'dipunyai', 'sekecil', 'seolah', 'tanpa', 'akulah', 'cara'}\n"
          ]
        }
      ]
    },
    {
      "cell_type": "code",
      "execution_count": null,
      "id": "5608e98d",
      "metadata": {
        "id": "5608e98d"
      },
      "outputs": [],
      "source": [
        "def remove_stopword(text):\n",
        "    tokenizer = TweetTokenizer(preserve_case=False, strip_handles=True, reduce_len=True)\n",
        "    tweet_tokens = tokenizer.tokenize(text)\n",
        " \n",
        "    tweets_clean = []    \n",
        "    for word in tweet_tokens:\n",
        "        if (word not in final_stop_words): # remove punctuation\n",
        "            stem_word = stemmer.stem(word) # stemming word\n",
        "            tweets_clean.append(stem_word)\n",
        "    return \" \".join(tweets_clean)"
      ]
    },
    {
      "cell_type": "code",
      "execution_count": null,
      "id": "e3fcdc05",
      "metadata": {
        "id": "e3fcdc05"
      },
      "outputs": [],
      "source": [
        "def cleansing(text):\n",
        "    text = regex(text)\n",
        "    text = normalize_alay(text)\n",
        "    text = remove_stopword(text)\n",
        "    text = stemming(text)\n",
        "    return text"
      ]
    },
    {
      "cell_type": "code",
      "execution_count": null,
      "id": "3afa66be",
      "metadata": {
        "id": "3afa66be"
      },
      "outputs": [],
      "source": [
        "df['kalimat_clean']=df['Kalimat'].apply(cleansing)"
      ]
    },
    {
      "cell_type": "code",
      "execution_count": null,
      "id": "a96856d7",
      "metadata": {
        "colab": {
          "base_uri": "https://localhost:8080/",
          "height": 424
        },
        "id": "a96856d7",
        "outputId": "072e91ff-d64d-42fa-9dc9-503df0015eb2"
      },
      "outputs": [
        {
          "output_type": "execute_result",
          "data": {
            "text/plain": [
              "                                                 Kalimat     label  \\\n",
              "0      warung ini dimiliki oleh pengusaha pabrik tahu...  positive   \n",
              "1      mohon ulama lurus dan k212 mmbri hujjah partai...   neutral   \n",
              "2      lokasi strategis di jalan sumatera bandung . t...  positive   \n",
              "3      betapa bahagia nya diri ini saat unboxing pake...  positive   \n",
              "4      duh . jadi mahasiswa jangan sombong dong . kas...  negative   \n",
              "...                                                  ...       ...   \n",
              "10993  f - demokrat dorong upaya kemandirian energi n...   neutral   \n",
              "10994                                        tidak bosan  positive   \n",
              "10996  enak rasa masakan nya apalagi kepiting yang me...  positive   \n",
              "10998  pagi pagi di tol pasteur sudah macet parah , b...  negative   \n",
              "10999  meskipun sering belanja ke yogya di riau junct...  positive   \n",
              "\n",
              "                                           kalimat_clean  \n",
              "0      warung milik usaha pabrik puluh kenal putih ba...  \n",
              "1      mohon ulama lurus hujjah partai pilih suara is...  \n",
              "2      lokasi strategis jalan sumatra bandung nyaman ...  \n",
              "3      betapa bahagia unboxing paket barang bagus tet...  \n",
              "4      aduh mahasiswa sombong kasih kartu kuning ajar...  \n",
              "...                                                  ...  \n",
              "10993    f demokrat dorong upaya mandiri energi nasional  \n",
              "10994                                        tidak bosan  \n",
              "10996  enak masakan kepiting senang pilih kepiting se...  \n",
              "10998    pagi pagi tol pasteur macet parah bikin jengkel  \n",
              "10999  belanja yogyakarta riau junction kali lihat fo...  \n",
              "\n",
              "[10933 rows x 3 columns]"
            ],
            "text/html": [
              "\n",
              "  <div id=\"df-0c44651b-7828-440f-838e-8a1ca1ecb7eb\">\n",
              "    <div class=\"colab-df-container\">\n",
              "      <div>\n",
              "<style scoped>\n",
              "    .dataframe tbody tr th:only-of-type {\n",
              "        vertical-align: middle;\n",
              "    }\n",
              "\n",
              "    .dataframe tbody tr th {\n",
              "        vertical-align: top;\n",
              "    }\n",
              "\n",
              "    .dataframe thead th {\n",
              "        text-align: right;\n",
              "    }\n",
              "</style>\n",
              "<table border=\"1\" class=\"dataframe\">\n",
              "  <thead>\n",
              "    <tr style=\"text-align: right;\">\n",
              "      <th></th>\n",
              "      <th>Kalimat</th>\n",
              "      <th>label</th>\n",
              "      <th>kalimat_clean</th>\n",
              "    </tr>\n",
              "  </thead>\n",
              "  <tbody>\n",
              "    <tr>\n",
              "      <th>0</th>\n",
              "      <td>warung ini dimiliki oleh pengusaha pabrik tahu...</td>\n",
              "      <td>positive</td>\n",
              "      <td>warung milik usaha pabrik puluh kenal putih ba...</td>\n",
              "    </tr>\n",
              "    <tr>\n",
              "      <th>1</th>\n",
              "      <td>mohon ulama lurus dan k212 mmbri hujjah partai...</td>\n",
              "      <td>neutral</td>\n",
              "      <td>mohon ulama lurus hujjah partai pilih suara is...</td>\n",
              "    </tr>\n",
              "    <tr>\n",
              "      <th>2</th>\n",
              "      <td>lokasi strategis di jalan sumatera bandung . t...</td>\n",
              "      <td>positive</td>\n",
              "      <td>lokasi strategis jalan sumatra bandung nyaman ...</td>\n",
              "    </tr>\n",
              "    <tr>\n",
              "      <th>3</th>\n",
              "      <td>betapa bahagia nya diri ini saat unboxing pake...</td>\n",
              "      <td>positive</td>\n",
              "      <td>betapa bahagia unboxing paket barang bagus tet...</td>\n",
              "    </tr>\n",
              "    <tr>\n",
              "      <th>4</th>\n",
              "      <td>duh . jadi mahasiswa jangan sombong dong . kas...</td>\n",
              "      <td>negative</td>\n",
              "      <td>aduh mahasiswa sombong kasih kartu kuning ajar...</td>\n",
              "    </tr>\n",
              "    <tr>\n",
              "      <th>...</th>\n",
              "      <td>...</td>\n",
              "      <td>...</td>\n",
              "      <td>...</td>\n",
              "    </tr>\n",
              "    <tr>\n",
              "      <th>10993</th>\n",
              "      <td>f - demokrat dorong upaya kemandirian energi n...</td>\n",
              "      <td>neutral</td>\n",
              "      <td>f demokrat dorong upaya mandiri energi nasional</td>\n",
              "    </tr>\n",
              "    <tr>\n",
              "      <th>10994</th>\n",
              "      <td>tidak bosan</td>\n",
              "      <td>positive</td>\n",
              "      <td>tidak bosan</td>\n",
              "    </tr>\n",
              "    <tr>\n",
              "      <th>10996</th>\n",
              "      <td>enak rasa masakan nya apalagi kepiting yang me...</td>\n",
              "      <td>positive</td>\n",
              "      <td>enak masakan kepiting senang pilih kepiting se...</td>\n",
              "    </tr>\n",
              "    <tr>\n",
              "      <th>10998</th>\n",
              "      <td>pagi pagi di tol pasteur sudah macet parah , b...</td>\n",
              "      <td>negative</td>\n",
              "      <td>pagi pagi tol pasteur macet parah bikin jengkel</td>\n",
              "    </tr>\n",
              "    <tr>\n",
              "      <th>10999</th>\n",
              "      <td>meskipun sering belanja ke yogya di riau junct...</td>\n",
              "      <td>positive</td>\n",
              "      <td>belanja yogyakarta riau junction kali lihat fo...</td>\n",
              "    </tr>\n",
              "  </tbody>\n",
              "</table>\n",
              "<p>10933 rows × 3 columns</p>\n",
              "</div>\n",
              "      <button class=\"colab-df-convert\" onclick=\"convertToInteractive('df-0c44651b-7828-440f-838e-8a1ca1ecb7eb')\"\n",
              "              title=\"Convert this dataframe to an interactive table.\"\n",
              "              style=\"display:none;\">\n",
              "        \n",
              "  <svg xmlns=\"http://www.w3.org/2000/svg\" height=\"24px\"viewBox=\"0 0 24 24\"\n",
              "       width=\"24px\">\n",
              "    <path d=\"M0 0h24v24H0V0z\" fill=\"none\"/>\n",
              "    <path d=\"M18.56 5.44l.94 2.06.94-2.06 2.06-.94-2.06-.94-.94-2.06-.94 2.06-2.06.94zm-11 1L8.5 8.5l.94-2.06 2.06-.94-2.06-.94L8.5 2.5l-.94 2.06-2.06.94zm10 10l.94 2.06.94-2.06 2.06-.94-2.06-.94-.94-2.06-.94 2.06-2.06.94z\"/><path d=\"M17.41 7.96l-1.37-1.37c-.4-.4-.92-.59-1.43-.59-.52 0-1.04.2-1.43.59L10.3 9.45l-7.72 7.72c-.78.78-.78 2.05 0 2.83L4 21.41c.39.39.9.59 1.41.59.51 0 1.02-.2 1.41-.59l7.78-7.78 2.81-2.81c.8-.78.8-2.07 0-2.86zM5.41 20L4 18.59l7.72-7.72 1.47 1.35L5.41 20z\"/>\n",
              "  </svg>\n",
              "      </button>\n",
              "      \n",
              "  <style>\n",
              "    .colab-df-container {\n",
              "      display:flex;\n",
              "      flex-wrap:wrap;\n",
              "      gap: 12px;\n",
              "    }\n",
              "\n",
              "    .colab-df-convert {\n",
              "      background-color: #E8F0FE;\n",
              "      border: none;\n",
              "      border-radius: 50%;\n",
              "      cursor: pointer;\n",
              "      display: none;\n",
              "      fill: #1967D2;\n",
              "      height: 32px;\n",
              "      padding: 0 0 0 0;\n",
              "      width: 32px;\n",
              "    }\n",
              "\n",
              "    .colab-df-convert:hover {\n",
              "      background-color: #E2EBFA;\n",
              "      box-shadow: 0px 1px 2px rgba(60, 64, 67, 0.3), 0px 1px 3px 1px rgba(60, 64, 67, 0.15);\n",
              "      fill: #174EA6;\n",
              "    }\n",
              "\n",
              "    [theme=dark] .colab-df-convert {\n",
              "      background-color: #3B4455;\n",
              "      fill: #D2E3FC;\n",
              "    }\n",
              "\n",
              "    [theme=dark] .colab-df-convert:hover {\n",
              "      background-color: #434B5C;\n",
              "      box-shadow: 0px 1px 3px 1px rgba(0, 0, 0, 0.15);\n",
              "      filter: drop-shadow(0px 1px 2px rgba(0, 0, 0, 0.3));\n",
              "      fill: #FFFFFF;\n",
              "    }\n",
              "  </style>\n",
              "\n",
              "      <script>\n",
              "        const buttonEl =\n",
              "          document.querySelector('#df-0c44651b-7828-440f-838e-8a1ca1ecb7eb button.colab-df-convert');\n",
              "        buttonEl.style.display =\n",
              "          google.colab.kernel.accessAllowed ? 'block' : 'none';\n",
              "\n",
              "        async function convertToInteractive(key) {\n",
              "          const element = document.querySelector('#df-0c44651b-7828-440f-838e-8a1ca1ecb7eb');\n",
              "          const dataTable =\n",
              "            await google.colab.kernel.invokeFunction('convertToInteractive',\n",
              "                                                     [key], {});\n",
              "          if (!dataTable) return;\n",
              "\n",
              "          const docLinkHtml = 'Like what you see? Visit the ' +\n",
              "            '<a target=\"_blank\" href=https://colab.research.google.com/notebooks/data_table.ipynb>data table notebook</a>'\n",
              "            + ' to learn more about interactive tables.';\n",
              "          element.innerHTML = '';\n",
              "          dataTable['output_type'] = 'display_data';\n",
              "          await google.colab.output.renderOutput(dataTable, element);\n",
              "          const docLink = document.createElement('div');\n",
              "          docLink.innerHTML = docLinkHtml;\n",
              "          element.appendChild(docLink);\n",
              "        }\n",
              "      </script>\n",
              "    </div>\n",
              "  </div>\n",
              "  "
            ]
          },
          "metadata": {},
          "execution_count": 21
        }
      ],
      "source": [
        "df"
      ]
    },
    {
      "cell_type": "code",
      "execution_count": null,
      "id": "a79cc62a",
      "metadata": {
        "colab": {
          "base_uri": "https://localhost:8080/"
        },
        "id": "a79cc62a",
        "outputId": "f5b7dc2d-d408-429d-a9af-38e3d9b5fb59"
      },
      "outputs": [
        {
          "output_type": "execute_result",
          "data": {
            "text/plain": [
              "Kalimat          0\n",
              "label            0\n",
              "kalimat_clean    0\n",
              "dtype: int64"
            ]
          },
          "metadata": {},
          "execution_count": 22
        }
      ],
      "source": [
        "df.isna().sum() #cek data apakah masih ada yang missing value atau tidak"
      ]
    },
    {
      "cell_type": "markdown",
      "id": "42a4b198",
      "metadata": {
        "id": "42a4b198"
      },
      "source": [
        "## Visualisasi data cleansing menggukan wordcloud"
      ]
    },
    {
      "cell_type": "code",
      "execution_count": null,
      "id": "2ae0fe6c",
      "metadata": {
        "colab": {
          "base_uri": "https://localhost:8080/",
          "height": 248
        },
        "id": "2ae0fe6c",
        "outputId": "e728900b-24da-42a9-c9dd-d952e9785522"
      },
      "outputs": [
        {
          "output_type": "display_data",
          "data": {
            "text/plain": [
              "<Figure size 432x288 with 1 Axes>"
            ],
            "image/png": "[encoded data removed]"
          },
          "metadata": {
            "needs_background": "light"
          }
        }
      ],
      "source": [
        "# Visualisasi Wordcloud\n",
        "from PIL import Image\n",
        "import numpy as np\n",
        "from wordcloud import WordCloud\n",
        "\n",
        "text =' '.join(df['kalimat_clean'])\n",
        "mask = np.array(Image.open('/content/drive/MyDrive/twitter bird.jpeg'))\n",
        "wordcloud = WordCloud(stopwords=list_stopwords, width=2000,height=1000,\n",
        "               mask=mask, background_color=\"white\",\n",
        "               max_words=2000, max_font_size=256,\n",
        "               random_state=42).generate(text)\n",
        "\n",
        "# Generate plot\n",
        "plt.imshow(wordcloud, interpolation=\"bilinear\")\n",
        "plt.axis(\"off\")\n",
        "plt.show()"
      ]
    },
    {
      "cell_type": "markdown",
      "metadata": {
        "id": "2_jBPpWEhsDj"
      },
      "source": [
        "### Word in Positive Statement"
      ],
      "id": "2_jBPpWEhsDj"
    },
    {
      "cell_type": "code",
      "source": [
        "df_positive = df[df['label']==\"positive\"]\n",
        "df_positive"
      ],
      "metadata": {
        "colab": {
          "base_uri": "https://localhost:8080/",
          "height": 424
        },
        "id": "YR3ZCDtk_sVk",
        "outputId": "61f2421b-822c-4b1c-9108-5a2dbcdfbef7"
      },
      "id": "YR3ZCDtk_sVk",
      "execution_count": null,
      "outputs": [
        {
          "output_type": "execute_result",
          "data": {
            "text/plain": [
              "                                                 Kalimat     label  \\\n",
              "0      warung ini dimiliki oleh pengusaha pabrik tahu...  positive   \n",
              "2      lokasi strategis di jalan sumatera bandung . t...  positive   \n",
              "3      betapa bahagia nya diri ini saat unboxing pake...  positive   \n",
              "5      makanan beragam , harga makanan di food stall ...  positive   \n",
              "7      tempat unik , bagus buat foto , makanan enak ,...  positive   \n",
              "...                                                  ...       ...   \n",
              "10990  datang ke sini sore hari pakai baju agak tebal...  positive   \n",
              "10992  kalau memang jala nya sudah begitu terima saja...  positive   \n",
              "10994                                        tidak bosan  positive   \n",
              "10996  enak rasa masakan nya apalagi kepiting yang me...  positive   \n",
              "10999  meskipun sering belanja ke yogya di riau junct...  positive   \n",
              "\n",
              "                                           kalimat_clean  \n",
              "0      warung milik usaha pabrik puluh kenal putih ba...  \n",
              "2      lokasi strategis jalan sumatra bandung nyaman ...  \n",
              "3      betapa bahagia unboxing paket barang bagus tet...  \n",
              "5      makan agam harga makan food stall 10 kasir sua...  \n",
              "7      unik bagus foto makan enak pegawai ramah bersi...  \n",
              "...                                                  ...  \n",
              "10990  sore pakai baju tebal dingin kurang akses suli...  \n",
              "10992                                 jala terima ikhlas  \n",
              "10994                                        tidak bosan  \n",
              "10996  enak masakan kepiting senang pilih kepiting se...  \n",
              "10999  belanja yogyakarta riau junction kali lihat fo...  \n",
              "\n",
              "[6383 rows x 3 columns]"
            ],
            "text/html": [
              "\n",
              "  <div id=\"df-144f7805-cbce-4747-aa2d-711ae6969d7c\">\n",
              "    <div class=\"colab-df-container\">\n",
              "      <div>\n",
              "<style scoped>\n",
              "    .dataframe tbody tr th:only-of-type {\n",
              "        vertical-align: middle;\n",
              "    }\n",
              "\n",
              "    .dataframe tbody tr th {\n",
              "        vertical-align: top;\n",
              "    }\n",
              "\n",
              "    .dataframe thead th {\n",
              "        text-align: right;\n",
              "    }\n",
              "</style>\n",
              "<table border=\"1\" class=\"dataframe\">\n",
              "  <thead>\n",
              "    <tr style=\"text-align: right;\">\n",
              "      <th></th>\n",
              "      <th>Kalimat</th>\n",
              "      <th>label</th>\n",
              "      <th>kalimat_clean</th>\n",
              "    </tr>\n",
              "  </thead>\n",
              "  <tbody>\n",
              "    <tr>\n",
              "      <th>0</th>\n",
              "      <td>warung ini dimiliki oleh pengusaha pabrik tahu...</td>\n",
              "      <td>positive</td>\n",
              "      <td>warung milik usaha pabrik puluh kenal putih ba...</td>\n",
              "    </tr>\n",
              "    <tr>\n",
              "      <th>2</th>\n",
              "      <td>lokasi strategis di jalan sumatera bandung . t...</td>\n",
              "      <td>positive</td>\n",
              "      <td>lokasi strategis jalan sumatra bandung nyaman ...</td>\n",
              "    </tr>\n",
              "    <tr>\n",
              "      <th>3</th>\n",
              "      <td>betapa bahagia nya diri ini saat unboxing pake...</td>\n",
              "      <td>positive</td>\n",
              "      <td>betapa bahagia unboxing paket barang bagus tet...</td>\n",
              "    </tr>\n",
              "    <tr>\n",
              "      <th>5</th>\n",
              "      <td>makanan beragam , harga makanan di food stall ...</td>\n",
              "      <td>positive</td>\n",
              "      <td>makan agam harga makan food stall 10 kasir sua...</td>\n",
              "    </tr>\n",
              "    <tr>\n",
              "      <th>7</th>\n",
              "      <td>tempat unik , bagus buat foto , makanan enak ,...</td>\n",
              "      <td>positive</td>\n",
              "      <td>unik bagus foto makan enak pegawai ramah bersi...</td>\n",
              "    </tr>\n",
              "    <tr>\n",
              "      <th>...</th>\n",
              "      <td>...</td>\n",
              "      <td>...</td>\n",
              "      <td>...</td>\n",
              "    </tr>\n",
              "    <tr>\n",
              "      <th>10990</th>\n",
              "      <td>datang ke sini sore hari pakai baju agak tebal...</td>\n",
              "      <td>positive</td>\n",
              "      <td>sore pakai baju tebal dingin kurang akses suli...</td>\n",
              "    </tr>\n",
              "    <tr>\n",
              "      <th>10992</th>\n",
              "      <td>kalau memang jala nya sudah begitu terima saja...</td>\n",
              "      <td>positive</td>\n",
              "      <td>jala terima ikhlas</td>\n",
              "    </tr>\n",
              "    <tr>\n",
              "      <th>10994</th>\n",
              "      <td>tidak bosan</td>\n",
              "      <td>positive</td>\n",
              "      <td>tidak bosan</td>\n",
              "    </tr>\n",
              "    <tr>\n",
              "      <th>10996</th>\n",
              "      <td>enak rasa masakan nya apalagi kepiting yang me...</td>\n",
              "      <td>positive</td>\n",
              "      <td>enak masakan kepiting senang pilih kepiting se...</td>\n",
              "    </tr>\n",
              "    <tr>\n",
              "      <th>10999</th>\n",
              "      <td>meskipun sering belanja ke yogya di riau junct...</td>\n",
              "      <td>positive</td>\n",
              "      <td>belanja yogyakarta riau junction kali lihat fo...</td>\n",
              "    </tr>\n",
              "  </tbody>\n",
              "</table>\n",
              "<p>6383 rows × 3 columns</p>\n",
              "</div>\n",
              "      <button class=\"colab-df-convert\" onclick=\"convertToInteractive('df-144f7805-cbce-4747-aa2d-711ae6969d7c')\"\n",
              "              title=\"Convert this dataframe to an interactive table.\"\n",
              "              style=\"display:none;\">\n",
              "        \n",
              "  <svg xmlns=\"http://www.w3.org/2000/svg\" height=\"24px\"viewBox=\"0 0 24 24\"\n",
              "       width=\"24px\">\n",
              "    <path d=\"M0 0h24v24H0V0z\" fill=\"none\"/>\n",
              "    <path d=\"M18.56 5.44l.94 2.06.94-2.06 2.06-.94-2.06-.94-.94-2.06-.94 2.06-2.06.94zm-11 1L8.5 8.5l.94-2.06 2.06-.94-2.06-.94L8.5 2.5l-.94 2.06-2.06.94zm10 10l.94 2.06.94-2.06 2.06-.94-2.06-.94-.94-2.06-.94 2.06-2.06.94z\"/><path d=\"M17.41 7.96l-1.37-1.37c-.4-.4-.92-.59-1.43-.59-.52 0-1.04.2-1.43.59L10.3 9.45l-7.72 7.72c-.78.78-.78 2.05 0 2.83L4 21.41c.39.39.9.59 1.41.59.51 0 1.02-.2 1.41-.59l7.78-7.78 2.81-2.81c.8-.78.8-2.07 0-2.86zM5.41 20L4 18.59l7.72-7.72 1.47 1.35L5.41 20z\"/>\n",
              "  </svg>\n",
              "      </button>\n",
              "      \n",
              "  <style>\n",
              "    .colab-df-container {\n",
              "      display:flex;\n",
              "      flex-wrap:wrap;\n",
              "      gap: 12px;\n",
              "    }\n",
              "\n",
              "    .colab-df-convert {\n",
              "      background-color: #E8F0FE;\n",
              "      border: none;\n",
              "      border-radius: 50%;\n",
              "      cursor: pointer;\n",
              "      display: none;\n",
              "      fill: #1967D2;\n",
              "      height: 32px;\n",
              "      padding: 0 0 0 0;\n",
              "      width: 32px;\n",
              "    }\n",
              "\n",
              "    .colab-df-convert:hover {\n",
              "      background-color: #E2EBFA;\n",
              "      box-shadow: 0px 1px 2px rgba(60, 64, 67, 0.3), 0px 1px 3px 1px rgba(60, 64, 67, 0.15);\n",
              "      fill: #174EA6;\n",
              "    }\n",
              "\n",
              "    [theme=dark] .colab-df-convert {\n",
              "      background-color: #3B4455;\n",
              "      fill: #D2E3FC;\n",
              "    }\n",
              "\n",
              "    [theme=dark] .colab-df-convert:hover {\n",
              "      background-color: #434B5C;\n",
              "      box-shadow: 0px 1px 3px 1px rgba(0, 0, 0, 0.15);\n",
              "      filter: drop-shadow(0px 1px 2px rgba(0, 0, 0, 0.3));\n",
              "      fill: #FFFFFF;\n",
              "    }\n",
              "  </style>\n",
              "\n",
              "      <script>\n",
              "        const buttonEl =\n",
              "          document.querySelector('#df-144f7805-cbce-4747-aa2d-711ae6969d7c button.colab-df-convert');\n",
              "        buttonEl.style.display =\n",
              "          google.colab.kernel.accessAllowed ? 'block' : 'none';\n",
              "\n",
              "        async function convertToInteractive(key) {\n",
              "          const element = document.querySelector('#df-144f7805-cbce-4747-aa2d-711ae6969d7c');\n",
              "          const dataTable =\n",
              "            await google.colab.kernel.invokeFunction('convertToInteractive',\n",
              "                                                     [key], {});\n",
              "          if (!dataTable) return;\n",
              "\n",
              "          const docLinkHtml = 'Like what you see? Visit the ' +\n",
              "            '<a target=\"_blank\" href=https://colab.research.google.com/notebooks/data_table.ipynb>data table notebook</a>'\n",
              "            + ' to learn more about interactive tables.';\n",
              "          element.innerHTML = '';\n",
              "          dataTable['output_type'] = 'display_data';\n",
              "          await google.colab.output.renderOutput(dataTable, element);\n",
              "          const docLink = document.createElement('div');\n",
              "          docLink.innerHTML = docLinkHtml;\n",
              "          element.appendChild(docLink);\n",
              "        }\n",
              "      </script>\n",
              "    </div>\n",
              "  </div>\n",
              "  "
            ]
          },
          "metadata": {},
          "execution_count": 24
        }
      ]
    },
    {
      "cell_type": "code",
      "source": [
        "# Visualisasi Wordcloud\n",
        "text =' '.join(df_positive['kalimat_clean'])\n",
        "mask = np.array(Image.open('/content/drive/MyDrive/twitter bird.jpeg'))\n",
        "wordcloud = WordCloud(stopwords=list_stopwords, width=2000,height=1000,\n",
        "               mask=mask, background_color=\"white\",\n",
        "               max_words=2000, max_font_size=256,\n",
        "               random_state=42).generate(text)\n",
        "\n",
        "# Generate plot\n",
        "plt.imshow(wordcloud, interpolation=\"bilinear\")\n",
        "plt.axis(\"off\")\n",
        "plt.show()"
      ],
      "metadata": {
        "colab": {
          "base_uri": "https://localhost:8080/",
          "height": 248
        },
        "id": "LOvgJ_yS_2ft",
        "outputId": "be30c384-0c33-45b7-921f-c0660a8e7fe5"
      },
      "id": "LOvgJ_yS_2ft",
      "execution_count": null,
      "outputs": [
        {
          "output_type": "display_data",
          "data": {
            "text/plain": [
              "<Figure size 432x288 with 1 Axes>"
            ],
            "image/png": "[encoded data removed]"
          },
          "metadata": {
            "needs_background": "light"
          }
        }
      ]
    },
    {
      "cell_type": "markdown",
      "metadata": {
        "id": "bj34JFOUhsDm"
      },
      "source": [
        "### Word in Negative Statement"
      ],
      "id": "bj34JFOUhsDm"
    },
    {
      "cell_type": "code",
      "source": [
        "df_negative = df[df['label']==\"negative\"]\n",
        "df_negative"
      ],
      "metadata": {
        "colab": {
          "base_uri": "https://localhost:8080/",
          "height": 424
        },
        "id": "8dYUX4ZBA2Ir",
        "outputId": "535a4680-7f17-4d0c-b85f-cdfa551e0406"
      },
      "id": "8dYUX4ZBA2Ir",
      "execution_count": null,
      "outputs": [
        {
          "output_type": "execute_result",
          "data": {
            "text/plain": [
              "                                                 Kalimat     label  \\\n",
              "4      duh . jadi mahasiswa jangan sombong dong . kas...  negative   \n",
              "6      pakai kartu kredit bca tidak untung malah rugi...  negative   \n",
              "10     simcard indosat inaktiv gara-gara lupa isi pul...  negative   \n",
              "11     sifat iri sering muncul pada orang orang yang ...  negative   \n",
              "13     pengalaman bersama indosat hari ini , semoga t...  negative   \n",
              "...                                                  ...       ...   \n",
              "10982  tolong dibaca pesan saya ! di dalam kotak hand...  negative   \n",
              "10985  sumpah gue kecewa banget dengan sms , cuma tea...  negative   \n",
              "10989  tadinya pengin mengantar teman dari kalau ke r...  negative   \n",
              "10991                                dapat rom awal abad  negative   \n",
              "10998  pagi pagi di tol pasteur sudah macet parah , b...  negative   \n",
              "\n",
              "                                           kalimat_clean  \n",
              "4      aduh mahasiswa sombong kasih kartu kuning ajar...  \n",
              "6              pakai kartu kredit baca tidak untung rugi  \n",
              "10     simcard indosat inaktiv gara gara lupa isi pul...  \n",
              "11         sifat iri muncul orang orang tidak tuju hidup  \n",
              "13     alam indosat moga tidak langgan marah marah la...  \n",
              "...                                                  ...  \n",
              "10982  tolong baca pesan kotak handphone tidak kartu ...  \n",
              "10985  sumpah kecewa sms teaser doang isi got 7 eh pa...  \n",
              "10989  antar teman resto hit bandung rekomendasi ah s...  \n",
              "10991                                           rom abad  \n",
              "10998    pagi pagi tol pasteur macet parah bikin jengkel  \n",
              "\n",
              "[3412 rows x 3 columns]"
            ],
            "text/html": [
              "\n",
              "  <div id=\"df-4716bbc2-b491-4119-b131-43ddb704722b\">\n",
              "    <div class=\"colab-df-container\">\n",
              "      <div>\n",
              "<style scoped>\n",
              "    .dataframe tbody tr th:only-of-type {\n",
              "        vertical-align: middle;\n",
              "    }\n",
              "\n",
              "    .dataframe tbody tr th {\n",
              "        vertical-align: top;\n",
              "    }\n",
              "\n",
              "    .dataframe thead th {\n",
              "        text-align: right;\n",
              "    }\n",
              "</style>\n",
              "<table border=\"1\" class=\"dataframe\">\n",
              "  <thead>\n",
              "    <tr style=\"text-align: right;\">\n",
              "      <th></th>\n",
              "      <th>Kalimat</th>\n",
              "      <th>label</th>\n",
              "      <th>kalimat_clean</th>\n",
              "    </tr>\n",
              "  </thead>\n",
              "  <tbody>\n",
              "    <tr>\n",
              "      <th>4</th>\n",
              "      <td>duh . jadi mahasiswa jangan sombong dong . kas...</td>\n",
              "      <td>negative</td>\n",
              "      <td>aduh mahasiswa sombong kasih kartu kuning ajar...</td>\n",
              "    </tr>\n",
              "    <tr>\n",
              "      <th>6</th>\n",
              "      <td>pakai kartu kredit bca tidak untung malah rugi...</td>\n",
              "      <td>negative</td>\n",
              "      <td>pakai kartu kredit baca tidak untung rugi</td>\n",
              "    </tr>\n",
              "    <tr>\n",
              "      <th>10</th>\n",
              "      <td>simcard indosat inaktiv gara-gara lupa isi pul...</td>\n",
              "      <td>negative</td>\n",
              "      <td>simcard indosat inaktiv gara gara lupa isi pul...</td>\n",
              "    </tr>\n",
              "    <tr>\n",
              "      <th>11</th>\n",
              "      <td>sifat iri sering muncul pada orang orang yang ...</td>\n",
              "      <td>negative</td>\n",
              "      <td>sifat iri muncul orang orang tidak tuju hidup</td>\n",
              "    </tr>\n",
              "    <tr>\n",
              "      <th>13</th>\n",
              "      <td>pengalaman bersama indosat hari ini , semoga t...</td>\n",
              "      <td>negative</td>\n",
              "      <td>alam indosat moga tidak langgan marah marah la...</td>\n",
              "    </tr>\n",
              "    <tr>\n",
              "      <th>...</th>\n",
              "      <td>...</td>\n",
              "      <td>...</td>\n",
              "      <td>...</td>\n",
              "    </tr>\n",
              "    <tr>\n",
              "      <th>10982</th>\n",
              "      <td>tolong dibaca pesan saya ! di dalam kotak hand...</td>\n",
              "      <td>negative</td>\n",
              "      <td>tolong baca pesan kotak handphone tidak kartu ...</td>\n",
              "    </tr>\n",
              "    <tr>\n",
              "      <th>10985</th>\n",
              "      <td>sumpah gue kecewa banget dengan sms , cuma tea...</td>\n",
              "      <td>negative</td>\n",
              "      <td>sumpah kecewa sms teaser doang isi got 7 eh pa...</td>\n",
              "    </tr>\n",
              "    <tr>\n",
              "      <th>10989</th>\n",
              "      <td>tadinya pengin mengantar teman dari kalau ke r...</td>\n",
              "      <td>negative</td>\n",
              "      <td>antar teman resto hit bandung rekomendasi ah s...</td>\n",
              "    </tr>\n",
              "    <tr>\n",
              "      <th>10991</th>\n",
              "      <td>dapat rom awal abad</td>\n",
              "      <td>negative</td>\n",
              "      <td>rom abad</td>\n",
              "    </tr>\n",
              "    <tr>\n",
              "      <th>10998</th>\n",
              "      <td>pagi pagi di tol pasteur sudah macet parah , b...</td>\n",
              "      <td>negative</td>\n",
              "      <td>pagi pagi tol pasteur macet parah bikin jengkel</td>\n",
              "    </tr>\n",
              "  </tbody>\n",
              "</table>\n",
              "<p>3412 rows × 3 columns</p>\n",
              "</div>\n",
              "      <button class=\"colab-df-convert\" onclick=\"convertToInteractive('df-4716bbc2-b491-4119-b131-43ddb704722b')\"\n",
              "              title=\"Convert this dataframe to an interactive table.\"\n",
              "              style=\"display:none;\">\n",
              "        \n",
              "  <svg xmlns=\"http://www.w3.org/2000/svg\" height=\"24px\"viewBox=\"0 0 24 24\"\n",
              "       width=\"24px\">\n",
              "    <path d=\"M0 0h24v24H0V0z\" fill=\"none\"/>\n",
              "    <path d=\"M18.56 5.44l.94 2.06.94-2.06 2.06-.94-2.06-.94-.94-2.06-.94 2.06-2.06.94zm-11 1L8.5 8.5l.94-2.06 2.06-.94-2.06-.94L8.5 2.5l-.94 2.06-2.06.94zm10 10l.94 2.06.94-2.06 2.06-.94-2.06-.94-.94-2.06-.94 2.06-2.06.94z\"/><path d=\"M17.41 7.96l-1.37-1.37c-.4-.4-.92-.59-1.43-.59-.52 0-1.04.2-1.43.59L10.3 9.45l-7.72 7.72c-.78.78-.78 2.05 0 2.83L4 21.41c.39.39.9.59 1.41.59.51 0 1.02-.2 1.41-.59l7.78-7.78 2.81-2.81c.8-.78.8-2.07 0-2.86zM5.41 20L4 18.59l7.72-7.72 1.47 1.35L5.41 20z\"/>\n",
              "  </svg>\n",
              "      </button>\n",
              "      \n",
              "  <style>\n",
              "    .colab-df-container {\n",
              "      display:flex;\n",
              "      flex-wrap:wrap;\n",
              "      gap: 12px;\n",
              "    }\n",
              "\n",
              "    .colab-df-convert {\n",
              "      background-color: #E8F0FE;\n",
              "      border: none;\n",
              "      border-radius: 50%;\n",
              "      cursor: pointer;\n",
              "      display: none;\n",
              "      fill: #1967D2;\n",
              "      height: 32px;\n",
              "      padding: 0 0 0 0;\n",
              "      width: 32px;\n",
              "    }\n",
              "\n",
              "    .colab-df-convert:hover {\n",
              "      background-color: #E2EBFA;\n",
              "      box-shadow: 0px 1px 2px rgba(60, 64, 67, 0.3), 0px 1px 3px 1px rgba(60, 64, 67, 0.15);\n",
              "      fill: #174EA6;\n",
              "    }\n",
              "\n",
              "    [theme=dark] .colab-df-convert {\n",
              "      background-color: #3B4455;\n",
              "      fill: #D2E3FC;\n",
              "    }\n",
              "\n",
              "    [theme=dark] .colab-df-convert:hover {\n",
              "      background-color: #434B5C;\n",
              "      box-shadow: 0px 1px 3px 1px rgba(0, 0, 0, 0.15);\n",
              "      filter: drop-shadow(0px 1px 2px rgba(0, 0, 0, 0.3));\n",
              "      fill: #FFFFFF;\n",
              "    }\n",
              "  </style>\n",
              "\n",
              "      <script>\n",
              "        const buttonEl =\n",
              "          document.querySelector('#df-4716bbc2-b491-4119-b131-43ddb704722b button.colab-df-convert');\n",
              "        buttonEl.style.display =\n",
              "          google.colab.kernel.accessAllowed ? 'block' : 'none';\n",
              "\n",
              "        async function convertToInteractive(key) {\n",
              "          const element = document.querySelector('#df-4716bbc2-b491-4119-b131-43ddb704722b');\n",
              "          const dataTable =\n",
              "            await google.colab.kernel.invokeFunction('convertToInteractive',\n",
              "                                                     [key], {});\n",
              "          if (!dataTable) return;\n",
              "\n",
              "          const docLinkHtml = 'Like what you see? Visit the ' +\n",
              "            '<a target=\"_blank\" href=https://colab.research.google.com/notebooks/data_table.ipynb>data table notebook</a>'\n",
              "            + ' to learn more about interactive tables.';\n",
              "          element.innerHTML = '';\n",
              "          dataTable['output_type'] = 'display_data';\n",
              "          await google.colab.output.renderOutput(dataTable, element);\n",
              "          const docLink = document.createElement('div');\n",
              "          docLink.innerHTML = docLinkHtml;\n",
              "          element.appendChild(docLink);\n",
              "        }\n",
              "      </script>\n",
              "    </div>\n",
              "  </div>\n",
              "  "
            ]
          },
          "metadata": {},
          "execution_count": 26
        }
      ]
    },
    {
      "cell_type": "code",
      "source": [
        "# Visualisasi Wordcloud\n",
        "from PIL import Image\n",
        "import numpy as np\n",
        "from wordcloud import WordCloud\n",
        "\n",
        "text =' '.join(df_negative['kalimat_clean'])\n",
        "mask = np.array(Image.open('/content/drive/MyDrive/twitter bird.jpeg'))\n",
        "wordcloud = WordCloud(stopwords=list_stopwords, width=2000,height=1000,\n",
        "               mask=mask, background_color=\"white\",\n",
        "               max_words=2000, max_font_size=256,\n",
        "               random_state=42).generate(text)\n",
        "\n",
        "# Generate plot\n",
        "plt.imshow(wordcloud, interpolation=\"bilinear\")\n",
        "plt.axis(\"off\")\n",
        "plt.show()"
      ],
      "metadata": {
        "colab": {
          "base_uri": "https://localhost:8080/",
          "height": 248
        },
        "id": "rRKt8Vx8A6AO",
        "outputId": "77b91dae-34be-480f-e967-ab4da44e88f4"
      },
      "id": "rRKt8Vx8A6AO",
      "execution_count": null,
      "outputs": [
        {
          "output_type": "display_data",
          "data": {
            "text/plain": [
              "<Figure size 432x288 with 1 Axes>"
            ],
            "image/png": "[encoded data removed]"
          },
          "metadata": {
            "needs_background": "light"
          }
        }
      ]
    },
    {
      "cell_type": "markdown",
      "metadata": {
        "id": "aHvIH6AjhsDo"
      },
      "source": [
        "### Word in Neutal Statement"
      ],
      "id": "aHvIH6AjhsDo"
    },
    {
      "cell_type": "code",
      "source": [
        "df_neutral = df[df['label']==\"neutral\"]\n",
        "df_neutral"
      ],
      "metadata": {
        "colab": {
          "base_uri": "https://localhost:8080/",
          "height": 424
        },
        "id": "3ZjSRh7WBGQ5",
        "outputId": "bc7685f7-029b-43be-fa3a-673a1bf6c14f"
      },
      "id": "3ZjSRh7WBGQ5",
      "execution_count": null,
      "outputs": [
        {
          "output_type": "execute_result",
          "data": {
            "text/plain": [
              "                                                 Kalimat    label  \\\n",
              "1      mohon ulama lurus dan k212 mmbri hujjah partai...  neutral   \n",
              "16     setiap bumn dibentuk dengan uu bukan dibentuk ...  neutral   \n",
              "28     pdip sebut ridwan kamil menang karena berbaju ...  neutral   \n",
              "32     08:30 : kedatangan presiden ri dan rombongan d...  neutral   \n",
              "37     risma menjatuhkan pilihan nya pada gus ipul - ...  neutral   \n",
              "...                                                  ...      ...   \n",
              "10881  demokrat umumkan calon gubri jagoan di menit t...  neutral   \n",
              "10925  pkb benarkan charly setia band daftar jadi caw...  neutral   \n",
              "10967  pernah percaya kalau body lotion citra bikin b...  neutral   \n",
              "10969  bu susi marah , menteri luhut perbolehkan kapa...  neutral   \n",
              "10993  f - demokrat dorong upaya kemandirian energi n...  neutral   \n",
              "\n",
              "                                           kalimat_clean  \n",
              "1      mohon ulama lurus hujjah partai pilih suara is...  \n",
              "16     badan usaha milik negara bentuk undang undang ...  \n",
              "28     partai demokrasi indonesia juang ridwan kamil ...  \n",
              "32     08 30 datang presiden ri rombong gate 2 termin...  \n",
              "37     risma jatuh pilih gus ipul puti pilih gubernur...  \n",
              "...                                                  ...  \n",
              "10881               demokrat umum calon gubri jago menit  \n",
              "10925  partai bangkit bangsa benar charly setia band ...  \n",
              "10967               percaya body lotion citra bikin bulu  \n",
              "10969  bu sus marah menteri luhut boleh kapal asing c...  \n",
              "10993    f demokrat dorong upaya mandiri energi nasional  \n",
              "\n",
              "[1138 rows x 3 columns]"
            ],
            "text/html": [
              "\n",
              "  <div id=\"df-038dc252-6db2-4463-9e16-5411563f64e6\">\n",
              "    <div class=\"colab-df-container\">\n",
              "      <div>\n",
              "<style scoped>\n",
              "    .dataframe tbody tr th:only-of-type {\n",
              "        vertical-align: middle;\n",
              "    }\n",
              "\n",
              "    .dataframe tbody tr th {\n",
              "        vertical-align: top;\n",
              "    }\n",
              "\n",
              "    .dataframe thead th {\n",
              "        text-align: right;\n",
              "    }\n",
              "</style>\n",
              "<table border=\"1\" class=\"dataframe\">\n",
              "  <thead>\n",
              "    <tr style=\"text-align: right;\">\n",
              "      <th></th>\n",
              "      <th>Kalimat</th>\n",
              "      <th>label</th>\n",
              "      <th>kalimat_clean</th>\n",
              "    </tr>\n",
              "  </thead>\n",
              "  <tbody>\n",
              "    <tr>\n",
              "      <th>1</th>\n",
              "      <td>mohon ulama lurus dan k212 mmbri hujjah partai...</td>\n",
              "      <td>neutral</td>\n",
              "      <td>mohon ulama lurus hujjah partai pilih suara is...</td>\n",
              "    </tr>\n",
              "    <tr>\n",
              "      <th>16</th>\n",
              "      <td>setiap bumn dibentuk dengan uu bukan dibentuk ...</td>\n",
              "      <td>neutral</td>\n",
              "      <td>badan usaha milik negara bentuk undang undang ...</td>\n",
              "    </tr>\n",
              "    <tr>\n",
              "      <th>28</th>\n",
              "      <td>pdip sebut ridwan kamil menang karena berbaju ...</td>\n",
              "      <td>neutral</td>\n",
              "      <td>partai demokrasi indonesia juang ridwan kamil ...</td>\n",
              "    </tr>\n",
              "    <tr>\n",
              "      <th>32</th>\n",
              "      <td>08:30 : kedatangan presiden ri dan rombongan d...</td>\n",
              "      <td>neutral</td>\n",
              "      <td>08 30 datang presiden ri rombong gate 2 termin...</td>\n",
              "    </tr>\n",
              "    <tr>\n",
              "      <th>37</th>\n",
              "      <td>risma menjatuhkan pilihan nya pada gus ipul - ...</td>\n",
              "      <td>neutral</td>\n",
              "      <td>risma jatuh pilih gus ipul puti pilih gubernur...</td>\n",
              "    </tr>\n",
              "    <tr>\n",
              "      <th>...</th>\n",
              "      <td>...</td>\n",
              "      <td>...</td>\n",
              "      <td>...</td>\n",
              "    </tr>\n",
              "    <tr>\n",
              "      <th>10881</th>\n",
              "      <td>demokrat umumkan calon gubri jagoan di menit t...</td>\n",
              "      <td>neutral</td>\n",
              "      <td>demokrat umum calon gubri jago menit</td>\n",
              "    </tr>\n",
              "    <tr>\n",
              "      <th>10925</th>\n",
              "      <td>pkb benarkan charly setia band daftar jadi caw...</td>\n",
              "      <td>neutral</td>\n",
              "      <td>partai bangkit bangsa benar charly setia band ...</td>\n",
              "    </tr>\n",
              "    <tr>\n",
              "      <th>10967</th>\n",
              "      <td>pernah percaya kalau body lotion citra bikin b...</td>\n",
              "      <td>neutral</td>\n",
              "      <td>percaya body lotion citra bikin bulu</td>\n",
              "    </tr>\n",
              "    <tr>\n",
              "      <th>10969</th>\n",
              "      <td>bu susi marah , menteri luhut perbolehkan kapa...</td>\n",
              "      <td>neutral</td>\n",
              "      <td>bu sus marah menteri luhut boleh kapal asing c...</td>\n",
              "    </tr>\n",
              "    <tr>\n",
              "      <th>10993</th>\n",
              "      <td>f - demokrat dorong upaya kemandirian energi n...</td>\n",
              "      <td>neutral</td>\n",
              "      <td>f demokrat dorong upaya mandiri energi nasional</td>\n",
              "    </tr>\n",
              "  </tbody>\n",
              "</table>\n",
              "<p>1138 rows × 3 columns</p>\n",
              "</div>\n",
              "      <button class=\"colab-df-convert\" onclick=\"convertToInteractive('df-038dc252-6db2-4463-9e16-5411563f64e6')\"\n",
              "              title=\"Convert this dataframe to an interactive table.\"\n",
              "              style=\"display:none;\">\n",
              "        \n",
              "  <svg xmlns=\"http://www.w3.org/2000/svg\" height=\"24px\"viewBox=\"0 0 24 24\"\n",
              "       width=\"24px\">\n",
              "    <path d=\"M0 0h24v24H0V0z\" fill=\"none\"/>\n",
              "    <path d=\"M18.56 5.44l.94 2.06.94-2.06 2.06-.94-2.06-.94-.94-2.06-.94 2.06-2.06.94zm-11 1L8.5 8.5l.94-2.06 2.06-.94-2.06-.94L8.5 2.5l-.94 2.06-2.06.94zm10 10l.94 2.06.94-2.06 2.06-.94-2.06-.94-.94-2.06-.94 2.06-2.06.94z\"/><path d=\"M17.41 7.96l-1.37-1.37c-.4-.4-.92-.59-1.43-.59-.52 0-1.04.2-1.43.59L10.3 9.45l-7.72 7.72c-.78.78-.78 2.05 0 2.83L4 21.41c.39.39.9.59 1.41.59.51 0 1.02-.2 1.41-.59l7.78-7.78 2.81-2.81c.8-.78.8-2.07 0-2.86zM5.41 20L4 18.59l7.72-7.72 1.47 1.35L5.41 20z\"/>\n",
              "  </svg>\n",
              "      </button>\n",
              "      \n",
              "  <style>\n",
              "    .colab-df-container {\n",
              "      display:flex;\n",
              "      flex-wrap:wrap;\n",
              "      gap: 12px;\n",
              "    }\n",
              "\n",
              "    .colab-df-convert {\n",
              "      background-color: #E8F0FE;\n",
              "      border: none;\n",
              "      border-radius: 50%;\n",
              "      cursor: pointer;\n",
              "      display: none;\n",
              "      fill: #1967D2;\n",
              "      height: 32px;\n",
              "      padding: 0 0 0 0;\n",
              "      width: 32px;\n",
              "    }\n",
              "\n",
              "    .colab-df-convert:hover {\n",
              "      background-color: #E2EBFA;\n",
              "      box-shadow: 0px 1px 2px rgba(60, 64, 67, 0.3), 0px 1px 3px 1px rgba(60, 64, 67, 0.15);\n",
              "      fill: #174EA6;\n",
              "    }\n",
              "\n",
              "    [theme=dark] .colab-df-convert {\n",
              "      background-color: #3B4455;\n",
              "      fill: #D2E3FC;\n",
              "    }\n",
              "\n",
              "    [theme=dark] .colab-df-convert:hover {\n",
              "      background-color: #434B5C;\n",
              "      box-shadow: 0px 1px 3px 1px rgba(0, 0, 0, 0.15);\n",
              "      filter: drop-shadow(0px 1px 2px rgba(0, 0, 0, 0.3));\n",
              "      fill: #FFFFFF;\n",
              "    }\n",
              "  </style>\n",
              "\n",
              "      <script>\n",
              "        const buttonEl =\n",
              "          document.querySelector('#df-038dc252-6db2-4463-9e16-5411563f64e6 button.colab-df-convert');\n",
              "        buttonEl.style.display =\n",
              "          google.colab.kernel.accessAllowed ? 'block' : 'none';\n",
              "\n",
              "        async function convertToInteractive(key) {\n",
              "          const element = document.querySelector('#df-038dc252-6db2-4463-9e16-5411563f64e6');\n",
              "          const dataTable =\n",
              "            await google.colab.kernel.invokeFunction('convertToInteractive',\n",
              "                                                     [key], {});\n",
              "          if (!dataTable) return;\n",
              "\n",
              "          const docLinkHtml = 'Like what you see? Visit the ' +\n",
              "            '<a target=\"_blank\" href=https://colab.research.google.com/notebooks/data_table.ipynb>data table notebook</a>'\n",
              "            + ' to learn more about interactive tables.';\n",
              "          element.innerHTML = '';\n",
              "          dataTable['output_type'] = 'display_data';\n",
              "          await google.colab.output.renderOutput(dataTable, element);\n",
              "          const docLink = document.createElement('div');\n",
              "          docLink.innerHTML = docLinkHtml;\n",
              "          element.appendChild(docLink);\n",
              "        }\n",
              "      </script>\n",
              "    </div>\n",
              "  </div>\n",
              "  "
            ]
          },
          "metadata": {},
          "execution_count": 28
        }
      ]
    },
    {
      "cell_type": "code",
      "source": [
        "# Visualisasi Wordcloud\n",
        "text =' '.join(df_neutral['kalimat_clean'])\n",
        "mask = np.array(Image.open('/content/drive/MyDrive/twitter bird.jpeg'))\n",
        "wordcloud = WordCloud(stopwords=list_stopwords, width=2000,height=1000,\n",
        "               mask=mask, background_color=\"white\",\n",
        "               max_words=2000, max_font_size=256,\n",
        "               random_state=42).generate(text)\n",
        "\n",
        "# Generate plot\n",
        "plt.imshow(wordcloud, interpolation=\"bilinear\")\n",
        "plt.axis(\"off\")\n",
        "plt.show()"
      ],
      "metadata": {
        "colab": {
          "base_uri": "https://localhost:8080/",
          "height": 248
        },
        "id": "jj-ow7-BBLUr",
        "outputId": "0b289e45-fd0c-45f7-febe-3113fcde9457"
      },
      "id": "jj-ow7-BBLUr",
      "execution_count": null,
      "outputs": [
        {
          "output_type": "display_data",
          "data": {
            "text/plain": [
              "<Figure size 432x288 with 1 Axes>"
            ],
            "image/png": "[encoded data removed]"
          },
          "metadata": {
            "needs_background": "light"
          }
        }
      ]
    },
    {
      "cell_type": "markdown",
      "id": "939dfa16",
      "metadata": {
        "id": "939dfa16"
      },
      "source": [
        "## Klasifikasi data"
      ]
    },
    {
      "cell_type": "code",
      "execution_count": null,
      "id": "9b36d64a",
      "metadata": {
        "colab": {
          "base_uri": "https://localhost:8080/"
        },
        "id": "9b36d64a",
        "outputId": "d5615d55-64da-4a1c-e701-dbdf3236ae3a"
      },
      "outputs": [
        {
          "output_type": "stream",
          "name": "stdout",
          "text": [
            "Pos: 6383, Neu: 1138, Neg: 3412\n",
            "Total data : 10933\n"
          ]
        }
      ],
      "source": [
        "neg = df.loc[df['label']=='negative'].kalimat_clean.tolist()\n",
        "neu = df.loc[df['label']=='neutral'].kalimat_clean.tolist()\n",
        "pos = df.loc[df['label']=='positive'].kalimat_clean.tolist()\n",
        "\n",
        "neg_label = df.loc[df['label']=='negative'].label.tolist()\n",
        "neu_label = df.loc[df['label']=='neutral'].label.tolist()\n",
        "pos_label = df.loc[df['label']=='positive'].label.tolist()\n",
        "\n",
        "total_data = neg + neu + pos\n",
        "labels = neg_label + neu_label + pos_label\n",
        "\n",
        "print(\"Pos: %s, Neu: %s, Neg: %s\" % (len(pos), len(neu), len(neg)))\n",
        "print(\"Total data : %s\" % len(total_data))"
      ]
    },
    {
      "cell_type": "code",
      "source": [
        "classes = df['label']\n",
        "Z = classes\n",
        "Z"
      ],
      "metadata": {
        "colab": {
          "base_uri": "https://localhost:8080/"
        },
        "id": "pR1T9xbkEU5j",
        "outputId": "2945640f-78ea-4ac7-9890-76f38992bfab"
      },
      "id": "pR1T9xbkEU5j",
      "execution_count": null,
      "outputs": [
        {
          "output_type": "execute_result",
          "data": {
            "text/plain": [
              "0        positive\n",
              "1         neutral\n",
              "2        positive\n",
              "3        positive\n",
              "4        negative\n",
              "           ...   \n",
              "10993     neutral\n",
              "10994    positive\n",
              "10996    positive\n",
              "10998    negative\n",
              "10999    positive\n",
              "Name: label, Length: 10933, dtype: object"
            ]
          },
          "metadata": {},
          "execution_count": 31
        }
      ]
    },
    {
      "cell_type": "code",
      "source": [
        "df_label = pd.DataFrame(Z.value_counts()).reset_index().rename(columns={\"index\": \"label\"})\n",
        "df_label.columns.values[1]='Count'\n",
        "display(df_label)"
      ],
      "metadata": {
        "colab": {
          "base_uri": "https://localhost:8080/",
          "height": 143
        },
        "id": "jIDsfLjTEaRY",
        "outputId": "376af73f-3087-45c2-e8a5-6a00d2c94dab"
      },
      "id": "jIDsfLjTEaRY",
      "execution_count": null,
      "outputs": [
        {
          "output_type": "display_data",
          "data": {
            "text/plain": [
              "      label  Count\n",
              "0  positive   6383\n",
              "1  negative   3412\n",
              "2   neutral   1138"
            ],
            "text/html": [
              "\n",
              "  <div id=\"df-8df971a0-468b-4c72-afaf-c7bc84284551\">\n",
              "    <div class=\"colab-df-container\">\n",
              "      <div>\n",
              "<style scoped>\n",
              "    .dataframe tbody tr th:only-of-type {\n",
              "        vertical-align: middle;\n",
              "    }\n",
              "\n",
              "    .dataframe tbody tr th {\n",
              "        vertical-align: top;\n",
              "    }\n",
              "\n",
              "    .dataframe thead th {\n",
              "        text-align: right;\n",
              "    }\n",
              "</style>\n",
              "<table border=\"1\" class=\"dataframe\">\n",
              "  <thead>\n",
              "    <tr style=\"text-align: right;\">\n",
              "      <th></th>\n",
              "      <th>label</th>\n",
              "      <th>Count</th>\n",
              "    </tr>\n",
              "  </thead>\n",
              "  <tbody>\n",
              "    <tr>\n",
              "      <th>0</th>\n",
              "      <td>positive</td>\n",
              "      <td>6383</td>\n",
              "    </tr>\n",
              "    <tr>\n",
              "      <th>1</th>\n",
              "      <td>negative</td>\n",
              "      <td>3412</td>\n",
              "    </tr>\n",
              "    <tr>\n",
              "      <th>2</th>\n",
              "      <td>neutral</td>\n",
              "      <td>1138</td>\n",
              "    </tr>\n",
              "  </tbody>\n",
              "</table>\n",
              "</div>\n",
              "      <button class=\"colab-df-convert\" onclick=\"convertToInteractive('df-8df971a0-468b-4c72-afaf-c7bc84284551')\"\n",
              "              title=\"Convert this dataframe to an interactive table.\"\n",
              "              style=\"display:none;\">\n",
              "        \n",
              "  <svg xmlns=\"http://www.w3.org/2000/svg\" height=\"24px\"viewBox=\"0 0 24 24\"\n",
              "       width=\"24px\">\n",
              "    <path d=\"M0 0h24v24H0V0z\" fill=\"none\"/>\n",
              "    <path d=\"M18.56 5.44l.94 2.06.94-2.06 2.06-.94-2.06-.94-.94-2.06-.94 2.06-2.06.94zm-11 1L8.5 8.5l.94-2.06 2.06-.94-2.06-.94L8.5 2.5l-.94 2.06-2.06.94zm10 10l.94 2.06.94-2.06 2.06-.94-2.06-.94-.94-2.06-.94 2.06-2.06.94z\"/><path d=\"M17.41 7.96l-1.37-1.37c-.4-.4-.92-.59-1.43-.59-.52 0-1.04.2-1.43.59L10.3 9.45l-7.72 7.72c-.78.78-.78 2.05 0 2.83L4 21.41c.39.39.9.59 1.41.59.51 0 1.02-.2 1.41-.59l7.78-7.78 2.81-2.81c.8-.78.8-2.07 0-2.86zM5.41 20L4 18.59l7.72-7.72 1.47 1.35L5.41 20z\"/>\n",
              "  </svg>\n",
              "      </button>\n",
              "      \n",
              "  <style>\n",
              "    .colab-df-container {\n",
              "      display:flex;\n",
              "      flex-wrap:wrap;\n",
              "      gap: 12px;\n",
              "    }\n",
              "\n",
              "    .colab-df-convert {\n",
              "      background-color: #E8F0FE;\n",
              "      border: none;\n",
              "      border-radius: 50%;\n",
              "      cursor: pointer;\n",
              "      display: none;\n",
              "      fill: #1967D2;\n",
              "      height: 32px;\n",
              "      padding: 0 0 0 0;\n",
              "      width: 32px;\n",
              "    }\n",
              "\n",
              "    .colab-df-convert:hover {\n",
              "      background-color: #E2EBFA;\n",
              "      box-shadow: 0px 1px 2px rgba(60, 64, 67, 0.3), 0px 1px 3px 1px rgba(60, 64, 67, 0.15);\n",
              "      fill: #174EA6;\n",
              "    }\n",
              "\n",
              "    [theme=dark] .colab-df-convert {\n",
              "      background-color: #3B4455;\n",
              "      fill: #D2E3FC;\n",
              "    }\n",
              "\n",
              "    [theme=dark] .colab-df-convert:hover {\n",
              "      background-color: #434B5C;\n",
              "      box-shadow: 0px 1px 3px 1px rgba(0, 0, 0, 0.15);\n",
              "      filter: drop-shadow(0px 1px 2px rgba(0, 0, 0, 0.3));\n",
              "      fill: #FFFFFF;\n",
              "    }\n",
              "  </style>\n",
              "\n",
              "      <script>\n",
              "        const buttonEl =\n",
              "          document.querySelector('#df-8df971a0-468b-4c72-afaf-c7bc84284551 button.colab-df-convert');\n",
              "        buttonEl.style.display =\n",
              "          google.colab.kernel.accessAllowed ? 'block' : 'none';\n",
              "\n",
              "        async function convertToInteractive(key) {\n",
              "          const element = document.querySelector('#df-8df971a0-468b-4c72-afaf-c7bc84284551');\n",
              "          const dataTable =\n",
              "            await google.colab.kernel.invokeFunction('convertToInteractive',\n",
              "                                                     [key], {});\n",
              "          if (!dataTable) return;\n",
              "\n",
              "          const docLinkHtml = 'Like what you see? Visit the ' +\n",
              "            '<a target=\"_blank\" href=https://colab.research.google.com/notebooks/data_table.ipynb>data table notebook</a>'\n",
              "            + ' to learn more about interactive tables.';\n",
              "          element.innerHTML = '';\n",
              "          dataTable['output_type'] = 'display_data';\n",
              "          await google.colab.output.renderOutput(dataTable, element);\n",
              "          const docLink = document.createElement('div');\n",
              "          docLink.innerHTML = docLinkHtml;\n",
              "          element.appendChild(docLink);\n",
              "        }\n",
              "      </script>\n",
              "    </div>\n",
              "  </div>\n",
              "  "
            ]
          },
          "metadata": {}
        }
      ]
    },
    {
      "cell_type": "code",
      "source": [
        "import matplotlib.pyplot as plt\n",
        "\n",
        "# explosion\n",
        "explode = (0.05, 0.05, 0.05)\n",
        "\n",
        "# Pie Chart\n",
        "plt.pie(df_label['Count'], labels=df_label['label'],\n",
        "\t\tautopct='%1.1f%%', pctdistance=0.85,\n",
        "\t\texplode=explode)\n",
        "\n",
        "# draw circle\n",
        "centre_circle = plt.Circle((0, 0), 0.70, fc='white')\n",
        "fig = plt.gcf()\n",
        "\n",
        "# Adding Circle in Pie chart\n",
        "fig.gca().add_artist(centre_circle)\n",
        "\n",
        "# Adding Title of chart\n",
        "plt.title('Sentiment Tweet Count')\n",
        "\n",
        "# Displaying Chart\n",
        "plt.show()\n"
      ],
      "metadata": {
        "colab": {
          "base_uri": "https://localhost:8080/",
          "height": 264
        },
        "id": "E124jWIuBzlT",
        "outputId": "9b615982-c45b-474a-b315-24f0bb36a53b"
      },
      "id": "E124jWIuBzlT",
      "execution_count": null,
      "outputs": [
        {
          "output_type": "display_data",
          "data": {
            "text/plain": [
              "<Figure size 432x288 with 1 Axes>"
            ],
            "image/png": "[encoded data removed]"
          },
          "metadata": {}
        }
      ]
    },
    {
      "cell_type": "code",
      "source": [
        "import seaborn as sns\n",
        "ax = sns.countplot(x=df[\"label\"],order = df[\"label\"].value_counts(ascending=False).index)\n",
        "for p in ax.patches:\n",
        "    ax.annotate(f'\\n{p.get_height()}', (p.get_x()+0.2, p.get_height()), ha='center', va='top', color='white', size=18)\n",
        "\n",
        "plt.title('Sentiment Tweet Count')\n",
        "plt.show()"
      ],
      "metadata": {
        "colab": {
          "base_uri": "https://localhost:8080/",
          "height": 295
        },
        "id": "zXbolHq2EpsE",
        "outputId": "2d422a65-a4b2-4d27-914d-3ceb0740afd6"
      },
      "id": "zXbolHq2EpsE",
      "execution_count": null,
      "outputs": [
        {
          "output_type": "display_data",
          "data": {
            "text/plain": [
              "<Figure size 432x288 with 1 Axes>"
            ],
            "image/png": "[encoded data removed]"
          },
          "metadata": {
            "needs_background": "light"
          }
        }
      ]
    },
    {
      "cell_type": "code",
      "source": [
        "data = df['label'].value_counts()\n",
        "explode = (0, 0, 0)\n",
        "plt.pie(data, explode = explode, labels = [round(i,2) for i in (list(data))])\n",
        "circle = plt.Circle( (0,0), 0.7, color='white')\n",
        "p=plt.gcf()\n",
        "p.gca().add_artist(circle)\n",
        "plt.show()"
      ],
      "metadata": {
        "colab": {
          "base_uri": "https://localhost:8080/",
          "height": 248
        },
        "id": "LiHBgDjwExqc",
        "outputId": "773b03d7-362c-4c93-f60d-b2f409e0e393"
      },
      "id": "LiHBgDjwExqc",
      "execution_count": null,
      "outputs": [
        {
          "output_type": "display_data",
          "data": {
            "text/plain": [
              "<Figure size 432x288 with 1 Axes>"
            ],
            "image/png": "[encoded data removed]"
          },
          "metadata": {}
        }
      ]
    },
    {
      "cell_type": "markdown",
      "id": "216e1228",
      "metadata": {
        "id": "216e1228"
      },
      "source": [
        "## Melakukan Featur ekstraksi menggukan modul tokenizer dan pad_sequences"
      ]
    },
    {
      "cell_type": "code",
      "execution_count": null,
      "id": "f9e84e45",
      "metadata": {
        "colab": {
          "base_uri": "https://localhost:8080/"
        },
        "id": "f9e84e45",
        "outputId": "8e639137-516d-43fe-8697-163f65bedc87"
      },
      "outputs": [
        {
          "output_type": "stream",
          "name": "stdout",
          "text": [
            "tokenizer.pickle has created!\n",
            "X_pad_sequences has created!\n"
          ]
        }
      ],
      "source": [
        "#feature extraction\n",
        "import pickle # library menyimpan model\n",
        "from tensorflow.keras.preprocessing.text import Tokenizer\n",
        "from tensorflow.keras.preprocessing.sequence import pad_sequences\n",
        "from collections import defaultdict\n",
        "\n",
        "max_features = 10000\n",
        "tokenizer = Tokenizer(num_words= max_features, split=' ', lower=True)\n",
        "tokenizer.fit_on_texts(total_data)\n",
        "\n",
        "with open('/content/drive/MyDrive/Binar/tokenizer.pickle', 'wb') as handle:\n",
        "    pickle.dump(tokenizer, handle, protocol=pickle.HIGHEST_PROTOCOL)\n",
        "    print(\"tokenizer.pickle has created!\")\n",
        "    \n",
        "X = tokenizer.texts_to_sequences(total_data)\n",
        "\n",
        "vocab_size = len(tokenizer.word_index)\n",
        "maxlen= max(len(x) for x in X)\n",
        "\n",
        "X = pad_sequences(X)\n",
        "with open('/content/drive/MyDrive/Binar/x_pad_sequences.pickle', 'wb') as handle:\n",
        "    pickle.dump(X, handle,protocol=pickle.HIGHEST_PROTOCOL)\n",
        "    print(\"X_pad_sequences has created!\")"
      ]
    },
    {
      "cell_type": "code",
      "source": [
        "with open('/content/drive/MyDrive/Binar/x_pad_sequences.pickle', 'wb') as handle:\n",
        "    pickle.dump(X, handle,protocol=pickle.HIGHEST_PROTOCOL)\n",
        "    print(\"X_pad_sequences has created!\")"
      ],
      "metadata": {
        "colab": {
          "base_uri": "https://localhost:8080/"
        },
        "id": "6PzWF787Z7Wf",
        "outputId": "a9e7938e-f180-4e92-abe0-33e019c031db"
      },
      "id": "6PzWF787Z7Wf",
      "execution_count": null,
      "outputs": [
        {
          "output_type": "stream",
          "name": "stdout",
          "text": [
            "X_pad_sequences has created!\n"
          ]
        }
      ]
    },
    {
      "cell_type": "code",
      "execution_count": null,
      "id": "e6fb6cc2",
      "metadata": {
        "colab": {
          "base_uri": "https://localhost:8080/"
        },
        "id": "e6fb6cc2",
        "outputId": "a6aa2b01-8349-4e80-caef-b544f34c2fae"
      },
      "outputs": [
        {
          "output_type": "execute_result",
          "data": {
            "text/plain": [
              "array([[   0,    0,    0, ..., 1452,  273,  314],\n",
              "       [   0,    0,    0, ...,    2,  425,  679],\n",
              "       [   0,    0,    0, ..., 3748,  120, 1034],\n",
              "       ...,\n",
              "       [   0,    0,    0, ...,    0,    2,  199],\n",
              "       [   0,    0,    0, ...,   79,  153,    5],\n",
              "       [   0,    0,    0, ...,   86,  747,    1]], dtype=int32)"
            ]
          },
          "metadata": {},
          "execution_count": 127
        }
      ],
      "source": [
        "X"
      ]
    },
    {
      "cell_type": "code",
      "execution_count": null,
      "id": "55c20e5c",
      "metadata": {
        "colab": {
          "base_uri": "https://localhost:8080/"
        },
        "id": "55c20e5c",
        "outputId": "94c766c0-1c6f-4796-b099-45f67cb6e2e4"
      },
      "outputs": [
        {
          "output_type": "stream",
          "name": "stdout",
          "text": [
            "y_label.pickle has created1!\n"
          ]
        }
      ],
      "source": [
        "#memasukkan label datanya ke variable Y\n",
        "Y = pd.get_dummies(labels)\n",
        "Y = Y.values\n",
        "\n",
        "with open('/content/drive/MyDrive/Binar/y_labels.pickle','wb') as handle:\n",
        "    pickle.dump(Y, handle, protocol=pickle.HIGHEST_PROTOCOL)\n",
        "    print(\"y_label.pickle has created1!\")"
      ]
    },
    {
      "cell_type": "code",
      "execution_count": null,
      "id": "51195391",
      "metadata": {
        "colab": {
          "base_uri": "https://localhost:8080/"
        },
        "id": "51195391",
        "outputId": "6b8a4206-2551-44cb-e2ef-5bc40c5426b6"
      },
      "outputs": [
        {
          "output_type": "execute_result",
          "data": {
            "text/plain": [
              "array([[1, 0, 0],\n",
              "       [1, 0, 0],\n",
              "       [1, 0, 0],\n",
              "       ...,\n",
              "       [0, 0, 1],\n",
              "       [0, 0, 1],\n",
              "       [0, 0, 1]], dtype=uint8)"
            ]
          },
          "metadata": {},
          "execution_count": 129
        }
      ],
      "source": [
        "Y"
      ]
    },
    {
      "cell_type": "markdown",
      "id": "d104e951",
      "metadata": {
        "id": "d104e951"
      },
      "source": [
        "## Training Data dengan perbandingan 80% data training, 20% data test"
      ]
    },
    {
      "cell_type": "code",
      "execution_count": null,
      "id": "270214b1",
      "metadata": {
        "id": "270214b1"
      },
      "outputs": [],
      "source": [
        "#membagi (split) data dimana 80% data untuk train 20% data untuk test\n",
        "from sklearn.model_selection import train_test_split\n",
        "\n",
        "file = open(\"/content/drive/MyDrive/Binar/x_pad_sequences.pickle\",'rb')\n",
        "X = pickle.load(file)\n",
        "file.close()\n",
        "\n",
        "file = open(\"/content/drive/MyDrive/Binar/y_labels.pickle\",'rb')\n",
        "Y = pickle.load(file)\n",
        "file.close()\n",
        "\n",
        "X_train, X_test, y_train, y_test = train_test_split(X,Y, test_size=0.2, random_state=0)"
      ]
    },
    {
      "cell_type": "code",
      "execution_count": null,
      "id": "4d63c052",
      "metadata": {
        "colab": {
          "base_uri": "https://localhost:8080/"
        },
        "id": "4d63c052",
        "outputId": "c3ef4273-e257-4d7f-c97e-253ec785f5fc"
      },
      "outputs": [
        {
          "output_type": "execute_result",
          "data": {
            "text/plain": [
              "array([[   0,    0,    0, ...,    2, 3218,  909],\n",
              "       [   0,    0,    0, ...,  222,   65,   13],\n",
              "       [   0,    0,    0, ...,   12,  321,    9],\n",
              "       ...,\n",
              "       [   0,    0,    0, ...,   20,   32, 1122],\n",
              "       [   0,    0,    0, ..., 1312,  430, 4276],\n",
              "       [   0,    0,    0, ...,  624,  511,  320]], dtype=int32)"
            ]
          },
          "metadata": {},
          "execution_count": 131
        }
      ],
      "source": [
        "X_train"
      ]
    },
    {
      "cell_type": "code",
      "execution_count": null,
      "id": "23d8f529",
      "metadata": {
        "colab": {
          "base_uri": "https://localhost:8080/"
        },
        "id": "23d8f529",
        "outputId": "995c868c-a27d-4802-9b22-85e599fc9726"
      },
      "outputs": [
        {
          "output_type": "execute_result",
          "data": {
            "text/plain": [
              "array([[   0,    0,    0, ..., 1875, 4487,   20],\n",
              "       [   0,    0,    0, ...,    1,   28,    3],\n",
              "       [   0,    0,    0, ..., 3968, 2960,   14],\n",
              "       ...,\n",
              "       [   0,    0,    0, ...,  306, 3949,  233],\n",
              "       [   0,    0,    0, ...,  430,  370,  428],\n",
              "       [   0,    0,    0, ...,  334, 4124, 2060]], dtype=int32)"
            ]
          },
          "metadata": {},
          "execution_count": 132
        }
      ],
      "source": [
        "X_test"
      ]
    },
    {
      "cell_type": "code",
      "execution_count": null,
      "id": "c335d278",
      "metadata": {
        "colab": {
          "base_uri": "https://localhost:8080/"
        },
        "id": "c335d278",
        "outputId": "ae81f233-be6e-4bbf-ec4e-c3baacafa30d"
      },
      "outputs": [
        {
          "output_type": "execute_result",
          "data": {
            "text/plain": [
              "array([[1, 0, 0],\n",
              "       [0, 0, 1],\n",
              "       [0, 0, 1],\n",
              "       ...,\n",
              "       [0, 0, 1],\n",
              "       [0, 0, 1],\n",
              "       [1, 0, 0]], dtype=uint8)"
            ]
          },
          "metadata": {},
          "execution_count": 133
        }
      ],
      "source": [
        "y_train"
      ]
    },
    {
      "cell_type": "code",
      "execution_count": null,
      "id": "f5b32d6d",
      "metadata": {
        "colab": {
          "base_uri": "https://localhost:8080/"
        },
        "id": "f5b32d6d",
        "outputId": "182f7127-9a6f-4a1a-be80-011e3f9c2a37"
      },
      "outputs": [
        {
          "output_type": "execute_result",
          "data": {
            "text/plain": [
              "array([[0, 0, 1],\n",
              "       [0, 0, 1],\n",
              "       [0, 0, 1],\n",
              "       ...,\n",
              "       [0, 0, 1],\n",
              "       [0, 0, 1],\n",
              "       [1, 0, 0]], dtype=uint8)"
            ]
          },
          "metadata": {},
          "execution_count": 134
        }
      ],
      "source": [
        "y_test"
      ]
    },
    {
      "cell_type": "markdown",
      "id": "8ebe5714",
      "metadata": {
        "id": "8ebe5714"
      },
      "source": [
        "## Melakukan cross valdation "
      ]
    },
    {
      "cell_type": "code",
      "execution_count": null,
      "id": "d7e143d0",
      "metadata": {
        "id": "d7e143d0"
      },
      "outputs": [],
      "source": [
        "import numpy as np\n",
        "from tensorflow.keras import layers\n",
        "from tensorflow.keras.models import Sequential\n",
        "from tensorflow.keras.layers import Dense, Embedding, LSTM, SpatialDropout1D, SimpleRNN, Activation, Dropout\n",
        "from tensorflow.keras import optimizers\n",
        "from tensorflow.keras.callbacks import EarlyStopping, TensorBoard\n",
        "from tensorflow.keras.layers import Flatten\n",
        "from tensorflow.keras import backend as K\n",
        "from keras.optimizers import Adam, RMSprop, SGD\n",
        "from keras.wrappers.scikit_learn import KerasClassifier\n",
        "import tensorflow as tf\n",
        "\n",
        "from sklearn.model_selection import GridSearchCV\n"
      ]
    },
    {
      "cell_type": "code",
      "source": [
        "embed_dim = 32\n",
        "units = 32\n",
        "\n",
        "model = Sequential()\n",
        "model.add(Embedding(max_features, embed_dim, input_length=X.shape[1]))\n",
        "model.add(LSTM(units, dropout=0.2))\n",
        "model.add(Dense(3,activation='softmax'))\n",
        "model.compile(loss = 'binary_crossentropy', optimizer='RMSprop',metrics = ['accuracy'])\n",
        "print(model.summary())\n",
        "\n",
        "rmsprop = optimizers.RMSprop(learning_rate = 0.003)\n",
        "model.compile(loss = 'categorical_crossentropy', optimizer = rmsprop, metrics = ['accuracy'])\n",
        "#es = EarlyStopping(monitor='val_loss',mode='min', verbose=0)\n",
        "\n",
        "history = model.fit(X_train, y_train, epochs=10, batch_size=64, validation_data=(X_test, y_test), verbose=1)"
      ],
      "metadata": {
        "colab": {
          "base_uri": "https://localhost:8080/"
        },
        "id": "D4bRr7GEAfRx",
        "outputId": "68328620-61b7-4797-d622-aba0725868aa"
      },
      "id": "D4bRr7GEAfRx",
      "execution_count": null,
      "outputs": [
        {
          "output_type": "stream",
          "name": "stdout",
          "text": [
            "Model: \"sequential_29\"\n",
            "_________________________________________________________________\n",
            " Layer (type)                Output Shape              Param #   \n",
            "=================================================================\n",
            " embedding_29 (Embedding)    (None, 67, 32)            320000    \n",
            "                                                                 \n",
            " lstm_29 (LSTM)              (None, 32)                8320      \n",
            "                                                                 \n",
            " dense_29 (Dense)            (None, 3)                 99        \n",
            "                                                                 \n",
            "=================================================================\n",
            "Total params: 328,419\n",
            "Trainable params: 328,419\n",
            "Non-trainable params: 0\n",
            "_________________________________________________________________\n",
            "None\n",
            "Epoch 1/10\n",
            "137/137 [==============================] - 16s 98ms/step - loss: 0.5853 - accuracy: 0.7638 - val_loss: 0.4732 - val_accuracy: 0.8125\n",
            "Epoch 2/10\n",
            "137/137 [==============================] - 7s 50ms/step - loss: 0.3451 - accuracy: 0.8731 - val_loss: 0.3910 - val_accuracy: 0.8509\n",
            "Epoch 3/10\n",
            "137/137 [==============================] - 12s 85ms/step - loss: 0.2606 - accuracy: 0.9052 - val_loss: 0.3750 - val_accuracy: 0.8756\n",
            "Epoch 4/10\n",
            "137/137 [==============================] - 8s 57ms/step - loss: 0.2166 - accuracy: 0.9218 - val_loss: 0.3839 - val_accuracy: 0.8706\n",
            "Epoch 5/10\n",
            "137/137 [==============================] - 7s 52ms/step - loss: 0.1835 - accuracy: 0.9344 - val_loss: 0.4092 - val_accuracy: 0.8615\n",
            "Epoch 6/10\n",
            "137/137 [==============================] - 9s 64ms/step - loss: 0.1605 - accuracy: 0.9452 - val_loss: 0.4354 - val_accuracy: 0.8610\n",
            "Epoch 7/10\n",
            "137/137 [==============================] - 7s 48ms/step - loss: 0.1400 - accuracy: 0.9509 - val_loss: 0.4438 - val_accuracy: 0.8541\n",
            "Epoch 8/10\n",
            "137/137 [==============================] - 10s 71ms/step - loss: 0.1291 - accuracy: 0.9535 - val_loss: 0.4598 - val_accuracy: 0.8546\n",
            "Epoch 9/10\n",
            "137/137 [==============================] - 7s 50ms/step - loss: 0.1095 - accuracy: 0.9617 - val_loss: 0.5263 - val_accuracy: 0.8573\n",
            "Epoch 10/10\n",
            "137/137 [==============================] - 9s 63ms/step - loss: 0.0995 - accuracy: 0.9638 - val_loss: 0.5203 - val_accuracy: 0.8551\n"
          ]
        }
      ]
    },
    {
      "cell_type": "markdown",
      "source": [
        "## Hyperparameter Tunning"
      ],
      "metadata": {
        "id": "ztBJOtxGrDvv"
      },
      "id": "ztBJOtxGrDvv"
    },
    {
      "cell_type": "code",
      "source": [
        "'''def create_model(embed_dim = 16, hidden_unit = 16, dropout_rate = 0.2, optimizers = Adam, learning_rate = 0.001):\n",
        "    model = Sequential()\n",
        "    model.add(Embedding(input_dim = max_features, output_dim = embed_dim, input_length = X_train.shape[1]))\n",
        "    model.add(LSTM(units = hidden_unit, activation = 'tanh'))\n",
        "    model.add(Dropout(dropout_rate))\n",
        "    model.add(Dense(units = 3, activation = 'softmax'))\n",
        "    model.compile(loss = 'sparse_categorical_crossentropy', optimizer = optimizers(learning_rate = learning_rate), metrics = ['accuracy'])\n",
        "    print(model.summary())\n",
        "    return model\n",
        "    \n",
        "embed_dim = 16\n",
        "units = 16\n",
        "\n",
        "model = Sequential()\n",
        "model.add(Embedding(max_features, embed_dim, input_length = X.shape[1]))\n",
        "model.add(LSTM(units, activation = 'tanh', dropout=0.2))\n",
        "model.add(Dense(3, activation = 'softmax'))\n",
        "model.compile(loss = 'sparse_categorical_crossentropy', optimizer = Adam(lr = 0.001), metrics = ['accuracy'])\n",
        "print(model.summary())'''"
      ],
      "metadata": {
        "colab": {
          "base_uri": "https://localhost:8080/",
          "height": 122
        },
        "id": "IOJtS5ep6cgv",
        "outputId": "e23b531a-53c2-42ca-e9a3-29810668db53"
      },
      "id": "IOJtS5ep6cgv",
      "execution_count": null,
      "outputs": [
        {
          "output_type": "execute_result",
          "data": {
            "text/plain": [
              "\"def create_model(embed_dim = 16, hidden_unit = 16, dropout_rate = 0.2, optimizers = Adam, learning_rate = 0.001):\\n    model = Sequential()\\n    model.add(Embedding(input_dim = max_features, output_dim = embed_dim, input_length = X_train.shape[1]))\\n    model.add(LSTM(units = hidden_unit, activation = 'tanh'))\\n    model.add(Dropout(dropout_rate))\\n    model.add(Dense(units = 3, activation = 'softmax'))\\n    model.compile(loss = 'sparse_categorical_crossentropy', optimizer = optimizers(learning_rate = learning_rate), metrics = ['accuracy'])\\n    print(model.summary())\\n    return model\\n    \\nembed_dim = 16\\nunits = 16\\n\\nmodel = Sequential()\\nmodel.add(Embedding(max_features, embed_dim, input_length = X.shape[1]))\\nmodel.add(LSTM(units, activation = 'tanh', dropout=0.2))\\nmodel.add(Dense(3, activation = 'softmax'))\\nmodel.compile(loss = 'sparse_categorical_crossentropy', optimizer = Adam(lr = 0.001), metrics = ['accuracy'])\\nprint(model.summary())\""
            ],
            "application/vnd.google.colaboratory.intrinsic+json": {
              "type": "string"
            }
          },
          "metadata": {},
          "execution_count": 137
        }
      ]
    },
    {
      "cell_type": "code",
      "source": [
        "'''# Create the model with the best hyperparameter which has been determined\n",
        "model = KerasClassifier(build_fn = create_model,\n",
        "                        # Model Parameters\n",
        "                        dropout_rate = 0.2,\n",
        "                        embed_dim = 32,\n",
        "                        hidden_unit = 16,\n",
        "                        optimizers = RMSprop,\n",
        "                        learning_rate = 0.001,\n",
        "                   \n",
        "                        # Fit Parameters\n",
        "                        epochs=10, \n",
        "                        batch_size=128,\n",
        "                        # Initiate validation data, which is 10% data from data train. It's used for evaluation model\n",
        "                        validation_split = 0.1)\n",
        "# Hyperparameter tuning (to know the best hyperparameter for this model)\n",
        "\n",
        "# Wrapper model with default hyperparameter values\n",
        "model = KerasClassifier(build_fn = create_model, epochs = 25, batch_size=128) \n",
        "\n",
        "# Hyperparameters\n",
        "embed_dim = [32, 64]\n",
        "hidden_unit = [16, 32, 64]\n",
        "dropout_rate = [0.2]\n",
        "optimizers = [Adam, RMSprop]\n",
        "learning_rate = [0.01, 0.001, 0.0001]\n",
        "epochs = [10, 25, 50, 100]\n",
        "batch_size = [128, 256]\n",
        "param_grid = dict(embed_dim = embed_dim, hidden_unit = hidden_unit, dropout_rate = dropout_rate,\n",
        "                  learning_rate = learning_rate, optimizers = optimizers, epochs = epochs, batch_size = batch_size)\n",
        "\n",
        "# Evaluation model with GridSearchCV to know what the best hyperparameter for model \n",
        "grid = GridSearchCV(estimator = model, param_grid = param_grid)\n",
        "grid_result = grid.fit(X_train, y_train)\n",
        "\n",
        "# results = pd.DataFrame()\n",
        "# results['means'] = grid_result.cv_results_['mean_test_score']\n",
        "# results['stds'] = grid_result.cv_results_['std_test_score']\n",
        "# results['params'] = grid_result.cv_results_['params']\n",
        "# print(\"Best: %f using %s\" % (grid_result.best_score_, grid_result.best_params_))\n",
        "# results.to_csv(r'gridsearchcv_results.csv', index = False, header = True)\n",
        "# results.sort_values(by='means', ascending = False).reset_index(drop=True)\n",
        "\n",
        "search_space = (\n",
        "    \"n_estimators\" : [100,200,500],\n",
        "    \"max_depth\": [3,6,9],\n",
        "    \n",
        "\n",
        ")'''"
      ],
      "metadata": {
        "id": "l_d7WN6ytKv8",
        "colab": {
          "base_uri": "https://localhost:8080/",
          "height": 140
        },
        "outputId": "23e46eee-181c-45ac-c6de-4e00575a3140"
      },
      "id": "l_d7WN6ytKv8",
      "execution_count": null,
      "outputs": [
        {
          "output_type": "execute_result",
          "data": {
            "text/plain": [
              "'# Create the model with the best hyperparameter which has been determined\\nmodel = KerasClassifier(build_fn = create_model,\\n                        # Model Parameters\\n                        dropout_rate = 0.2,\\n                        embed_dim = 32,\\n                        hidden_unit = 16,\\n                        optimizers = RMSprop,\\n                        learning_rate = 0.001,\\n                   \\n                        # Fit Parameters\\n                        epochs=10, \\n                        batch_size=128,\\n                        # Initiate validation data, which is 10% data from data train. It\\'s used for evaluation model\\n                        validation_split = 0.1)\\n# Hyperparameter tuning (to know the best hyperparameter for this model)\\n\\n# Wrapper model with default hyperparameter values\\nmodel = KerasClassifier(build_fn = create_model, epochs = 25, batch_size=128) \\n\\n# Hyperparameters\\nembed_dim = [32, 64]\\nhidden_unit = [16, 32, 64]\\ndropout_rate = [0.2]\\noptimizers = [Adam, RMSprop]\\nlearning_rate = [0.01, 0.001, 0.0001]\\nepochs = [10, 25, 50, 100]\\nbatch_size = [128, 256]\\nparam_grid = dict(embed_dim = embed_dim, hidden_unit = hidden_unit, dropout_rate = dropout_rate,\\n                  learning_rate = learning_rate, optimizers = optimizers, epochs = epochs, batch_size = batch_size)\\n\\n# Evaluation model with GridSearchCV to know what the best hyperparameter for model \\ngrid = GridSearchCV(estimator = model, param_grid = param_grid)\\ngrid_result = grid.fit(X_train, y_train)\\n\\n# results = pd.DataFrame()\\n# results[\\'means\\'] = grid_result.cv_results_[\\'mean_test_score\\']\\n# results[\\'stds\\'] = grid_result.cv_results_[\\'std_test_score\\']\\n# results[\\'params\\'] = grid_result.cv_results_[\\'params\\']\\n# print(\"Best: %f using %s\" % (grid_result.best_score_, grid_result.best_params_))\\n# results.to_csv(r\\'gridsearchcv_results.csv\\', index = False, header = True)\\n# results.sort_values(by=\\'means\\', ascending = False).reset_index(drop=True)\\n\\nsearch_space = (\\n    \"n_estimators\" : [100,200,500],\\n    \"max_depth\": [3,6,9],\\n    \\n\\n)'"
            ],
            "application/vnd.google.colaboratory.intrinsic+json": {
              "type": "string"
            }
          },
          "metadata": {},
          "execution_count": 138
        }
      ]
    },
    {
      "cell_type": "markdown",
      "id": "28103745",
      "metadata": {
        "id": "28103745"
      },
      "source": [
        "## Memvisualisasikan Confusion Matrix "
      ]
    },
    {
      "cell_type": "code",
      "execution_count": null,
      "id": "4ef800a5",
      "metadata": {
        "scrolled": true,
        "colab": {
          "base_uri": "https://localhost:8080/"
        },
        "id": "4ef800a5",
        "outputId": "743f20ce-2cc7-4041-9109-60d9e8f0304f"
      },
      "outputs": [
        {
          "output_type": "stream",
          "name": "stdout",
          "text": [
            "69/69 [==============================] - 1s 10ms/step\n",
            "Testing selesai\n",
            "              precision    recall  f1-score   support\n",
            "\n",
            "           0       0.79      0.80      0.80       665\n",
            "           1       0.75      0.70      0.73       235\n",
            "           2       0.90      0.91      0.91      1287\n",
            "\n",
            "    accuracy                           0.86      2187\n",
            "   macro avg       0.82      0.81      0.81      2187\n",
            "weighted avg       0.85      0.86      0.85      2187\n",
            "\n"
          ]
        }
      ],
      "source": [
        "from sklearn import metrics\n",
        "\n",
        "predictions = model.predict(X_test)\n",
        "y_pred = predictions\n",
        "matrix_test = metrics.classification_report(y_test.argmax(axis=1), y_pred.argmax(axis=1))\n",
        "print(\"Testing selesai\")\n",
        "print(matrix_test)"
      ]
    },
    {
      "cell_type": "code",
      "execution_count": null,
      "id": "a8e02142",
      "metadata": {
        "id": "a8e02142"
      },
      "outputs": [],
      "source": [
        "confusion_matrix = metrics.confusion_matrix(y_test.argmax(axis=1), y_pred.argmax(axis=1))\n",
        "cm = metrics.ConfusionMatrixDisplay(confusion_matrix = confusion_matrix, display_labels = ['negative', 'neutral','positive'])"
      ]
    },
    {
      "cell_type": "code",
      "execution_count": null,
      "id": "9855103b",
      "metadata": {
        "id": "9855103b",
        "colab": {
          "base_uri": "https://localhost:8080/"
        },
        "outputId": "7a858463-aa5a-4a37-98a6-95600dcb81c6"
      },
      "outputs": [
        {
          "output_type": "execute_result",
          "data": {
            "text/plain": [
              "array([[ 534,   32,   99],\n",
              "       [  45,  165,   25],\n",
              "       [  93,   23, 1171]])"
            ]
          },
          "metadata": {},
          "execution_count": 141
        }
      ],
      "source": [
        "confusion_matrix"
      ]
    },
    {
      "cell_type": "code",
      "execution_count": null,
      "id": "626932d6",
      "metadata": {
        "id": "626932d6",
        "colab": {
          "base_uri": "https://localhost:8080/",
          "height": 299
        },
        "outputId": "b3eb0920-dbf8-42ed-b40b-3d46c1b63c8a"
      },
      "outputs": [
        {
          "output_type": "display_data",
          "data": {
            "text/plain": [
              "<Figure size 432x288 with 2 Axes>"
            ],
            "image/png": "[encoded data removed]"
          },
          "metadata": {
            "needs_background": "light"
          }
        }
      ],
      "source": [
        "import matplotlib.pyplot as plt\n",
        "\n",
        "cm.plot()\n",
        "plt.title(\"Confusion Matrix\")\n",
        "plt.show()"
      ]
    },
    {
      "cell_type": "markdown",
      "id": "d90a88f4",
      "metadata": {
        "id": "d90a88f4"
      },
      "source": [
        "## Evaluasi model yang sudah dibuat"
      ]
    },
    {
      "cell_type": "code",
      "execution_count": null,
      "id": "ce754efc",
      "metadata": {
        "colab": {
          "base_uri": "https://localhost:8080/"
        },
        "id": "ce754efc",
        "outputId": "ac63a90b-14ae-4b31-f644-aae20ee8b1a0"
      },
      "outputs": [
        {
          "output_type": "stream",
          "name": "stderr",
          "text": [
            "WARNING:absl:`lr` is deprecated, please use `learning_rate` instead, or use the legacy optimizer, e.g.,tf.keras.optimizers.legacy.RMSprop.\n"
          ]
        },
        {
          "output_type": "stream",
          "name": "stdout",
          "text": [
            "69/69 [==============================] - 2s 10ms/step\n",
            "Training ke- 1\n",
            "              precision    recall  f1-score   support\n",
            "\n",
            "           0       0.81      0.80      0.81       665\n",
            "           1       0.71      0.81      0.76       235\n",
            "           2       0.92      0.90      0.91      1287\n",
            "\n",
            "    accuracy                           0.86      2187\n",
            "   macro avg       0.82      0.84      0.83      2187\n",
            "weighted avg       0.87      0.86      0.86      2187\n",
            "\n",
            "=======================================================\n"
          ]
        },
        {
          "output_type": "stream",
          "name": "stderr",
          "text": [
            "WARNING:absl:`lr` is deprecated, please use `learning_rate` instead, or use the legacy optimizer, e.g.,tf.keras.optimizers.legacy.RMSprop.\n"
          ]
        },
        {
          "output_type": "stream",
          "name": "stdout",
          "text": [
            "69/69 [==============================] - 2s 17ms/step\n",
            "Training ke- 2\n",
            "              precision    recall  f1-score   support\n",
            "\n",
            "           0       0.83      0.78      0.81       665\n",
            "           1       0.74      0.78      0.76       235\n",
            "           2       0.90      0.92      0.91      1287\n",
            "\n",
            "    accuracy                           0.87      2187\n",
            "   macro avg       0.83      0.83      0.83      2187\n",
            "weighted avg       0.86      0.87      0.86      2187\n",
            "\n",
            "=======================================================\n"
          ]
        },
        {
          "output_type": "stream",
          "name": "stderr",
          "text": [
            "WARNING:absl:`lr` is deprecated, please use `learning_rate` instead, or use the legacy optimizer, e.g.,tf.keras.optimizers.legacy.RMSprop.\n"
          ]
        },
        {
          "output_type": "stream",
          "name": "stdout",
          "text": [
            "69/69 [==============================] - 1s 10ms/step\n",
            "Training ke- 3\n",
            "              precision    recall  f1-score   support\n",
            "\n",
            "           0       0.79      0.82      0.80       665\n",
            "           1       0.77      0.76      0.76       235\n",
            "           2       0.92      0.90      0.91      1287\n",
            "\n",
            "    accuracy                           0.86      2187\n",
            "   macro avg       0.83      0.83      0.83      2187\n",
            "weighted avg       0.86      0.86      0.86      2187\n",
            "\n",
            "=======================================================\n"
          ]
        },
        {
          "output_type": "stream",
          "name": "stderr",
          "text": [
            "WARNING:absl:`lr` is deprecated, please use `learning_rate` instead, or use the legacy optimizer, e.g.,tf.keras.optimizers.legacy.RMSprop.\n"
          ]
        },
        {
          "output_type": "stream",
          "name": "stdout",
          "text": [
            "69/69 [==============================] - 1s 10ms/step\n",
            "Training ke- 4\n",
            "              precision    recall  f1-score   support\n",
            "\n",
            "           0       0.79      0.83      0.81       665\n",
            "           1       0.70      0.86      0.77       235\n",
            "           2       0.94      0.88      0.91      1287\n",
            "\n",
            "    accuracy                           0.86      2187\n",
            "   macro avg       0.81      0.86      0.83      2187\n",
            "weighted avg       0.87      0.86      0.86      2187\n",
            "\n",
            "=======================================================\n"
          ]
        },
        {
          "output_type": "stream",
          "name": "stderr",
          "text": [
            "WARNING:absl:`lr` is deprecated, please use `learning_rate` instead, or use the legacy optimizer, e.g.,tf.keras.optimizers.legacy.RMSprop.\n"
          ]
        },
        {
          "output_type": "stream",
          "name": "stdout",
          "text": [
            "69/69 [==============================] - 1s 10ms/step\n",
            "Training ke- 5\n",
            "              precision    recall  f1-score   support\n",
            "\n",
            "           0       0.82      0.79      0.81       665\n",
            "           1       0.76      0.73      0.75       235\n",
            "           2       0.91      0.93      0.92      1287\n",
            "\n",
            "    accuracy                           0.87      2187\n",
            "   macro avg       0.83      0.82      0.82      2187\n",
            "weighted avg       0.86      0.87      0.87      2187\n",
            "\n",
            "=======================================================\n",
            "\n",
            "\n",
            "\n",
            "Rata-rata Accuracy  :  0.8632830361225423\n",
            "Rata-rata F1-score  :  0.8264888988809383\n",
            "Rata-rata precision :  0.8215457294887205\n",
            "Rata-rata recall    :  0.833606302452887\n"
          ]
        }
      ],
      "source": [
        "import numpy as np\n",
        "from sklearn.metrics import classification_report\n",
        "from sklearn.metrics import accuracy_score\n",
        "from sklearn.model_selection import KFold\n",
        "import sklearn.metrics as metrics\n",
        "from sklearn.metrics import f1_score, recall_score, precision_score, confusion_matrix\n",
        "\n",
        "kf = KFold(n_splits=5,random_state=69,shuffle=True)\n",
        "\n",
        "accuracies = []\n",
        "score_f1 = []\n",
        "preci = []\n",
        "rcall = []\n",
        "\n",
        "y = Y\n",
        "\n",
        "embed_dim = 32\n",
        "units= 32\n",
        "\n",
        "for iteration, data in enumerate(kf.split(X), start=1):\n",
        "    \n",
        "    data_train   = X[data[0]]\n",
        "    target_train = y[data[0]]\n",
        "    \n",
        "    data_test    = X[data[1]]\n",
        "    target_test  = y[data[1]]\n",
        "    \n",
        "    model= Sequential()\n",
        "    model.add(Embedding(max_features, embed_dim, input_length=X.shape[1]))\n",
        "    model.add(LSTM(units, dropout=0.2))\n",
        "    model.add(Dense(3,activation='softmax'))\n",
        "    model.compile(loss = 'binary_crossentropy', optimizer='RMSprop',metrics = ['accuracy'])\n",
        "    \n",
        "    rmsprop= optimizers.RMSprop(lr = 0.003)\n",
        "    model.compile(loss= 'categorical_crossentropy', optimizer = rmsprop, metrics = ['accuracy'])\n",
        "    \n",
        "    #es = EarlyStopping(monitor='val_loss',mode='min', verbose=0)\n",
        "    history = model.fit(X_train, y_train, epochs=10, batch_size=64, validation_data= (X_test, y_test), verbose=0)#, callbacks=[es])\n",
        "    \n",
        "    predictions = model.predict(X_test)\n",
        "    y_pred = predictions\n",
        "    \n",
        "    accuracy = accuracy_score(y_test.argmax(axis=1), y_pred.argmax(axis=1))\n",
        "    f1 = f1_score(y_test.argmax(axis=1), y_pred.argmax(axis=1), pos_label = ['positive','negative','neutral'], average='macro')\n",
        "    precision = precision_score(y_test.argmax(axis=1), y_pred.argmax(axis=1), pos_label = ['positive','negative','neutral'], average='macro')\n",
        "    re_call = recall_score(y_test.argmax(axis=1), y_pred.argmax(axis=1), pos_label = ['positive','negative','neutral'], average='macro')\n",
        "    \n",
        "    print(\"Training ke-\", iteration)\n",
        "    print(classification_report(y_test.argmax(axis=1), y_pred.argmax(axis=1)))\n",
        "    #print(classification_report(y_test.argmax(axis=1), y_pred.argmax(axis=1)))\n",
        "    print(\"=======================================================\")\n",
        "    \n",
        "    accuracies.append(accuracy)\n",
        "    score_f1.append(f1)\n",
        "    preci.append(precision)\n",
        "    rcall.append(re_call)\n",
        "    \n",
        "average_accuracy = np.mean(accuracies)\n",
        "average_f1 = np.mean(score_f1)\n",
        "average_precision = np.mean(preci)\n",
        "average_recall= np.mean(rcall)\n",
        "\n",
        "print()\n",
        "print()\n",
        "print()\n",
        "print(\"Rata-rata Accuracy  : \", average_accuracy)\n",
        "print(\"Rata-rata F1-score  : \", average_f1)\n",
        "print(\"Rata-rata precision : \", average_precision)\n",
        "print(\"Rata-rata recall    : \", average_recall)"
      ]
    },
    {
      "cell_type": "markdown",
      "id": "c08e4797",
      "metadata": {
        "id": "c08e4797"
      },
      "source": [
        "## Save model"
      ]
    },
    {
      "cell_type": "code",
      "execution_count": null,
      "id": "a425fdcc",
      "metadata": {
        "colab": {
          "base_uri": "https://localhost:8080/"
        },
        "id": "a425fdcc",
        "outputId": "667d1f8f-7e9a-4f49-d9dc-e537e3569b71"
      },
      "outputs": [
        {
          "output_type": "stream",
          "name": "stdout",
          "text": [
            "Model has created\n"
          ]
        }
      ],
      "source": [
        "model.save('/content/drive/MyDrive/Binar/model1.h5')\n",
        "print(\"Model has created\")"
      ]
    },
    {
      "cell_type": "markdown",
      "id": "45a193f8",
      "metadata": {
        "id": "45a193f8"
      },
      "source": [
        "## Predict kalimat"
      ]
    },
    {
      "cell_type": "code",
      "execution_count": null,
      "id": "c3750d45",
      "metadata": {
        "id": "c3750d45",
        "colab": {
          "base_uri": "https://localhost:8080/"
        },
        "outputId": "9d849a34-9288-49d3-d1ec-fde3a542336c"
      },
      "outputs": [
        {
          "output_type": "stream",
          "name": "stdout",
          "text": [
            "1/1 [==============================] - 1s 836ms/step\n",
            "Text:  tidak bosan\n",
            "Sentiment:  positive\n"
          ]
        }
      ],
      "source": [
        "from keras.models import load_model\n",
        "import re\n",
        "sentiment=['negative','neutral','positive']\n",
        "input_text='''tidak bosan'''\n",
        "text=[cleansing(input_text)]\n",
        "predicted=tokenizer.texts_to_sequences([text])\n",
        "guess=pad_sequences(predicted,maxlen=X.shape[1])\n",
        "model=load_model('/content/drive/MyDrive/Binar/model1.h5')\n",
        "prediction=model.predict(guess)\n",
        "polarity=np.argmax(prediction)\n",
        "print(\"Text: \",text[0])\n",
        "print(\"Sentiment: \",sentiment[polarity])"
      ]
    },
    {
      "cell_type": "code",
      "execution_count": null,
      "id": "ba79cb09",
      "metadata": {
        "id": "ba79cb09",
        "colab": {
          "base_uri": "https://localhost:8080/"
        },
        "outputId": "70c2fb0d-392c-4106-c773-570b95e36f19"
      },
      "outputs": [
        {
          "output_type": "stream",
          "name": "stdout",
          "text": [
            "1/1 [==============================] - 1s 907ms/step\n",
            "Text:  sayas sangat bahagia hari ini\n",
            "Sentiment:  positive\n"
          ]
        }
      ],
      "source": [
        "from keras.models import load_model\n",
        "import re\n",
        "sentiment=['negative','neutral','positive']\n",
        "input_text='''sayas sangat bahagia hari ini'''\n",
        "text=[regex(input_text)]\n",
        "predicted=tokenizer.texts_to_sequences([text])\n",
        "guess=pad_sequences(predicted,maxlen=X.shape[1])\n",
        "model=load_model('/content/drive/MyDrive/Binar/model1.h5')\n",
        "prediction=model.predict(guess)\n",
        "polarity=np.argmax(prediction)\n",
        "print(\"Text: \",text[0])\n",
        "print(\"Sentiment: \",sentiment[polarity])"
      ]
    },
    {
      "cell_type": "code",
      "execution_count": null,
      "id": "247e9a73",
      "metadata": {
        "colab": {
          "base_uri": "https://localhost:8080/"
        },
        "id": "247e9a73",
        "outputId": "5e7b253d-baba-47e7-d1bf-ecfe8e7ab400"
      },
      "outputs": [
        {
          "output_type": "stream",
          "name": "stdout",
          "text": [
            "Text:  bogor pimpin bima arya\n",
            "Sentiment:  negative\n"
          ]
        }
      ],
      "source": [
        "from keras.models import load_model\n",
        "import re\n",
        "sentiment=['negative','neutral','positive']\n",
        "input_text='''bogor akan dipimpin kembali oleh bima arya '''\n",
        "text=[cleansing(input_text)]\n",
        "predicted=tokenizer.texts_to_sequences([text])\n",
        "guess=pad_sequences(predicted,maxlen=X.shape[1])\n",
        "model=load_model('/content/drive/MyDrive/Binar/model1.h5')\n",
        "\n",
        "\n",
        "\n",
        "polarity=np.argmax(model)\n",
        "print(\"Text: \",text[0])\n",
        "print(\"Sentiment: \",sentiment[polarity])"
      ]
    },
    {
      "cell_type": "markdown",
      "id": "33c36da5",
      "metadata": {
        "id": "33c36da5"
      },
      "source": [
        "# Visualisasi data antara data training dan data test"
      ]
    },
    {
      "cell_type": "code",
      "execution_count": null,
      "id": "32a97070",
      "metadata": {
        "colab": {
          "base_uri": "https://localhost:8080/",
          "height": 337
        },
        "id": "32a97070",
        "outputId": "45951e5a-4415-4eba-cd61-2323be501a12"
      },
      "outputs": [
        {
          "output_type": "display_data",
          "data": {
            "text/plain": [
              "<Figure size 864x360 with 2 Axes>"
            ],
            "image/png": "[encoded data removed]"
          },
          "metadata": {
            "needs_background": "light"
          }
        }
      ],
      "source": [
        "# history. history\n",
        "import matplotlib.pyplot as plt\n",
        "plt.style.use('ggplot')\n",
        "\n",
        "def plot_history(history):\n",
        "    acc = history.history['accuracy']\n",
        "    val_acc = history.history['val_accuracy']\n",
        "    loss = history.history['loss']\n",
        "    val_loss = history.history['val_loss']\n",
        "    x = range(1, len(acc) + 1)\n",
        "    \n",
        "    plt.figure(figsize=(12,5))\n",
        "    plt.subplot(1,2,1)\n",
        "    plt.plot(x, acc, 'b', label='Training acc')\n",
        "    plt.plot(x, val_acc, 'r', label='Validation acc')\n",
        "    plt.title('Training and Validation accuracy')\n",
        "    plt.legend()\n",
        "    plt.subplot(1,2,2)\n",
        "    plt.plot(x, loss, 'b', label='Training loss')\n",
        "    plt.plot(x,val_loss, 'r', label='Validation loss')\n",
        "    plt.title('Training and Validation loss')\n",
        "    plt.legend()\n",
        "    \n",
        "%matplotlib inline \n",
        "plot_history(history)"
      ]
    },
    {
      "cell_type": "code",
      "source": [],
      "metadata": {
        "id": "Ppj-dXZn7flA"
      },
      "id": "Ppj-dXZn7flA",
      "execution_count": null,
      "outputs": []
    }
  ],
  "metadata": {
    "kernelspec": {
      "display_name": "Python 3 (ipykernel)",
      "language": "python",
      "name": "python3"
    },
    "language_info": {
      "codemirror_mode": {
        "name": "ipython",
        "version": 3
      },
      "file_extension": ".py",
      "mimetype": "text/x-python",
      "name": "python",
      "nbconvert_exporter": "python",
      "pygments_lexer": "ipython3",
      "version": "3.9.13"
    },
    "colab": {
      "provenance": []
    }
  },
  "nbformat": 4,
  "nbformat_minor": 5
}