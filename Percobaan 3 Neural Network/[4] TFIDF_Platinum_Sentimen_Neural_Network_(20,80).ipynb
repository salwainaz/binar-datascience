{
 "cells": [
  {
   "cell_type": "markdown",
   "metadata": {
    "id": "grFtqQLxINLB"
   },
   "source": [
    "# Neural Network"
   ]
  },
  {
   "cell_type": "markdown",
   "metadata": {
    "id": "CmHAIU-nfi8h"
   },
   "source": [
    "Pada proses classification menggunakan model Neural Network dengan menggunakan data sentimen teks Twitter (Text Mining). Sebelum dilakukan proses preprocessing terlebih dahulu mengimport library yang digunakan"
   ]
  },
  {
   "cell_type": "markdown",
   "metadata": {},
   "source": [
    "### Import Library"
   ]
  },
  {
   "cell_type": "code",
   "execution_count": 1,
   "metadata": {
    "id": "WWT84mSXU8s_"
   },
   "outputs": [],
   "source": [
    "import pandas as pd\n",
    "import warnings\n",
    "warnings.filterwarnings('ignore')"
   ]
  },
  {
   "cell_type": "markdown",
   "metadata": {
    "id": "NHzzZRnrouUt"
   },
   "source": [
    "## Load Data"
   ]
  },
  {
   "cell_type": "markdown",
   "metadata": {
    "id": "35PsT4TlgOcE"
   },
   "source": [
    "Berikut ini merupakan data kotor dari data teks Sentimen"
   ]
  },
  {
   "cell_type": "markdown",
   "metadata": {
    "id": "3_zIK2Y9RHsr"
   },
   "source": [
    "### Data Kotor Sentimen"
   ]
  },
  {
   "cell_type": "code",
   "execution_count": 2,
   "metadata": {
    "id": "1sZ4juH-WKQi"
   },
   "outputs": [],
   "source": [
    "df = pd.read_csv('train_preprocess.tsv.txt',sep=\"\\t\", names = ['Kalimat','Label'])"
   ]
  },
  {
   "cell_type": "code",
   "execution_count": 3,
   "metadata": {
    "colab": {
     "base_uri": "https://localhost:8080/",
     "height": 419
    },
    "id": "bZ14gt585F-G",
    "outputId": "6f0ed6ea-3a55-4869-b7fe-df391ee8e7fc"
   },
   "outputs": [
    {
     "data": {
      "text/html": [
       "<div>\n",
       "<style scoped>\n",
       "    .dataframe tbody tr th:only-of-type {\n",
       "        vertical-align: middle;\n",
       "    }\n",
       "\n",
       "    .dataframe tbody tr th {\n",
       "        vertical-align: top;\n",
       "    }\n",
       "\n",
       "    .dataframe thead th {\n",
       "        text-align: right;\n",
       "    }\n",
       "</style>\n",
       "<table border=\"1\" class=\"dataframe\">\n",
       "  <thead>\n",
       "    <tr style=\"text-align: right;\">\n",
       "      <th></th>\n",
       "      <th>Kalimat</th>\n",
       "      <th>Label</th>\n",
       "    </tr>\n",
       "  </thead>\n",
       "  <tbody>\n",
       "    <tr>\n",
       "      <th>0</th>\n",
       "      <td>warung ini dimiliki oleh pengusaha pabrik tahu...</td>\n",
       "      <td>positive</td>\n",
       "    </tr>\n",
       "    <tr>\n",
       "      <th>1</th>\n",
       "      <td>mohon ulama lurus dan k212 mmbri hujjah partai...</td>\n",
       "      <td>neutral</td>\n",
       "    </tr>\n",
       "    <tr>\n",
       "      <th>2</th>\n",
       "      <td>lokasi strategis di jalan sumatera bandung . t...</td>\n",
       "      <td>positive</td>\n",
       "    </tr>\n",
       "    <tr>\n",
       "      <th>3</th>\n",
       "      <td>betapa bahagia nya diri ini saat unboxing pake...</td>\n",
       "      <td>positive</td>\n",
       "    </tr>\n",
       "    <tr>\n",
       "      <th>4</th>\n",
       "      <td>duh . jadi mahasiswa jangan sombong dong . kas...</td>\n",
       "      <td>negative</td>\n",
       "    </tr>\n",
       "    <tr>\n",
       "      <th>...</th>\n",
       "      <td>...</td>\n",
       "      <td>...</td>\n",
       "    </tr>\n",
       "    <tr>\n",
       "      <th>10995</th>\n",
       "      <td>tidak kecewa</td>\n",
       "      <td>positive</td>\n",
       "    </tr>\n",
       "    <tr>\n",
       "      <th>10996</th>\n",
       "      <td>enak rasa masakan nya apalagi kepiting yang me...</td>\n",
       "      <td>positive</td>\n",
       "    </tr>\n",
       "    <tr>\n",
       "      <th>10997</th>\n",
       "      <td>hormati partai-partai yang telah berkoalisi</td>\n",
       "      <td>neutral</td>\n",
       "    </tr>\n",
       "    <tr>\n",
       "      <th>10998</th>\n",
       "      <td>pagi pagi di tol pasteur sudah macet parah , b...</td>\n",
       "      <td>negative</td>\n",
       "    </tr>\n",
       "    <tr>\n",
       "      <th>10999</th>\n",
       "      <td>meskipun sering belanja ke yogya di riau junct...</td>\n",
       "      <td>positive</td>\n",
       "    </tr>\n",
       "  </tbody>\n",
       "</table>\n",
       "<p>11000 rows × 2 columns</p>\n",
       "</div>"
      ],
      "text/plain": [
       "                                                 Kalimat     Label\n",
       "0      warung ini dimiliki oleh pengusaha pabrik tahu...  positive\n",
       "1      mohon ulama lurus dan k212 mmbri hujjah partai...   neutral\n",
       "2      lokasi strategis di jalan sumatera bandung . t...  positive\n",
       "3      betapa bahagia nya diri ini saat unboxing pake...  positive\n",
       "4      duh . jadi mahasiswa jangan sombong dong . kas...  negative\n",
       "...                                                  ...       ...\n",
       "10995                                       tidak kecewa  positive\n",
       "10996  enak rasa masakan nya apalagi kepiting yang me...  positive\n",
       "10997        hormati partai-partai yang telah berkoalisi   neutral\n",
       "10998  pagi pagi di tol pasteur sudah macet parah , b...  negative\n",
       "10999  meskipun sering belanja ke yogya di riau junct...  positive\n",
       "\n",
       "[11000 rows x 2 columns]"
      ]
     },
     "execution_count": 3,
     "metadata": {},
     "output_type": "execute_result"
    }
   ],
   "source": [
    "df"
   ]
  },
  {
   "cell_type": "markdown",
   "metadata": {},
   "source": [
    "#### Checking Missing Values"
   ]
  },
  {
   "cell_type": "code",
   "execution_count": 4,
   "metadata": {},
   "outputs": [
    {
     "data": {
      "text/plain": [
       "Kalimat    0\n",
       "Label      0\n",
       "dtype: int64"
      ]
     },
     "execution_count": 4,
     "metadata": {},
     "output_type": "execute_result"
    }
   ],
   "source": [
    "df.isnull().sum()"
   ]
  },
  {
   "cell_type": "markdown",
   "metadata": {},
   "source": [
    "Tidak ada data yang kosong atau bernilai null (Nan)"
   ]
  },
  {
   "cell_type": "markdown",
   "metadata": {},
   "source": [
    "#### Checking Duplicate Value"
   ]
  },
  {
   "cell_type": "code",
   "execution_count": 5,
   "metadata": {
    "colab": {
     "base_uri": "https://localhost:8080/"
    },
    "id": "P4PnuX1BMZI5",
    "outputId": "79e55159-6e13-4b50-8229-d544c73e8cbc"
   },
   "outputs": [
    {
     "data": {
      "text/plain": [
       "67"
      ]
     },
     "execution_count": 5,
     "metadata": {},
     "output_type": "execute_result"
    }
   ],
   "source": [
    "df.duplicated().sum()"
   ]
  },
  {
   "cell_type": "markdown",
   "metadata": {},
   "source": [
    "Terdapat 67 data yang bernilai lebih dari satu. Oleh karena itu proses selanjutnya data tsb di drop sehingga tidak ada data yang bernilai lebih dari satu"
   ]
  },
  {
   "cell_type": "code",
   "execution_count": 6,
   "metadata": {
    "colab": {
     "base_uri": "https://localhost:8080/"
    },
    "id": "CHqg3TDHMcNE",
    "outputId": "1edbf8c4-aad2-4fb7-ef86-1e18c20c738f"
   },
   "outputs": [
    {
     "data": {
      "text/plain": [
       "0"
      ]
     },
     "execution_count": 6,
     "metadata": {},
     "output_type": "execute_result"
    }
   ],
   "source": [
    "df = df.drop_duplicates(ignore_index=True)\n",
    "df.duplicated().sum()"
   ]
  },
  {
   "cell_type": "code",
   "execution_count": 7,
   "metadata": {
    "colab": {
     "base_uri": "https://localhost:8080/",
     "height": 419
    },
    "id": "GoGalaHdMe-W",
    "outputId": "daba614e-b280-4d66-df01-28aa3ef378ac"
   },
   "outputs": [
    {
     "data": {
      "text/html": [
       "<div>\n",
       "<style scoped>\n",
       "    .dataframe tbody tr th:only-of-type {\n",
       "        vertical-align: middle;\n",
       "    }\n",
       "\n",
       "    .dataframe tbody tr th {\n",
       "        vertical-align: top;\n",
       "    }\n",
       "\n",
       "    .dataframe thead th {\n",
       "        text-align: right;\n",
       "    }\n",
       "</style>\n",
       "<table border=\"1\" class=\"dataframe\">\n",
       "  <thead>\n",
       "    <tr style=\"text-align: right;\">\n",
       "      <th></th>\n",
       "      <th>Kalimat</th>\n",
       "      <th>Label</th>\n",
       "    </tr>\n",
       "  </thead>\n",
       "  <tbody>\n",
       "    <tr>\n",
       "      <th>0</th>\n",
       "      <td>warung ini dimiliki oleh pengusaha pabrik tahu...</td>\n",
       "      <td>positive</td>\n",
       "    </tr>\n",
       "    <tr>\n",
       "      <th>1</th>\n",
       "      <td>mohon ulama lurus dan k212 mmbri hujjah partai...</td>\n",
       "      <td>neutral</td>\n",
       "    </tr>\n",
       "    <tr>\n",
       "      <th>2</th>\n",
       "      <td>lokasi strategis di jalan sumatera bandung . t...</td>\n",
       "      <td>positive</td>\n",
       "    </tr>\n",
       "    <tr>\n",
       "      <th>3</th>\n",
       "      <td>betapa bahagia nya diri ini saat unboxing pake...</td>\n",
       "      <td>positive</td>\n",
       "    </tr>\n",
       "    <tr>\n",
       "      <th>4</th>\n",
       "      <td>duh . jadi mahasiswa jangan sombong dong . kas...</td>\n",
       "      <td>negative</td>\n",
       "    </tr>\n",
       "    <tr>\n",
       "      <th>...</th>\n",
       "      <td>...</td>\n",
       "      <td>...</td>\n",
       "    </tr>\n",
       "    <tr>\n",
       "      <th>10928</th>\n",
       "      <td>f - demokrat dorong upaya kemandirian energi n...</td>\n",
       "      <td>neutral</td>\n",
       "    </tr>\n",
       "    <tr>\n",
       "      <th>10929</th>\n",
       "      <td>tidak bosan</td>\n",
       "      <td>positive</td>\n",
       "    </tr>\n",
       "    <tr>\n",
       "      <th>10930</th>\n",
       "      <td>enak rasa masakan nya apalagi kepiting yang me...</td>\n",
       "      <td>positive</td>\n",
       "    </tr>\n",
       "    <tr>\n",
       "      <th>10931</th>\n",
       "      <td>pagi pagi di tol pasteur sudah macet parah , b...</td>\n",
       "      <td>negative</td>\n",
       "    </tr>\n",
       "    <tr>\n",
       "      <th>10932</th>\n",
       "      <td>meskipun sering belanja ke yogya di riau junct...</td>\n",
       "      <td>positive</td>\n",
       "    </tr>\n",
       "  </tbody>\n",
       "</table>\n",
       "<p>10933 rows × 2 columns</p>\n",
       "</div>"
      ],
      "text/plain": [
       "                                                 Kalimat     Label\n",
       "0      warung ini dimiliki oleh pengusaha pabrik tahu...  positive\n",
       "1      mohon ulama lurus dan k212 mmbri hujjah partai...   neutral\n",
       "2      lokasi strategis di jalan sumatera bandung . t...  positive\n",
       "3      betapa bahagia nya diri ini saat unboxing pake...  positive\n",
       "4      duh . jadi mahasiswa jangan sombong dong . kas...  negative\n",
       "...                                                  ...       ...\n",
       "10928  f - demokrat dorong upaya kemandirian energi n...   neutral\n",
       "10929                                        tidak bosan  positive\n",
       "10930  enak rasa masakan nya apalagi kepiting yang me...  positive\n",
       "10931  pagi pagi di tol pasteur sudah macet parah , b...  negative\n",
       "10932  meskipun sering belanja ke yogya di riau junct...  positive\n",
       "\n",
       "[10933 rows x 2 columns]"
      ]
     },
     "execution_count": 7,
     "metadata": {},
     "output_type": "execute_result"
    }
   ],
   "source": [
    "df"
   ]
  },
  {
   "cell_type": "markdown",
   "metadata": {
    "id": "kc35HBTal82j"
   },
   "source": [
    "#### Checking Data based on Label"
   ]
  },
  {
   "cell_type": "code",
   "execution_count": 8,
   "metadata": {
    "colab": {
     "base_uri": "https://localhost:8080/"
    },
    "id": "hFlda0JOL3tX",
    "outputId": "d11846e2-d3ff-4fd0-dcc5-c2bacc271a58"
   },
   "outputs": [
    {
     "data": {
      "text/plain": [
       "positive    6383\n",
       "negative    3412\n",
       "neutral     1138\n",
       "Name: Label, dtype: int64"
      ]
     },
     "execution_count": 8,
     "metadata": {},
     "output_type": "execute_result"
    }
   ],
   "source": [
    "df.Label.value_counts()"
   ]
  },
  {
   "cell_type": "markdown",
   "metadata": {},
   "source": [
    "Setelah dilakukan checking missing value dan data duplicate diperoleh bahwa data sentimen twitter (df) memiliki :\n",
    "- Kalimat Positive sebanyak 6382 kalimat\n",
    "- Kalimat Negatif sebanyak 3412 kalimat\n",
    "- Kalimat Netral sebanyak 1138 kalimat"
   ]
  },
  {
   "cell_type": "code",
   "execution_count": 9,
   "metadata": {},
   "outputs": [
    {
     "name": "stdout",
     "output_type": "stream",
     "text": [
      "Jumlah kalimat: 10933\n"
     ]
    }
   ],
   "source": [
    "print('Jumlah kalimat:',df.Label.value_counts().sum())"
   ]
  },
  {
   "cell_type": "markdown",
   "metadata": {
    "id": "f6Ww6GcWlu4R"
   },
   "source": [
    "### Download Dict of Stopwords"
   ]
  },
  {
   "cell_type": "markdown",
   "metadata": {},
   "source": [
    "Sebelum di lakukan proses normalisasi pada text mining yaitu proses cleansing dibutuhkan suatu kamus yang berisi kata-kata yang tidak memiliki makna atau arti yang disebut sebagai stopword"
   ]
  },
  {
   "cell_type": "code",
   "execution_count": 10,
   "metadata": {
    "colab": {
     "base_uri": "https://localhost:8080/"
    },
    "id": "ptfoTsRG3PEq",
    "outputId": "56d86914-47a8-43e2-b9fc-f01a920cfe3a"
   },
   "outputs": [
    {
     "name": "stderr",
     "output_type": "stream",
     "text": [
      "[nltk_data] Downloading package stopwords to\n",
      "[nltk_data]     /Users/salwainasshabira/nltk_data...\n",
      "[nltk_data]   Package stopwords is already up-to-date!\n"
     ]
    },
    {
     "data": {
      "text/plain": [
       "True"
      ]
     },
     "execution_count": 10,
     "metadata": {},
     "output_type": "execute_result"
    }
   ],
   "source": [
    "import nltk\n",
    "nltk.download('stopwords')"
   ]
  },
  {
   "cell_type": "code",
   "execution_count": 11,
   "metadata": {},
   "outputs": [],
   "source": [
    "from nltk.corpus import stopwords \n",
    "\n",
    "kamus_stopword = stopwords.words('indonesian')\n",
    "more_stopword = ['sih','nya', 'iya', 'nih', 'biar', 'tau', 'kayak', 'banget','ya','gue','rt','RT','amp']\n",
    "kamus_stopword = kamus_stopword+more_stopword\n",
    "\n",
    "df_stopword = pd.DataFrame(kamus_stopword)\n",
    "df_stopword = df_stopword.rename(columns={0:'stopword'})\n",
    "\n",
    "not_stopwords = {'tidak'} \n",
    "final_stop_words = set([word for word in kamus_stopword if word not in not_stopwords])"
   ]
  },
  {
   "cell_type": "markdown",
   "metadata": {
    "id": "_cXaHkQCQ6wK"
   },
   "source": [
    "### Kamus Alay"
   ]
  },
  {
   "cell_type": "markdown",
   "metadata": {
    "id": "kvJ30N7wgY-R"
   },
   "source": [
    "Pada proses cleansing digunakan suatu data yang berisikan kumpulan kata-kata alay yang dapat direplace atau digantikan dengan kata yang formal atau arti sebenarnya"
   ]
  },
  {
   "cell_type": "code",
   "execution_count": 12,
   "metadata": {
    "colab": {
     "base_uri": "https://localhost:8080/",
     "height": 419
    },
    "id": "jdLy5SGB7iD9",
    "outputId": "a328619d-3c1d-482c-83d9-2093b0e93506"
   },
   "outputs": [
    {
     "data": {
      "text/html": [
       "<div>\n",
       "<style scoped>\n",
       "    .dataframe tbody tr th:only-of-type {\n",
       "        vertical-align: middle;\n",
       "    }\n",
       "\n",
       "    .dataframe tbody tr th {\n",
       "        vertical-align: top;\n",
       "    }\n",
       "\n",
       "    .dataframe thead th {\n",
       "        text-align: right;\n",
       "    }\n",
       "</style>\n",
       "<table border=\"1\" class=\"dataframe\">\n",
       "  <thead>\n",
       "    <tr style=\"text-align: right;\">\n",
       "      <th></th>\n",
       "      <th>Original</th>\n",
       "      <th>Arti</th>\n",
       "    </tr>\n",
       "  </thead>\n",
       "  <tbody>\n",
       "    <tr>\n",
       "      <th>0</th>\n",
       "      <td>anakjakartaasikasik</td>\n",
       "      <td>anak jakarta asyik asyik</td>\n",
       "    </tr>\n",
       "    <tr>\n",
       "      <th>1</th>\n",
       "      <td>pakcikdahtua</td>\n",
       "      <td>pak cik sudah tua</td>\n",
       "    </tr>\n",
       "    <tr>\n",
       "      <th>2</th>\n",
       "      <td>pakcikmudalagi</td>\n",
       "      <td>pak cik muda lagi</td>\n",
       "    </tr>\n",
       "    <tr>\n",
       "      <th>3</th>\n",
       "      <td>t3tapjokowi</td>\n",
       "      <td>tetap jokowi</td>\n",
       "    </tr>\n",
       "    <tr>\n",
       "      <th>4</th>\n",
       "      <td>3x</td>\n",
       "      <td>tiga kali</td>\n",
       "    </tr>\n",
       "    <tr>\n",
       "      <th>...</th>\n",
       "      <td>...</td>\n",
       "      <td>...</td>\n",
       "    </tr>\n",
       "    <tr>\n",
       "      <th>15164</th>\n",
       "      <td>menaker</td>\n",
       "      <td>menteri tenaga kerja</td>\n",
       "    </tr>\n",
       "    <tr>\n",
       "      <th>15165</th>\n",
       "      <td>memetwit</td>\n",
       "      <td>mentwit</td>\n",
       "    </tr>\n",
       "    <tr>\n",
       "      <th>15166</th>\n",
       "      <td>megangin</td>\n",
       "      <td>memegang</td>\n",
       "    </tr>\n",
       "    <tr>\n",
       "      <th>15167</th>\n",
       "      <td>mmbri</td>\n",
       "      <td>memberi</td>\n",
       "    </tr>\n",
       "    <tr>\n",
       "      <th>15168</th>\n",
       "      <td>diwlh</td>\n",
       "      <td>dipilih</td>\n",
       "    </tr>\n",
       "  </tbody>\n",
       "</table>\n",
       "<p>15169 rows × 2 columns</p>\n",
       "</div>"
      ],
      "text/plain": [
       "                  Original                      Arti\n",
       "0      anakjakartaasikasik  anak jakarta asyik asyik\n",
       "1             pakcikdahtua         pak cik sudah tua\n",
       "2           pakcikmudalagi         pak cik muda lagi\n",
       "3              t3tapjokowi              tetap jokowi\n",
       "4                       3x                 tiga kali\n",
       "...                    ...                       ...\n",
       "15164              menaker      menteri tenaga kerja\n",
       "15165             memetwit                   mentwit\n",
       "15166             megangin                  memegang\n",
       "15167                mmbri                   memberi\n",
       "15168                diwlh                   dipilih\n",
       "\n",
       "[15169 rows x 2 columns]"
      ]
     },
     "execution_count": 12,
     "metadata": {},
     "output_type": "execute_result"
    }
   ],
   "source": [
    "df_kamusalay = pd.read_csv('new_kamusalay (1).csv',encoding = 'latin-1', header=None)\n",
    "df_kamusalay = df_kamusalay.rename(columns={0: 'Original', 1: 'Arti'})\n",
    "df_kamusalay"
   ]
  },
  {
   "cell_type": "code",
   "execution_count": 13,
   "metadata": {
    "colab": {
     "base_uri": "https://localhost:8080/",
     "height": 419
    },
    "id": "2KuiY8fGXROM",
    "outputId": "dfd04db4-d825-406c-fa44-2a72dc760db9"
   },
   "outputs": [
    {
     "data": {
      "text/html": [
       "<div>\n",
       "<style scoped>\n",
       "    .dataframe tbody tr th:only-of-type {\n",
       "        vertical-align: middle;\n",
       "    }\n",
       "\n",
       "    .dataframe tbody tr th {\n",
       "        vertical-align: top;\n",
       "    }\n",
       "\n",
       "    .dataframe thead th {\n",
       "        text-align: right;\n",
       "    }\n",
       "</style>\n",
       "<table border=\"1\" class=\"dataframe\">\n",
       "  <thead>\n",
       "    <tr style=\"text-align: right;\">\n",
       "      <th></th>\n",
       "      <th>Original</th>\n",
       "      <th>Arti</th>\n",
       "    </tr>\n",
       "  </thead>\n",
       "  <tbody>\n",
       "    <tr>\n",
       "      <th>0</th>\n",
       "      <td>anakjakartaasikasik</td>\n",
       "      <td>anak jakarta asyik asyik</td>\n",
       "    </tr>\n",
       "    <tr>\n",
       "      <th>1</th>\n",
       "      <td>pakcikdahtua</td>\n",
       "      <td>pak cik sudah tua</td>\n",
       "    </tr>\n",
       "    <tr>\n",
       "      <th>2</th>\n",
       "      <td>pakcikmudalagi</td>\n",
       "      <td>pak cik muda lagi</td>\n",
       "    </tr>\n",
       "    <tr>\n",
       "      <th>3</th>\n",
       "      <td>t3tapjokowi</td>\n",
       "      <td>tetap jokowi</td>\n",
       "    </tr>\n",
       "    <tr>\n",
       "      <th>4</th>\n",
       "      <td>3x</td>\n",
       "      <td>tiga kali</td>\n",
       "    </tr>\n",
       "    <tr>\n",
       "      <th>...</th>\n",
       "      <td>...</td>\n",
       "      <td>...</td>\n",
       "    </tr>\n",
       "    <tr>\n",
       "      <th>15165</th>\n",
       "      <td>memetwit</td>\n",
       "      <td>mentwit</td>\n",
       "    </tr>\n",
       "    <tr>\n",
       "      <th>15166</th>\n",
       "      <td>megangin</td>\n",
       "      <td>memegang</td>\n",
       "    </tr>\n",
       "    <tr>\n",
       "      <th>15167</th>\n",
       "      <td>mmbri</td>\n",
       "      <td>memberi</td>\n",
       "    </tr>\n",
       "    <tr>\n",
       "      <th>15168</th>\n",
       "      <td>diwlh</td>\n",
       "      <td>dipilih</td>\n",
       "    </tr>\n",
       "    <tr>\n",
       "      <th>15169</th>\n",
       "      <td>Pemandngan</td>\n",
       "      <td>Pemandangan</td>\n",
       "    </tr>\n",
       "  </tbody>\n",
       "</table>\n",
       "<p>15170 rows × 2 columns</p>\n",
       "</div>"
      ],
      "text/plain": [
       "                  Original                      Arti\n",
       "0      anakjakartaasikasik  anak jakarta asyik asyik\n",
       "1             pakcikdahtua         pak cik sudah tua\n",
       "2           pakcikmudalagi         pak cik muda lagi\n",
       "3              t3tapjokowi              tetap jokowi\n",
       "4                       3x                 tiga kali\n",
       "...                    ...                       ...\n",
       "15165             memetwit                   mentwit\n",
       "15166             megangin                  memegang\n",
       "15167                mmbri                   memberi\n",
       "15168                diwlh                   dipilih\n",
       "15169           Pemandngan               Pemandangan\n",
       "\n",
       "[15170 rows x 2 columns]"
      ]
     },
     "execution_count": 13,
     "metadata": {},
     "output_type": "execute_result"
    }
   ],
   "source": [
    "new_kamusalay = {'Original':'Pemandngan', 'Arti':'Pemandangan'}\n",
    "df_kamusalay = df_kamusalay.append(new_kamusalay, ignore_index=True)\n",
    "df_kamusalay"
   ]
  },
  {
   "cell_type": "code",
   "execution_count": 14,
   "metadata": {},
   "outputs": [
    {
     "name": "stdout",
     "output_type": "stream",
     "text": [
      "Requirement already satisfied: Sastrawi in /opt/anaconda3/lib/python3.9/site-packages (1.0.1)\n",
      "Note: you may need to restart the kernel to use updated packages.\n"
     ]
    }
   ],
   "source": [
    "pip install Sastrawi"
   ]
  },
  {
   "cell_type": "markdown",
   "metadata": {
    "id": "-ryovRxNZkMv"
   },
   "source": [
    "### Cleansing Processes"
   ]
  },
  {
   "cell_type": "code",
   "execution_count": 15,
   "metadata": {
    "id": "tdntfEsKYG2P"
   },
   "outputs": [],
   "source": [
    "import re\n",
    "import nltk\n",
    "from Sastrawi.Stemmer.StemmerFactory import StemmerFactory\n",
    "from nltk.tokenize import TweetTokenizer\n",
    "\n",
    "stem = StemmerFactory()\n",
    "stemmer = stem.create_stemmer()\n",
    "\n",
    "def lowercase(teks):\n",
    "    teks_baru = teks.lower()\n",
    "    return teks_baru\n",
    "\n",
    "def stemming(teks):\n",
    "    return stemmer.stem(teks)\n",
    "\n",
    "def replacement_alay(teks):\n",
    "    kamusalay_map = dict(zip(df_kamusalay['Original'], df_kamusalay['Arti']))\n",
    "    for word in kamusalay_map:\n",
    "        return ' '.join([kamusalay_map[word] if word in kamusalay_map else word for word in teks.split(' ')])\n",
    "\n",
    "def remove_stopword(teks):\n",
    "    tokenizer = TweetTokenizer(preserve_case=False, strip_handles=True, reduce_len=True)\n",
    "    tweet_tokens = tokenizer.tokenize(teks)\n",
    " \n",
    "    tweets_clean = []    \n",
    "    for word in tweet_tokens:\n",
    "        if (word not in final_stop_words): # remove punctuation\n",
    "            stem_word = stemmer.stem(word) # stemming word\n",
    "            tweets_clean.append(stem_word)\n",
    "    return \" \".join(tweets_clean)\n",
    "\n",
    "def remove_worduncess(teks):\n",
    "    teks = re.sub('k212',' ', teks)\n",
    "    teks = re.sub(r':',' ', teks) #Menghilangkan tanda baca :\n",
    "    teks = re.sub('[0-9]+',' ', teks) #Menghilangkan angka-angka\n",
    "    teks = re.sub('\\n',' ',teks) #Menghilangkan tab\n",
    "    teks = re.sub('  +',' ',teks) #Menghilangkan ekstra spasi\n",
    "    teks = re.sub(r'#', '', teks) #Menghilangkan hashtag\n",
    "    teks = re.sub('((www\\.[^\\s]+)|(https?://[^\\s]+)|(http?://[^\\s]+))',' ',teks) #Menghilangkan link/web\n",
    "    return teks\n",
    "                        \n",
    "def remove_punctuation(teks):\n",
    "    teks = re.sub(r'[^\\w\\s]',' ',teks) #Menghilangkan tanda baca\n",
    "    teks = re.sub(' +',' ',teks)\n",
    "    return teks\n",
    "\n",
    "def remove_user(teks):\n",
    "    teks = re.sub('user',' ',teks) #Menghilangkan kata user\n",
    "    teks = re.sub('  +',' ',teks) #Menghilangkan ekstra spasi\n",
    "    return teks\n",
    "\n",
    "def remove_emoticon(teks):\n",
    "    teks = teks.replace(' \\ ', ' ')\n",
    "    teks = re.sub('x..', ' ', teks)\n",
    "    teks = re.sub(' \\n', ' ', teks)\n",
    "    teks = re.sub('\\+', ' ', teks)\n",
    "    teks = re.sub(' +',' ', teks)\n",
    "    teks = re.sub(r'\\$\\w*',' ',teks)\n",
    "    return teks\n",
    "\n",
    "def cleansing(teks):\n",
    "    teks = lowercase(teks)\n",
    "    teks = stemming(teks)\n",
    "    teks = remove_stopword(teks)\n",
    "    teks = remove_user(teks)\n",
    "    teks = remove_emoticon(teks)\n",
    "    teks = remove_worduncess(teks)\n",
    "    teks = remove_punctuation(teks)\n",
    "    teks = replacement_alay(teks)\n",
    "    return teks"
   ]
  },
  {
   "cell_type": "markdown",
   "metadata": {
    "id": "F5OoYNJhMV8P"
   },
   "source": [
    "### Hasil Cleansing Data Sentimen"
   ]
  },
  {
   "cell_type": "code",
   "execution_count": 16,
   "metadata": {
    "colab": {
     "base_uri": "https://localhost:8080/",
     "height": 419
    },
    "id": "QNDKTvTtcfBt",
    "outputId": "09a0f923-287a-4db9-897e-08e808e4ad2d"
   },
   "outputs": [
    {
     "data": {
      "text/html": [
       "<div>\n",
       "<style scoped>\n",
       "    .dataframe tbody tr th:only-of-type {\n",
       "        vertical-align: middle;\n",
       "    }\n",
       "\n",
       "    .dataframe tbody tr th {\n",
       "        vertical-align: top;\n",
       "    }\n",
       "\n",
       "    .dataframe thead th {\n",
       "        text-align: right;\n",
       "    }\n",
       "</style>\n",
       "<table border=\"1\" class=\"dataframe\">\n",
       "  <thead>\n",
       "    <tr style=\"text-align: right;\">\n",
       "      <th></th>\n",
       "      <th>Kalimat</th>\n",
       "      <th>Label</th>\n",
       "      <th>Kalimat_Bersih</th>\n",
       "    </tr>\n",
       "  </thead>\n",
       "  <tbody>\n",
       "    <tr>\n",
       "      <th>0</th>\n",
       "      <td>warung ini dimiliki oleh pengusaha pabrik tahu...</td>\n",
       "      <td>positive</td>\n",
       "      <td>warung milik usaha pabrik puluh kenal putih ba...</td>\n",
       "    </tr>\n",
       "    <tr>\n",
       "      <th>1</th>\n",
       "      <td>mohon ulama lurus dan k212 mmbri hujjah partai...</td>\n",
       "      <td>neutral</td>\n",
       "      <td>mohon ulama lurus memberi hujjah partai dipili...</td>\n",
       "    </tr>\n",
       "    <tr>\n",
       "      <th>2</th>\n",
       "      <td>lokasi strategis di jalan sumatera bandung . t...</td>\n",
       "      <td>positive</td>\n",
       "      <td>lokasi strategis jalan sumatra bandung nyaman ...</td>\n",
       "    </tr>\n",
       "    <tr>\n",
       "      <th>3</th>\n",
       "      <td>betapa bahagia nya diri ini saat unboxing pake...</td>\n",
       "      <td>positive</td>\n",
       "      <td>betapa bahagia unbo tidak paket barang bagus beli</td>\n",
       "    </tr>\n",
       "    <tr>\n",
       "      <th>4</th>\n",
       "      <td>duh . jadi mahasiswa jangan sombong dong . kas...</td>\n",
       "      <td>negative</td>\n",
       "      <td>aduh mahasiswa sombong kasih kartu kuning ajar...</td>\n",
       "    </tr>\n",
       "    <tr>\n",
       "      <th>...</th>\n",
       "      <td>...</td>\n",
       "      <td>...</td>\n",
       "      <td>...</td>\n",
       "    </tr>\n",
       "    <tr>\n",
       "      <th>10928</th>\n",
       "      <td>f - demokrat dorong upaya kemandirian energi n...</td>\n",
       "      <td>neutral</td>\n",
       "      <td>f demokrat dorong upaya mandiri energi nasional</td>\n",
       "    </tr>\n",
       "    <tr>\n",
       "      <th>10929</th>\n",
       "      <td>tidak bosan</td>\n",
       "      <td>positive</td>\n",
       "      <td>tidak bosan</td>\n",
       "    </tr>\n",
       "    <tr>\n",
       "      <th>10930</th>\n",
       "      <td>enak rasa masakan nya apalagi kepiting yang me...</td>\n",
       "      <td>positive</td>\n",
       "      <td>enak masakan kepiting senang pilih kepiting se...</td>\n",
       "    </tr>\n",
       "    <tr>\n",
       "      <th>10931</th>\n",
       "      <td>pagi pagi di tol pasteur sudah macet parah , b...</td>\n",
       "      <td>negative</td>\n",
       "      <td>pagi pagi tol pasteur macet parah bikin jengkel</td>\n",
       "    </tr>\n",
       "    <tr>\n",
       "      <th>10932</th>\n",
       "      <td>meskipun sering belanja ke yogya di riau junct...</td>\n",
       "      <td>positive</td>\n",
       "      <td>belanja yogyakarta riau junction kali lihat fo...</td>\n",
       "    </tr>\n",
       "  </tbody>\n",
       "</table>\n",
       "<p>10933 rows × 3 columns</p>\n",
       "</div>"
      ],
      "text/plain": [
       "                                                 Kalimat     Label  \\\n",
       "0      warung ini dimiliki oleh pengusaha pabrik tahu...  positive   \n",
       "1      mohon ulama lurus dan k212 mmbri hujjah partai...   neutral   \n",
       "2      lokasi strategis di jalan sumatera bandung . t...  positive   \n",
       "3      betapa bahagia nya diri ini saat unboxing pake...  positive   \n",
       "4      duh . jadi mahasiswa jangan sombong dong . kas...  negative   \n",
       "...                                                  ...       ...   \n",
       "10928  f - demokrat dorong upaya kemandirian energi n...   neutral   \n",
       "10929                                        tidak bosan  positive   \n",
       "10930  enak rasa masakan nya apalagi kepiting yang me...  positive   \n",
       "10931  pagi pagi di tol pasteur sudah macet parah , b...  negative   \n",
       "10932  meskipun sering belanja ke yogya di riau junct...  positive   \n",
       "\n",
       "                                          Kalimat_Bersih  \n",
       "0      warung milik usaha pabrik puluh kenal putih ba...  \n",
       "1      mohon ulama lurus memberi hujjah partai dipili...  \n",
       "2      lokasi strategis jalan sumatra bandung nyaman ...  \n",
       "3      betapa bahagia unbo tidak paket barang bagus beli  \n",
       "4      aduh mahasiswa sombong kasih kartu kuning ajar...  \n",
       "...                                                  ...  \n",
       "10928    f demokrat dorong upaya mandiri energi nasional  \n",
       "10929                                        tidak bosan  \n",
       "10930  enak masakan kepiting senang pilih kepiting se...  \n",
       "10931    pagi pagi tol pasteur macet parah bikin jengkel  \n",
       "10932  belanja yogyakarta riau junction kali lihat fo...  \n",
       "\n",
       "[10933 rows x 3 columns]"
      ]
     },
     "execution_count": 16,
     "metadata": {},
     "output_type": "execute_result"
    }
   ],
   "source": [
    "df['Kalimat_Bersih'] = df['Kalimat'].apply(cleansing)\n",
    "df"
   ]
  },
  {
   "cell_type": "markdown",
   "metadata": {
    "id": "bYMDj5mzKVY6"
   },
   "source": [
    "### Import Library"
   ]
  },
  {
   "cell_type": "markdown",
   "metadata": {
    "id": "-OTFKOvPXClu"
   },
   "source": [
    "Langka pertama dilakukan adalah mengimport library yang digunakan dalam proses classification dengan Neural Network:\n",
    "\n",
    "1. Pickle = library yang digunakan untuk melakukan pembobotan pada tiap kata yang dimiliki dengan menggunakan metode verktorisasi hasil pembobotan disimpan dan dibaca ke dalam atau dari suatu file berformat .pkl.\n",
    "\n",
    "2. Scipy = library yang digunakan untuk memecahkan masalah matematika, ilmiah, teknik, dan teknis.\n",
    "\n",
    "3. Scikit-Learn (Sklearn) = Library yang digunakan pada Machine Learning yaitu untuk membuat model classification"
   ]
  },
  {
   "cell_type": "code",
   "execution_count": 17,
   "metadata": {
    "id": "CutlZRnTQ2gY"
   },
   "outputs": [],
   "source": [
    "import pickle\n",
    "import scipy\n",
    "import sklearn\n",
    "import sklearn.metrics as metrics\n",
    "from sklearn.metrics import f1_score, recall_score, precision_score, confusion_matrix\n",
    "from sklearn.metrics import classification_report\n",
    "from sklearn.feature_extraction.text import TfidfVectorizer\n",
    "from sklearn.model_selection import train_test_split\n",
    "from sklearn.neural_network import MLPClassifier\n",
    "from sklearn.metrics import accuracy_score\n",
    "from sklearn.model_selection import KFold"
   ]
  },
  {
   "cell_type": "markdown",
   "metadata": {
    "id": "5GkFskrB33s-"
   },
   "source": [
    "### Feature Extraction TF-IDF"
   ]
  },
  {
   "cell_type": "code",
   "execution_count": 18,
   "metadata": {
    "colab": {
     "base_uri": "https://localhost:8080/"
    },
    "id": "6DsPahpJLM7S",
    "outputId": "38eccaae-f8e7-4a34-ee75-acb0354da4f8",
    "scrolled": true
   },
   "outputs": [
    {
     "data": {
      "text/plain": [
       "['warung milik usaha pabrik puluh kenal putih bandung kualitas padu ahli masak padu kretivitas warung saji menu utama bahan menu ayam selera indonesia harga jangkau bletoka tidak kalah asli tegal',\n",
       " 'mohon ulama lurus memberi hujjah partai dipilih suara islam tidak pecah',\n",
       " 'lokasi strategis jalan sumatra bandung nyaman utama sofa lantai paella enak pas makan minum bir dingin appetiser enak',\n",
       " 'betapa bahagia unbo tidak paket barang bagus beli',\n",
       " 'aduh mahasiswa sombong kasih kartu kuning ajar tidak politik selesai kuliah politik tidak telat dasar mahasiswa',\n",
       " 'makan agam harga makan food stall kasir suasana ramai perhati parkir duduk',\n",
       " 'pakai kartu kredit baca tidak untung rugi',\n",
       " 'unik bagus foto makan enak pegawai ramah bersih luas wifi kencang harga standar sesuai menu masakan makan barat indonesia menu favorit lychee mojito spagheti',\n",
       " 'keluarga nikmat alam kuliner senang rm sari sunda jalan setiabudhi bandung tidak hubung rm sari sunda jalan setiabudhi tulis maaf rekan baca bingung suka restoran layan restoran bilang cepat',\n",
       " 'syukur',\n",
       " 'simcard indosat inaktiv gara gara lupa isi pulsa kabar aktif pinda pasca bayar ribet',\n",
       " 'sifat iri muncul orang orang tidak tuju hidup',\n",
       " 'cerita alam pesan steak grilled beef tidak saji steak tidak potong tidak tidak tidak buruk kualitas daging enggan mes menu beef khusus sirloin lemak ukur steak menu tempel lidah saran beli menu label cheese',\n",
       " 'alam indosat semoga tidak langgan marah layan langgan indosat',\n",
       " 'anak sulit nasehat',\n",
       " 'begini anies sandi tidak becus pasukan bersih',\n",
       " 'badan usaha milik negara bentuk undang undang bentuk undang undang',\n",
       " 'habis puas main trans studio bandung teman sepakat makan ayam kakek ayam enak gurih',\n",
       " 'bakso cuanki batagor ramai unjung buka jam pagi jalan riau tuju jalan a yani sisi kiri jalan jalan anggrek harga porsi rupiah ramai unjung',\n",
       " 'sgwr dampak positif hadap hobi anak',\n",
       " 'lembang pandang indah udara sejuk tata resto bagus lengkap makan nikmat pilih menu agam minum lengkap lingkung cocok makan pasang bawa keluarga teman lapang parkir luas restoran konsep buka udara lembang asa sejuk',\n",
       " 'buka puasa minggu lepas supir cadang makan makan sedap harga patut luas cantik rekomendasi too others to dine in here to authentic sunda makan indonesia',\n",
       " 'haha suka menonton kartun indonesia keluarga tomat',\n",
       " 'teman kunjung bandung mampir kopi anjis makan makan tidak berat cilok rakyat teman teh sereh lekker',\n",
       " 'restoran keluarga makan malam bandung orang an murah riah makan double double makan enak suasana kafe tarik layan bagus toilet restoran men to the pergi momen are ribut haha timpal',\n",
       " 'alhamdulillah tidak jalan bugel kesal melulu sempit arah macet makan',\n",
       " 'respon sayang rem asli rom distrobitor',\n",
       " 'lokasi pandang alam natural indah suasana sejuk tenang nyamuk harga makan relatif mahal',\n",
       " 'partai demokrasi indonesia perjuangan ridwan kamil menang baju merah',\n",
       " 'malu memalukan oknum tidak tanggung',\n",
       " 'makan siang asyik nuansa bal musik musik sunda kadang musik khas bal ganti enak adem sayang pesan kopi kali kali jam kopi kopi panas kopi adek kah ciri khas kopi khas kopi dingin tidak enak',\n",
       " 'steak bandung zaman setiabudi buka cabang riau riau parkir tidak sulit setiabudi lokasi kuliner jalan riau porsi harga pas ukur steak zoom non smoking nyaman',\n",
       " ' presiden ri rombong gate terminal sambut menteri hubung menteri badan usaha milik negara gubernur banten direktur jenderal perkeretaapian kemhub direktur utama apa direktur utama pt direktur utama railink',\n",
       " 'makan tradisional stabil iga garang asam java steak lupa coba hidang tutup kue enak lemper soes fla gulung enak tidak tidak enak makan',\n",
       " 'batagor enak kota bandung banding batagor coba bumbu kacang pas lidah batagor tidak amis bau sila coba coba',\n",
       " 'aroma khas makan daun pisang ramai favourit bandung',\n",
       " 'keluarga jalan daerah lembang tidak sengaja mampir makan resto suasana nyaman layan ramah ala puas makan saji standar makan restoran beda sambal stroberi enak bikin tagih makan petik',\n",
       " 'risma jatuh pilih gus ipul puti pilihan gubernur jawa timur ',\n",
       " 'alam seru makan alas piring alas daun nikmat makan sunda variatif enak tips bawa emosi kalap mes pilih makan sedia kalap lihat makan pilih',\n",
       " 'makan enak suasana nyaman harga bilang restoran konsep kenal menu jepang enak lah',\n",
       " 'kampung daun makan konsep alam budaya daerah kompleks rumah luas saung makan kapasitas kualitas makan enak suara riak air air terjun suasana nyaman makan',\n",
       " 'pesan nasi goreng kentang goreng nasi goreng suka kentang goreng enak presentasi bagus keluarga bilang kopi enak luas lihat pandang dusun bambu layan tidak cepat kali pesan harga mahal makan enak bayar tidak pikir kali',\n",
       " 'makan sunda tebar kota bandung tidak jatuh hati buah warung makan imas alun kota bandung suguh rumah makan sunda karakter warung nasi zaman ambil hidang proses order jumpa warung makan',\n",
       " 'hai tolong bantu tidak input tidak resi jne nomor resi pakai',\n",
       " 'foods menu cheeseburger oke chicken sayap pizza hari ulang tahun juara rilis mi tidak green tea yakult perfect pizza hari ulang tahun pinggir',\n",
       " 'dusun bambu golong bandung almamater gampang cari pandang bagus makan enak beli pakai kupon',\n",
       " 'tidak muas',\n",
       " 'suruh mengaca main dasar oneng berbicara ala betawi kamu kampung',\n",
       " 'kafe saji sensasi makan gelap unik orang jarang tarik coba',\n",
       " 'sesuai nama mi awie kedai makan sedia menu mi olah daging babi mi pilih nasi goreng babi capjay goreng bakso pangsit coba menu mi babi casau spesial enak',\n",
       " 'mardani ali sera menang sosial media menang dunia nyata',\n",
       " 'upa kafe sekaramg inap boutique hotel travel bareng anak suka inap playground seru swimming pool high rope flying fo nap tiket gratis petik stroberi pesan suka ramai inap pilih kamar enak',\n",
       " 'selamat pagi kecewa berat indihome internet tidak kocek bayar mahal kecewa langgan',\n",
       " 'pokok afdal lembang bandung tidak mampir humas kampung daun',\n",
       " 'kentaki fried chicken bandung supermall fasilitas lengkap luas jarang temu dikfc keramahtamaan karyawan bagus',\n",
       " 'restoran sapu lidi milik uni serasa makan sawah dikelilingin kolam ikan nuansa sawah menu makan sunda menu favorit jamur bakar enak',\n",
       " 'enak mi abu mi black cocol sayap ayam mantap makan camil',\n",
       " 'negara kesatuan republik indonesia bersyariah front pembela islam revolusi akhlaq suara adil laugh sandung front pembela islam ulama sandung obrol mesum tidak berani pulang negara kesatuan republik indonesia bersyariah arti tidak amal pancasila sungguh miris',\n",
       " 'bikin macet orang',\n",
       " 'singapura selidik jual prt indonesia situs daring',\n",
       " 'pergi raya ulang kesan istri pilih menu makan variatif makan barat lokal sedia baju hangat dingin',\n",
       " 'tidak pilih orang kecut prabowo tidak pimpin negara',\n",
       " 'iklan jaring lamban',\n",
       " 'orang tiongkok masuk indonesia maju andal orang pribumi otak jongkok',\n",
       " 'cepat respon kirim kilat ramah putar toko tidak temu toko juragan layan muas tangkap juragan',\n",
       " 'sok citra basi gaya kamu wibawa seragam coklat top deh anies',\n",
       " 'teman suasana senang pandang bagus hawa dingin segar malam steak enak',\n",
       " 'debut bagus bikin suka tonight saranghajima tidak mengerti winner abang bigbang nyanyi jiwa nyanyi bagus cinta sifat sikap',\n",
       " 'lelah malam',\n",
       " 'marah',\n",
       " 'tidak pilih susilo bambang yudhoyono eh pilih prabowo maksude pilih jokowi partai banteng moncong tepung grinningfacewithsmilingeyes',\n",
       " 'puas servis ramah harga banding layan pandang keren cocok acara berkumpul bareng teman keluarga pokok rekomendasi tidak sesal deh pokok layan feriyana super ramah pokok teman the tahun recommened',\n",
       " 'kali makan abuba steak jakarta beda nikmat abuba steak jakarta enak suasana restoran oke toilet tua baharu',\n",
       " ' jaring jelek',\n",
       " 'puas games mobile legend',\n",
       " 'rekan kerja sengaja coba makan siang sambal khas karmila cab buah batu bandung bilang cozzy nyaman lantai lantai dasar tidak makan makan cepat saji penuh hiruk pikuk langgan ayam bakar rekomendasi sambal mangga kait harga bilang relative',\n",
       " 'kuah bakso asin enak jual keliling malang bagus jamu teman lokasi ramai bakso sedia capcay nasi goreng enak',\n",
       " 'warga jakarta malu kang oknum tidak tanggung sweeping bobotoh',\n",
       " 'tenderloin steak juara mudah akses maki sembunyi nyaman tema zaman tidak ramai layan',\n",
       " 'salah restoran cina masakan kepiting favorit juara pesan kepiting rebus babat toge cah kangkung',\n",
       " 'cebong tuduh curi uang sedekah sila urus sih aris wahyudi ambil komisi transaksi lacur kedok agama berani tidak bulat sih aris wahyudi berani jonru',\n",
       " 'tarik pilihan kepala daerah jawa barat ridwan kamil pasang tokoh dc universe',\n",
       " 'suasana kantor dewan pimpinan cabang kabupaten bogor jelang pidato ',\n",
       " 'djarum tidak kuat tidak bagus pas bakar',\n",
       " 'bakmi tasik teman mampir coba bakmi bakso makan tidak spesial',\n",
       " 'lokasi pandan wangi pusat kota bandung jangkau menit jalan asia afrika patok jalan jalan talaga bodas tinggal cari papan pandan wangi jam siang orang keluarga anak tunggu saji goreng ubi singkong lumayan enak',\n",
       " 'kali eatalia teman orang anak tidak memsungkan memlilih makan anak sedia menu porsi anak mes cheese bacon delu pizza roti warna hitam menu pesan tidak kecewa',\n",
       " 'lumayan sambal enak saji model pilih makan gurame kakap bawal kerang cumi udang macam macam deh pesan ikan kembung tidak',\n",
       " 'lokasi salah belanja rekreasi cihampelas wali bandung resto tidak kecewa saji agam resto saji enak nikmat cocok santap pasang keluarga',\n",
       " 'zaman mbak mbak online shop tidak aplikasi gojek gocar gosend allah bodoh jual hari ulang tahun',\n",
       " 'restoran letak stategis jalan dago belah hotel holiday inn sesuai judul restoran sedia menu masakan aceh favorit mi aceh harga standar tidak mahal lupa coba roti canai',\n",
       " 'bihun goreng enak tidak minyak makan kandung babi tidak halal es teh tawar porsi muas',\n",
       " 'lokasi tes tidak telepon tidak angkat email auto reply tidak rekomendasi sadar something pas mampir kantor cerita held tes hotel ruang belah kondangan they told that tanpa remorse',\n",
       " 'sate kambing gulai kambing maknyus saji makannan cepat bersih',\n",
       " 'yue hotel mongkok hongkong tidak juni booked bayar kamar hotel tidak temu',\n",
       " 'poach salmon enak layan enak scenery mantap tank to amanda worth it deh',\n",
       " 'orang cina makan legendaris orang cina makan enak tidak enak parkir aujubila susah parkir seberang resto trotoar sabar sedih deh',\n",
       " 'makan restoran pizza enak teman nikmat paket sensasi delight harga jangkau kalang',\n",
       " 'hasil quick count pilihan gubernur kalimantan timur isran had unggul',\n",
       " 'jerat buni yani undang informasi transaksi elektronik video youtube unggah pemerintah provinsi kena undang informasi transaksi elektronik pemerintah provinsi buni yani',\n",
       " 'paket gim mantap megah makan jamin keren bravo',\n",
       " 'gubernur tidak jembatan penyebrangan gang makan zaman kuah lontong kari kental manis cocok acar meja porsi kenyang',\n",
       " 'jalan braga lumayan enak nongkrong live musik makan lumayan',\n",
       " 'setia produk kecewa layan pusat servis asus tidak jujur sepele langgan',\n",
       " 'makan pasta tidak asing pizza hari ulang tahun posisi pizza nyaman inside mal outside mal hadap langsung jalan merdeka manja mata lihat rutinitas orang keliling letak strategis angkut',\n",
       " 'makan nengusung konsep to alam makan saung jalan tuju saung suguh pandang indah suasana makan nyaman layan cepat enggan pulang harga relatif standart tidak mahal kelas makan standart suasana mantap',\n",
       " 'cabai tidak pelit masak cepat enak sayur enak',\n",
       " 'penasaran foto kunjung artis pas pesan makan unggul tidak pikir keras aneh kenal',\n",
       " 'kang jalan muararajeun rusak kerja tidak serius',\n",
       " 'kecewa tuhan',\n",
       " 'masakan jepang suka tidak menu masakan karubi pas lidah keluarga sedia main anak harga makan resto enak masakan',\n",
       " 'tidak istimewa nilai minus nilai kali parkir tidak luas dekorasi ruang makan bicara makan urus red dipo nilai plus makan variasi',\n",
       " 'makan kaki kambing paha empuk lumayam ukur medium pas orang makan nasi es lemon tea segar asap wajar namanyanjg kambing bakar hehe',\n",
       " 'bukti sunda gudang mode makan tidak enak bakmi parahiyangan pokok tagih',\n",
       " 'barang kw bagus kualitas seringkali nyata pas lihat eh nyata barang bagus bahan',\n",
       " 'lihat kader demokrat ribut hnw partai keadilan sejahtera demiz tidak calon jijik baca',\n",
       " 'makan libur merdeka agustus menit antre sistem pesan reservasi tidak diizinkan hemat salat pintu masuk main seni main musola menganggu ibadah takjub suasana alam',\n",
       " 'menonton film bahasa jawa tidak mengerti tidak teks jelek film tindak tayang layar',\n",
       " 'cha cha makan ringan enak tani tugas',\n",
       " 'sih monyet gue nama anonim kecut pakai simbol orang hidup situ anjing nama tidak berani malu mending takut',\n",
       " 'bosan janji',\n",
       " 'cocok rela eluarga layan bagus makan enak pandang pandang mantap',\n",
       " 'fadli zon anjing kamu tidak kamu sok polos',\n",
       " 'enak tuna mayo pizza pinggir pakai cheesy bites harga murah layan strategis',\n",
       " 'sulit mengerti orang',\n",
       " 'tidak romantis udara dingin suasana tenang makan lezat nikmat indah kota bandung romantis',\n",
       " 'nanda kerja dhl indonesia',\n",
       " 'omong anies suka percaya gila',\n",
       " 'pasang libur asri sejuk pandang tarik makan tidak mahal gugah selera',\n",
       " 'enak wajib coba cinta ayam bakar harga padan enak makan bareng keluarga cinta makan enak',\n",
       " 'rakyat adalah tidak panik kibuli istana panik jurus tipu tidak mempan rakyat sudah pintar kecuali huni kolam butek senang umpan tipu tipu hap hap hap',\n",
       " 'alhamdulillah warga batas buah bangun nikmat tunggu merdeka terima kasih jokowi tidak benci jokowi salut beliau',\n",
       " 'lokasi daerah ciumbuleuit pencil kafe upa halaman rumah sulap makan buka taman sederhana sunyi nongkrong cafe ribut hiruk pikuk orang makan oke',\n",
       " 'marah indosat',\n",
       " 'kampung bareto letak datar bandung utara saji makan indonesia makan barat saung leseh meja makan temu keluarga arisan makan teman cocok jamu tamu santa malam minggu saji musik live sedia kolam ikan pancing harga makan k id suasana tenang layan',\n",
       " 'yusri maling kepala maling ayo jabat jakarta pergi kartu tanda penduduk daerah khusus ibukota rakyat miskin bantu pajak orang beruang gaya',\n",
       " 'senang kunjung ayam penyet bu tris menu sedia coba makan sate sungguh nikmat romantis makan tani alun live musik',\n",
       " 'kali makan tidak sengaja lihat antre orang restauran enak porsi kenyang harga jangkau tidak lapar pesan porsi',\n",
       " 'nasi goreng hijau tren botti enak oke jus lumayan segar lumayan berkumpul berkumpul keluarga',\n",
       " 'rupa restoran rekomendasi bandung layan bagus bagus layan pandang kece makan enak tidak sesal deh',\n",
       " 'dasar gubernur tidak mutu pecat gubernur',\n",
       " 'keren sesuai nama the tahun restoran lounge nyaman cocok makan keluarga pasang kelurga asyik layan ramah harga makan standar',\n",
       " 'makan siang muas menu buffet sistem enak saji uni nikmat makan langsung alas daun pisang sensasional coba menu tutut masak kuning jengkol crispy it si incredible but quite enak rekomendasi',\n",
       " 'mantap ambo kue lembut legit kuah lokasi batas jual makan nasi tim ayam enak',\n",
       " 'orang teman ajak hang out sore sayang parkir muat tidak mobil susah lumayan habis cari parkir',\n",
       " 'makan enak variasi makan lumayan buka malam cocok cari makan malam',\n",
       " 'auto mual mie lembek molor hancur cuek',\n",
       " 'kubu djarot klaim unggul real count',\n",
       " 'cap cay kangkung lumayan kepiting saus padang kecewa kasih kepiting kopong tidak makan kepting',\n",
       " 'ricuh ujung debat pilihan gubernur jabar mei timbul silang kontestan debat',\n",
       " 'yamien manis mi nursijan asli tidak sih angka almarhum nasi goreng rekomendasi',\n",
       " 'engkau bicara kualitas mu orang ikhlas harga hebat mu',\n",
       " 'paket murah timpal pakai unlimited k sinyal bagus streaming sup turun internetan tidak kuatir kuota habis tidak merek kuota tidak sesal beli',\n",
       " 'poor makan interior bagus parkir susah makan manis masuk sayur asem',\n",
       " 'susilo bambang yudhoyono pilih pilihan kepala daerah sosok partai politik',\n",
       " 'warga bandung senang nikmat kuliner bandung restoran orang tua kerap bawa nikmat sate ukur bumbu kacang khas paksa restoran coba rekomendasi restoran',\n",
       " 'nyaman retro menu andal grill pesan nasi goreng sea food enak',\n",
       " 'sesal beli first press regular isi photobooka alur jodoh',\n",
       " 'tidak suka beliau jokowi presiden',\n",
       " 'percaya masyarakat indonesia karang polisi hormat temu motor sila nilai arang nilai',\n",
       " 'angka anggap bawa hoki pilihan kepala daerah jawa',\n",
       " 'tidak salah pesan jus stroberi nasi liwet sop buntut cek out their butik vila cocok rela tidak pinggir kolam buku ipad surga',\n",
       " 'pekanbaru bicara masakan padang enak masakan padang jakarta masakan padang modifikasi lidah masyarakat kantor rumah makan padang lumayan tidak puas rindu cita asli padang hehe',\n",
       " 'temu anies sandi sudirman said bahas final tim gubernur mantan ketua tim sinkronisasi anies sandi sudirman said sambang balai kota bahas final tim gubernur anies baswedan',\n",
       " 'orang orang partai keadilan sejahtera tidak kualitas kampanye negatif perintah',\n",
       " 'kampung daun milik suasana nyaman gunung makan siang makan malam kampung daun romantis tani gemericik air suasana hijau cuaca sejuk makan khas sunda indonesia makan steak cicip menu istimewa nasi timbel nasi campur sunda cocok makan serabi tani minum bajigur hangat suasana',\n",
       " 'jokowi tidak suka sebar isu bohong',\n",
       " 'cinta produk negeri keren modis kualitas jangkau',\n",
       " 'black black keren pakai olahraga aktivitas mantap',\n",
       " 'terima kasih jasa puas layan ramah damping keren senang',\n",
       " 'orang papua biadab bom bikin kacau susah orang',\n",
       " 'nongkrong cantik enak luas suasana oke kemarin tidak coba kopi pesan goulash soup salmon steak chicken steak goulash enak steak not harga mahal situ enak but oke nongkrong minum kopi meter',\n",
       " 'warung roti letak daerah gardu jati sedia aneka roti bakar porsi pisang bakar bubur ayam lengkap menu bubur ayam kampung gurih goda patut coba',\n",
       " 'steak puluh bandung sohor zaman bandung steak luncur stand jalan setiabudi suis butcher steak house setiabudi jalan setiabudi no bandung telepon fa steak enak',\n",
       " 'setiabudi resto kafe dan lain lain kali coba hitam romantiuc coba iga konro menu masakan westrn indonesia asia harga murah jangkau anak muda',\n",
       " 'enak selera ubah tahan tradisi layan suasa restoran jaga tingkat tidak tinggal zaman',\n",
       " 'bandung mampir lomie karuhun lokasi strategis pinggir jalan pasir kaliki enak kuah kental lupa pakai sambal jeruk harga tidak mahal top',\n",
       " 'restoran pemadnagan indah penataaan meja makan sungguh beranta timbul kesan restoran tara kafe lounge harga standar standar',\n",
       " 'rupa salah mi legendaris bandung tap tidak alami ubah bangun tua rumah suka mi yamin asin mie lembut home kuah kaldu gurih',\n",
       " 'minimal mohon bantu order ambil berng driver gojek status proses',\n",
       " 'kagum',\n",
       " 'tidak hebat',\n",
       " 'kali bandung lupa mampir steak enak empuk murah original lidah indonesia coba tenderloin steak potato ala suis jamin tagih',\n",
       " 'beli cimory indomaret tidak kadaluarsa kacau',\n",
       " 'negara khilafah tidak beda salat bunuh bunuh',\n",
       " 'istri anak gara gara lihat ulas inet jalan riau persis bahan outlet cascade heritage dekorasi homy duduk luas jarak meja nyaman obrol tertawa protes khas coffee and cake',\n",
       " 'lumayan romantis bawa pasang pas malam gerimis pandang oke sayang bawa kamera seragam layan ganti deh pikir security nyata layan ronde enak pesan makan lupa order dapur',\n",
       " 'susah orang primitif tolikara papua bodoh orang salat id bubar sih hitam tolol tolikara',\n",
       " 'kaum babi ketua komisi nasional ham natalia pigai monyet manusia hitam gara gara bela habib rizieq komisi nasional serang fahri hamzah kaum babi muji muji komisi nasional ham dasar jilat',\n",
       " 'partai demokrasi indonesia perjuangan partai korup tidak percaya',\n",
       " 'tidak bingung ragu gabung pilih manfaat',\n",
       " 'barang sayang sasar papua modus tipu',\n",
       " 'prediksi persija jakarta lawan psis semarang september ',\n",
       " 'letak daerah dingin pandang bagus unjung nikmat galeri kayu ukir foto luas nyaman pesan minum hot chocolate hazelnut cokelat pekat enak rekomendasi pasang suasana romantis',\n",
       " 'kasihan tidak polling denny siregar cebong girang sayang pupus kalah telak jokowi polling denny',\n",
       " 'makan sahabat dompet makan sedia masakan sunda suasana makan kental adat sunda kunjung makan siang makan siang orang makan makan pas lidah harga sahabat makan ramai kunjung unjung',\n",
       " 'mata pandang flash sale enak',\n",
       " 'kali nama bb cream concealer umur pakai di honetsly nyata jatuh cinta bb cream pi cantik benefits bagus',\n",
       " 'bandung cicip jenis makan coba stand makan sedia bingung pilih makan harga jangkau lupa bawa payung hujan tidak basah parkir stand makan',\n",
       " 'pilih restoran menu makan indonesia eropa harga jangkau porsi kenyang malam minggu buka puasa meja banding konsumen',\n",
       " 'roti enak ice cream enak lokasi jalan braga nyaman asyik hang out teman kolega rekomendasi',\n",
       " 'allah sadis anies dibeginikan anies jabat negara tuan rumah jakarta sadis biadab rezim pilih partai demokrasi indonesia perjuangan partai dukung nista agama',\n",
       " 'libur bandung tidak nama kuliner henti bakso boedjangan area kelapa gading jakarta bandung tidak seba hehe jam sarap ramai langsung duduk',\n",
       " 'bangun sungai jalan rshs mnj pasar ciroyom cc aneh',\n",
       " 'ajak teman kuliah bandung ajak cabe rawit unpar nyata beda letak strategis jalan dago milik pilih menu suasana nyaman dukung duduk obrol makan minum kualitas makan minum enak',\n",
       " 'suka minum merah riah enak manis pas aneka ragam jenis minum favorit es teh manis lidah kampungan kali hehe',\n",
       " 'bakar hutan sumbing luas',\n",
       " 'mal lengkap nikmat keluarga sedia gerai pakai bermerk makan area main ice skating',\n",
       " 'tipikal kafe jakarta dominan kayu oke nongkrong makan mes pasta aglio olio standard',\n",
       " 'takut',\n",
       " 'film action jamin tidak bosan hyung',\n",
       " 'komikus bayar politik ',\n",
       " 'bikin sanpachi mayfair building beda menu daging babi tidak sanpachi sedia menu harga tidak murah banding suasana enak',\n",
       " 'pilih es krim rhum enggak malu sensasi hangat aroma rhum sayang kandung alcohol nyaman duduk sambal minum the layan ramah sigap salah resto tua bandung turis bule tua mampir muda',\n",
       " 'registrasi tidak sms ',\n",
       " 'rumah makan sari raos bersih nyaman milik layan staf ramah ramah khas orang sunda menu makan variatif masakan ala khas sunda cita enak harga jangkau',\n",
       " 'wifi eror makan minum mahal lumpiah goreng asin teh susu enak pesan',\n",
       " 'coba makan bento porsi pilih bento agam salmon ayam daging sapi hidang tutup pesan es strawberry',\n",
       " 'sore keluarga suasana nyaman pandang alam sejuk udara kemarin coba minum leci yougurt pisang goreng coklat menu coba enak',\n",
       " 'ragam makan bilang temu restoran sunda suasana lumayan penat akibat rutinitas long akhir pekan mending tidak deh duduk rebut tidak atur antre',\n",
       " 'enak siniii makan kuah bakar goreng appetizer soup main course makan tutup makan panas makan dingin seafood non seafood sayur lengkap',\n",
       " 'khusus makan steak tidak veget nyaman alias nongkrong hehe cocok senang makan daging',\n",
       " 'tidak ragu jokowi presiden indonesia cinta rakyat',\n",
       " 'nikmat iga iga garang asam gigle bo ikmat segar kuah asam perut lapar bahagia haha suka suka bakar iga',\n",
       " 'ketua dewan perwakilan rakyat agresivitas utang kontrol',\n",
       " 'restoran konsep openair lihat kota bandung nikmat pandang udara buka',\n",
       " 'pasang foto edit rizieq pakai topi santa claus adek armando polisi',\n",
       " 'cucu mantan direktur utama pertamina era soeharto harta hasil korupsi mewah hasil korupsi negara tidak budaya malu makan hasil korupsi',\n",
       " 'jalan masuk agak seram malam hihi the peak suasana romantis pesan steak mi organisasi siswa intrasekolah ikan daging enak',\n",
       " 'malu minder warga negara indonesia situ pindah negara repot malu tinggal indonesia otak beloon dasar',\n",
       " 'keluarga makan saran coba makan retaurant keluarga mes coba pesan simpul ambil makan restoran perfect awesome absolutely bagus enak kepiting telur asin nikmat cangkang kepiting porsi banyak keluarga',\n",
       " 'orang editor nasional geographic indonesia',\n",
       " 'hanamasa usung konsep ala makan harga kisar ribu pilih grill upa beef chicken seafood pilih suki bagus nongkrong bareng teman',\n",
       " 'mi naripan kenal enak porsi lumayan harga mahal sesuai',\n",
       " 'oke parkir kadang jalan tidak jaga tidak pas ramai mobil pesan soto ayam lumayan pesan nasi merah oke',\n",
       " 'tadi tarik uang atm bank negara indonesia tamansari kecamatan bandung wetan uang tidak mesin sms banking masuk tari kacau layan',\n",
       " 'melakakukan reservasi malam minimal open table daerah a masuk ta uka layan cepat ramah enak lihat citylight soup mushroom mushroom asa tenderloin bumbu garam asin triple chocolate cabe enak tidak manis pas mulut suka puas',\n",
       " 'restoran milik lantai letak gedung tama boutique hotel sensasi ala korea asa jejak langkah restoran hela hanbok pakai tradisional gadis korea gantung hias tembok interior mewah makan sedia restoran makan korea sedia barbecue sedia daging non halal',\n",
       " 'dukung jokowi bikin tidak untung',\n",
       " 'tenggak minuman keras oplos ajar tasikmalaya tewas',\n",
       " 'desain interior suasana pilih mampir tunggu gerimis hilang menu pesan sodor pilih irish coffee banana sweet nachos nyata irish kopi muncul hidang foto es kopi panggil layan pesan irish kopi ingredient tidak mengerti',\n",
       " 'hanamasa zaman kuliah letak bip jalan merdeka ala makan ambil masak mantap',\n",
       " 'enak jalan jalan pas malam malam makan order gurame bakar gurame overburn tuju utama makan mending cari jalan jalan bagus pandang',\n",
       " 'penasaran dusun bambu info teman dusun bambu daftar wajib ku njungi habis libur bandung berangkat dago tuju dusun bambu dago arah lembang jalan tuju lokasi dusun bambu banding kampung daun sapu lidi',\n",
       " 'enak sambal seuhah porsi rang ayam sambal sambal leunca',\n",
       " 'gue marah indosat cacat sih',\n",
       " 'sri tidak harga karet tani miris listrik mahal gas mahal langka turun logika zaman ribu kg pe kg',\n",
       " 'korupsi raja lela koruptor bebas liar kantor polisi isi cundang mata duit bacok bela sanggup bayar malang indonesia',\n",
       " 'manusia lahir cundang',\n",
       " 'hang out makan nasi marah bal level enak potong daging udang cumi goreng nasi potong daging udang cumi asa segar tidak amis',\n",
       " 'laku gusur kawasan sunda kelapa habis pribumi miskin',\n",
       " 'marah tumben telkomsel eror',\n",
       " 'periksa setya novanto komisi pemberantasan korupsi telusur libat korupsi e kartu tanda penduduk',\n",
       " 'indonesia tidak niat jual deh',\n",
       " 'jalan braga cocok kumpul kumpul teman lupa mampir lumayan nyaman nikmat makan malam kawasan braga city walk',\n",
       " 'kecewa lagu melody echo chamber hem alir ubah pyschedelic shoegazing rumor pria semenjak putus kevin parker tame impala',\n",
       " 'payah layan pos indonesia',\n",
       " 'teman kunjung agustus makan resto enak harga jangkau kelas resto layan cepat gesit makan favorit hongarian soup newyork tenderloin cocok pasang jamu tamu luarkota pandang resto kota bandung tidak hujan saran duduk gedung nikmat suasana dingin',\n",
       " 'keluarga makan siang lantai seberang area dapur tidak nyaman staf dapur berisik bicara bahasa sunda kasar suara lantang makan tunjang nyaman tidak nilai',\n",
       " 'kali makan malam the tahun langsung tawar mbak aisya romantis makan malam makan malam the tahun view bagus makanya enak layan muas terima kasih aisya bantu momen indah pacar senang harus kejut ikan',\n",
       " 'suka makan siang ayam sambal enak harga hemat ayam resap tulang es ludah buaya segar bikin adem perut makan sambal pedas layan sigap ramah suka kasir tulis sumbang amal makan enak perut',\n",
       " 'sih tolol pimpin diketawain moderator oke oke eh orang suruh tukang becak dasar sih anus buswetan',\n",
       " 'ramai unjung harga jangkau indomie keju roti bakar saji tumpu keju limpah',\n",
       " 'bekal referensi internet gemar steak cari alternatif salah abuba pesan tenderlorin t bone bakar matang tunggu resto penuh pekan pesan bayang steak gosong keras steak merah cenderung mentah saji an steak',\n",
       " 'tidak ragu internetan pakai smartfren tidak puas saja pakai',\n",
       " 'tidak dukung sayang koruptor orang kader demokrat jeblos kebun binatang',\n",
       " 'beranta',\n",
       " 'lounge lantai hotel grandia masuk bawa konsep city lounge tarik perhati latar pasupati fly over rupa icon kota bandung peristiwa jumat tanggal february kemarin unjung ramai pilih menu variatif promo bir tarik',\n",
       " 'cari steak murah harga jangkau lumayan menu favorit tenderloin double e a sauce milkshake flat mantap jus alpukat tidak kalah enak',\n",
       " 'dessert suka enak pas nyaman bersih elegant makan unik hidang',\n",
       " 'suka makan bandung makan piring daun pisang tidak coba ayam bambu sesal jual ikan hiu sedih lihat babi hiu pajang ikan lemari dingin',\n",
       " 'kafe pandang pandang kota bandung malam bagus luas kerlap kerlip lampu kota bandung ramai lihat indah harga makan bilang cenderung murah standar kafe lumayan saji tidak',\n",
       " 'sedia menu sesuai masakan rumah bakmoy kangkung petis lotek tidak tinggal es buah',\n",
       " 'restoran pindah jalan siliwangi pesan fried chicken skin fried mushroom spinach potato garlic rosemary pina colada pina colada segar makan enak',\n",
       " 'beli tisu paseo',\n",
       " 'menunggu hidang muncul masuk mulut lupa tunggu steak enak kue roti jerman enak',\n",
       " 'manusia busuk hidup negara negara bubar',\n",
       " 'twit selesai transaksi kirim cek alamat resi tinggal counter jne pondok timur',\n",
       " 'harga mahal saji kecewa makan dingin server bilang hangat',\n",
       " 'pandang keren makan enak pilih staf ramah makan',\n",
       " 'makan enak gurame goreng garing sate suasana kampung sensasi air terjun kafe',\n",
       " 'bubur ahong enak makan makan malam menu nikmat bubur rumah makan ramai kunjung luas bubur enak',\n",
       " 'info refundable tidak pesan summary isi data tumpang',\n",
       " 'kafe saji suasana romantis pasang pilih spot balkon pandang pandang kota bandung saran gelap harga makan tawar masuk akal banding suasana makan',\n",
       " 'enak nyaman suasana romantis konsep restoran modern layan saji cepat',\n",
       " 'saldo gopay tiba tiba habis tidak laden orang usil tidak ku gojek tolong tangangi susah',\n",
       " 'tuju tahan tidak marah aksi panser tersebut',\n",
       " 'tidak iri bahagia orang bahagia orang bahagia masuk jokowi presiden periode indonesia bahagia',\n",
       " 'bilang era susilo bambang yudhoyono kerja pemerintah daerah kabupaten manokwari selatan mekar kabupaten induk manokwari jalan bagus era jokowi jalan gunung bembab video renovasi jalan bagus',\n",
       " 'toko tunggal lupa beli roti bakar roti bakar beda roti tekstur roti bolu kukus lembut harum roti lupa beli roti keju enak mentega keju roti',\n",
       " 'makanya bau makan barat steak pasta pizza menu indonesia nasi bakar nasi goreng nyaman arga relatif tidak mahal ribu rupiah',\n",
       " 'acara mata najwa bagus sih didik informatif',\n",
       " 'refleksi selenggara layan publik kepris',\n",
       " 'besok anggota dewan perwakilan rakyat',\n",
       " 'letak rm ampera jalan soekarno hatta jalan utama batas kota luas arena main anak cocok bawa keluarga',\n",
       " 'menu gading resto coba mes shabu shabu kualitas enak layan harga jangkau rekomendasi bilamana bawa tamu makan malam keluarga',\n",
       " 'suka lemak lumer mulut sayang daging alot bumbu khas banding sate',\n",
       " 'kali suis butcher rekomendasi teman asli bandung kuno interior steak enak saus cenderung tidak speciality kemarin coba tenderloin kosong mes sirloin parmegio minum jus avocado mmm enak',\n",
       " 'tokoh gerak gerak partai partai komunis indonesia indonesia susilo bambang yudhoyono iwan skeneder paul dundes woolvowiz oliver north calvin haris agung sasongko putra mas agung agung priyambodo eko pratomo curup jehan sih kopral partai komunis indonesia tri sutrisno c si',\n",
       " 'gus mus bela doa menteri sus pudjiastuti via',\n",
       " 'letak hotel harris ciumbuleuit inap inap incar suami suka kopi penasaran coba kopi jack runner laku roasting kopi masak kopi giling wangi semerbak penuh kafe duduk teras',\n",
       " 'sesal beli handphone omi kali tidak pakai handphone merek',\n",
       " 'suka steak steak olah saji classic sayur kentang bakar merek eks entrecote paris rekomendasi suka medium rare daging juicy tidak kering rumah tua arsitektur belanda layan rapi harga sesuai steak',\n",
       " 'gerai minum foodcourt griya metro pilih minum batas minum botol kotak air mineral harga standar food court ',\n",
       " 'revisi om',\n",
       " 'akses bilang susah saran motor hehe makan enak pandang enak bayar deh hehe bagus foto foto pasang makan bilang standar kafe pas kantong hehe bukit keraton kafe',\n",
       " 'ayam goreng renyah bumbu khas es krim sundae segar harga murah chocolate strawbery blueberry kiwi',\n",
       " 'sulit nasehat tidak paksa',\n",
       " 'jual video testing baterai telepon genggam restart tidak henti pakai baterai rusak telepon genggam jual tidak sedia tanggung tolak',\n",
       " 'bandung jalan ciwalk suka mampir the kiosk ciwalk pilih makan minum sunda makan minum kenal ku mpulkan tidak bingung pilih makan sisi harga tidak mahal',\n",
       " 'partai keadilan sejahtera backing tuhan partai abang backing sayang',\n",
       " 'berita indonesia dagang bei tutup presiden bangga indeks harga saham gabungan tembus ',\n",
       " 'langgan rumah beli produk spa pas suruh cium lulur wangi lavender dia langsung jatuh cinta kereta api mm lulur green asyik wangi',\n",
       " 'menggemari enak porsi pas anak anak suka sayang tidak pilih bumbu kacang pedas',\n",
       " 'rohmah minimal transaksi transfer rek mandiri rek bank minimal rupiah terima kasih nida',\n",
       " 'batagor kingsley lezat suka keluarga warga jakarta kali pergi bandung keluarga teman beli batagor kingsley',\n",
       " 'menu makan lengkap unik rainbow volcano pizza harga standar tidak mahal enak kongkow kongkow bareng teman bawa keluarga lumayan',\n",
       " 'anis sandi menang ahok penjara megawati strok jokowi lengser iwan bopeng tangkap hajar tentara nasional indonesia tito pecat kepala kepolisian republik indonesia nusron wahid panser mengemis mengemis lindung ulama habib aman indonesia sejahtera rakyat penuh berkah hidup rakyat islam beda organisasi allohuakbar',\n",
       " 'pindah fungiyaki ramen sushi bar lokasi cibabat cimahi bingung cari makan saji ramen area tidak sengaja laku mesan makan aplikasi ojek online ramen layan langgan fungiyaki mangkok ramen letak long asih bandung',\n",
       " 'nista agama suka sara etnis khilafah diam ulama mesum',\n",
       " 'orang mulut perang otak tempeleng belaga bodoh libat kamu fuckri',\n",
       " 'resto tawar galeri alami kafe manja unjung nikmat alam suasana desa hening tata unik kesan resto tawar menu nasi timbel rawon sop buntut steak pizza pasta gurame goreng gurame bakar nasi goreng nasi timbel nikmat gurame goreng renyah rawon asa segar mantap makan romantis',\n",
       " 'fahri tidak anggota dewan maling air titik rusak susu belanga',\n",
       " 'partai keadilan sejahtera tidak tenggelam',\n",
       " 'nasi liwet mantap tempe mendoan enak sayang bukit countur tanah turun sulit usia hamil balita bayar nikmat makan saji',\n",
       " 'karyawan malas kasih cuti bisnis jelek foya foya pikir',\n",
       " 'restoran tawar menu lengkap seafood makan khas sunda unik pilih makan ikan sayur dapur proses sesuai nama restoran makan alas daun pisang',\n",
       " 'jalan tuju mudah arah padma hotel resto nyaman luas makan malam raya ulang kejut pribadi makan malam layan super ramah lantai layan ramah bolak turun bawa pesan makan',\n",
       " 'hilang handphone omi redmi note warna gold daerah duri selatan jembatan tambora jakarta barat',\n",
       " 'montenegro kroasia beda kapal latih',\n",
       " 'ridwan kamil sesal klaim desain masjid apung gedebage',\n",
       " 'steak tebal empuk daging pas ambil sauce nama buddy sauce enak harga jangkau kisar ribu grm jalan jalan bandung mampir',\n",
       " 'ajak keluarga kawan kantor kawan jalan pacar kawan pacar mantan pacar suara award',\n",
       " 'santai nongkrong rekomendasi bandung cocok teman keluarga main gratis sedia unjung',\n",
       " 'bikin kesal salah sang lamar salah berkordinasi menyesal teman lampung sayang perintah tidak lulus posisi',\n",
       " 'sudut jalan naripan bakmi naripan kenal ramai unjung pekan musim libur restoran tidak sepi menu pilih favorit bakmi yamin bakmi kaldu kuah sungguh kental nikmat hangat',\n",
       " 'inap tamu malas akir resto buka jam malam pesan kopi enak',\n",
       " 'area dago sejuk atmosfir pas nongkrong teman desain unik harga makan standar standar pilih menu tidak spesial',\n",
       " 'tuju solusi tawar anies baswedan sandiaga uno ibu kota dukung doa hebat',\n",
       " 'makan sedia roti bakar indomie keju tumpuk rupa ciri khas suka',\n",
       " 'selamat siang mention terima kasih zan',\n",
       " 'untung beli orisinal bank negara indonesia cashback dana freshfund non freshfund',\n",
       " 'calon pimpin papua tidak mengancam bunuh orang tidak dukung',\n",
       " 'prabowo itudi masyarakat indonesia',\n",
       " 'maklum belah pola pikir sempit otak tempe',\n",
       " 'usung dedi mulyadii golkar rayu partai demokrasi indonesia perjuangan demokrat ppp',\n",
       " 'halo kali coba cicip makan bebek garang jalan braga bandung west java indonesia suasana restoran nyaman layan makan enak lezat sambal mantap pedas nikmat rekomendasi coba makan bebek garang harga jangkau mari selamat makan bebek garang',\n",
       " 'kali coba richeese factory minggu maret jalan pulang pasang mampir makan siang pesan menu bulgogi spicy sayap level chicken spicy level stroberi kue in a cup ayam enak lezat saus keju pas minum tidak nama stroberi',\n",
       " 'kenapala mesti sifat cemburu hidup nih sungguh siksa',\n",
       " 'pandang cakeeppp pas atap kaca beuuuh bikin panas dingin dengkul lemas kesan',\n",
       " 'partai kebangkitan bangsa tolong partai suka bajing loncat rayu demokrat demokrat partai korup',\n",
       " 'suka pakai sabun lifebouy harum tidak',\n",
       " 'semoga kabut asap riau pekat orang islam riau mati habis oksigen populasi islam dunia',\n",
       " 'pandang tarik nyaman anak orang tua pilih makan lumayan main anak sayang bangun arena main anak',\n",
       " 'pandang indah udara sejuk harga makan mahal boowkk masuk biaya entertainment angklung mang udjo perform shuttle car shuttle car bikin males mesti antre libur unjung mobil sedikit',\n",
       " 'layan ramah pelayan utama layan mas andri rekomendasi wine pandang bagus harga timpal nyaman nyaman pokok rekomendasi the tahun restaurant and lounge',\n",
       " 'nyai pesantren gresik deklarasi dukung gus ipul',\n",
       " 'menu utama pizza coba pesan spicy papperoni pizza nyata pizza crunchy tipis mesan puas pizza',\n",
       " 'suka tempura kak harga sahabat tidak salah ribu haha makan ban lumayan porsi langsung rapat saudara saudari',\n",
       " 'bangun dekor minimal temapat unjung pilih pandang alam seni sosial kafe inspirasi unjung tersinpisrasi seni minimal alam indah cocok',\n",
       " 'menu pilih pasta pizza bumbu pas pasta aldente matang enak aglio oli enak spicy tuna',\n",
       " 'selamat anggota anggota partai komunis indonesia anggota suci islam sesat',\n",
       " 'tuju gue rocky gerung isi orang istana kerja koar tidak mutu',\n",
       " 'cari es krim penuh semangat bayang persis gelato yogyakarta temu nyata gelato beda tidak yogyakarta pas gilir es mesin rusak acuh arti mesin bagus',\n",
       " 'kemarin mes ayam panggang porsi ekor kangkung terasi mineral water nasi udang bakar madu ayam panggang kangkung anyep udang bakar isi ekor ukur tidak jari nyata harga ribu an are kidding me suruh mengantre dalam kosong',\n",
       " 'zaman pakai bahasa kampung dasar kampung',\n",
       " 'pilih menu agam daerah makan minum ringan makan berat makan tutup live musik pintu masuk suasana nyaman minggu lebaran mudah duduk libur normal libur ramai susah duduk plus harga pas',\n",
       " 'kunjung sumatra barat bosan suguh budaya',\n",
       " 'benci',\n",
       " 'makan enak pilih menu anak jajan tradisionlal lezat bagus makan',\n",
       " 'lokasi oke foto sore jelang malam lampu nyala romantis makan tidak spesial',\n",
       " 'menteri retno sus joget iring lagu country',\n",
       " 'restoran sapu lidi rupa salah restoran favorit keluarga bandung nikmat makan siang restoran tidak kenyang perut nikmat suasana restoran asri sejuk',\n",
       " 'nyaman nongkrong kenyang warung upnormal pilih menu serius garap layan kece interior super rekomendasi deh kerja tugas arisan ulang reuni',\n",
       " 'makan malam keluarga restoran alas daun tidak kecewa enak nasi tutug oncom juara sambal variasi aneka lauk khas sunda pepes enak harga standar tidak mahal makan seafood mahal hehe',\n",
       " 'kesan inap rumah stroberi cek in tidak jam siang inap lambat cek out tidak tawar staf rumah stroberi jam tunggu kamar bersih diberitahukan restoran tutup jam sore mes makan makan malam jam sore sebal',\n",
       " 'restoran pandang bukit lembah hijau udara segar suara burung nikmat pandang afternoon tea suasana tenang padu warna langit tuju sunset backsound smooth jazz sayang sikap layan tidak dukung indah suasana pandang restoran manajemen latih sikap elegan',\n",
       " 'alhamdulillah',\n",
       " 'tangkap tidak sabar tembak kepala polisi rumah',\n",
       " 'istri ipar anak usia sopir mobil rental cari makan siang keroncong sel jalan gasibu minggu jam siang gasibu cari alternatif makan siang pikir kampung daun kondisi jalan macet jalan jam kampung daun orang duduk lobi',\n",
       " 'layan cepat harga murah nasi goreng jempol ruang berac lokasi balista strategis letak belah heritage factory outlet',\n",
       " 'delicious sundanese food ayam ungkep terong raos sup merah ikan gurame tempe bacem sambal jengkol cimplung bagus services',\n",
       " 'suka makan utama kantong kempes laugh pilih menu mi rebus bakso roti bakar bajigur suka makan roti bakar mi rebus topping keju guriih',\n",
       " 'suasana makan tenang nyaman nikmat kampung daun makan alam kampung',\n",
       " 'tidak kes harga ribu mi ayam gelas lemon tea saji lemon tea jeruk nipis tea ukur gelas asa gigit lidah layan latih layan langgan sepenuh hati lips service',\n",
       " 'kali nikmat lantai dikatakna pes tidak unjung lantai turun tidak aktivitas layan hilir mudik pesan lantai nikmat suasana lantai',\n",
       " 'bogor pimpin bima arya',\n",
       " 'order jam private message order main course minum makan makan menit cancel makan sungguh kecewa makan layan jelek',\n",
       " 'letak paskal hyper square stasiun bandung makan pasar ramai unjung malam pekan pilih makan lengkap harga jangkau terkadang live musik istimewa banding makan pasar',\n",
       " 'sedia jajan pasar tradisional masakan indonesia agam letak kawasan cihampelas walk',\n",
       " 'jujur fahri bego bingung duduk kursi wakil ketua dewan perwakilan rakyat tidak partai fahri bubar komisi pemberantasan korupsi fahri takut komisi pemberantasan korupsi wajar fahri tidak paham teman tangkap',\n",
       " 'ikan bakar enak ikan segar bumbu resap asa sambal',\n",
       " 'makan kemarin pesan menu beef steak lokasi nyaman menu tingkat hidang penuh pesan orange squash enak soda ',\n",
       " 'keliru analisis salah fatal demiz kader demokrat top bicara tahap negoisasi gerindra demiz izin meikarta hica pandjaitan hadir resmi meikarta',\n",
       " 'master of none sayang makan enak bandung olah kumpul kualitas makan saji rendah santap lokasi asli iga bakar jangkung mantap nikmat langsung cipaganti',\n",
       " 'makan suasa asyik asa desa bentuk kursi meja leseh alat makan pakai alat zaman piring gelas ketel menu makan variatif penuh traditional sundanese foods self service nasi liwet pilih ikan asin variatif sambal lalap menu hidang tidak tinggal desert cendol dawet dan lain lain',\n",
       " 'letak putar dago kenal luas makan beramai ramai sedia menu porsi makan enak variasi sea makan indonesia food ikan sayur ayam sapi sedia menu sarap minum variasi harga jangkau karyawan ramah informasi kena menu',\n",
       " 'pelayana tidak bagus tidak jelek',\n",
       " 'santap ikan laut bakar kota bandung bawa sensasi sekeluaraga pesan baramundi baronang cumi bakar tidak uras kantong',\n",
       " 'risma pimpin amanah suri tauladan orang abdi negara abdi rakyat contoh kehalifah kehalifah islam zaman semoga risma senantiasa kesehataan',\n",
       " 'ambil putus tutup atur mitra usaha',\n",
       " 'tolong cari driver triliun gede rasa ',\n",
       " 'order tidak aduh',\n",
       " 'partai kebangkitan bangsa timbang tinggal ridwan kamil usul tidak diakomodir',\n",
       " 'ukur lokasi selamat wisata lembang space duduk khawatir musim libur duduk bersih menu bakar top bumbu asa nila bakar enak teh warung makan enak sembarang teh warung',\n",
       " 'nama harap malam inti makan nasi hitam pilih lauk ala warung nasi standar standar harga mahal malas layan super tidak ramah lokasi mudah jangkau jalan riau at all pikir',\n",
       " 'salah favorit lihat bandung malam suasana nyaman tani makan minum layan ramah kota cahaya indah lihat rekomendasi habis pasang keluarga sahabat',\n",
       " 'jenis makan variatif tidak bosan tarik dessert jenis tampil tarik',\n",
       " 'kampoeng daun nuansa khas desa bandung bikin makan mantap nikmat hidang makan makan tradisional khas sunda khusus sangan enak nikamat',\n",
       " 'maksud haha beli bekas main madrid kesal tidak sudi uhuu',\n",
       " 'bakso poles branding anak muda nyaman makan situ bakso boedjangan kelola grup kuliner upnormal nasi goreng mafia buah barang kuliner poles branding keren menu bakso agam enak',\n",
       " 'not fokus produksi produktivitas tani',\n",
       " 'lokasi batas coba kwetiau goreng minum cocok teh tarik porsi pas',\n",
       " 'jalan riau kopi progo pas istirahat tidak minum kopi minum milkshake makan aneka ragam indonesia italia menu makan barat hobi foto swafoto spot tarik latar',\n",
       " 'sandiaga omong sok deh',\n",
       " 'kerabat niat traktir makan oke ajak puasa buka puasa cocok pesan newyork steak buka puasa steak asa enak makan tidak mahal ribu',\n",
       " 'pancious sedia pancake makan italia oke porsi gede tidak rugi',\n",
       " 'sumpah kecewa nasi uduk langgan kerupuk ganti kerupuk pelangi kecewa parah tidak bohong',\n",
       " 'suka daging babi makan mi daging babi olah bakmi aloi pikir coba mie mi beli bikin mi abai tekstur daging babi babi chasiu babi kecap masuk daftar menu enak',\n",
       " 'penasaran rosti benedict egg kuning telur leleh belah bawa kafe sedia sarap makan agam makan barat masakan fusion korea sayang harga tidak bilang murah konsep kafe',\n",
       " 'ajar setya novanto meme masker jatuh citra',\n",
       " 'makan malambdi sate maulana yusup jalan yusup pesan sate ayam sate sapi sate kambing enak sate ayam sate kambing sapi oke unjung akibat lambat kewalahan bakar sate bumbu kacang cabe rawit sate maulana yusup kenal',\n",
       " 'enak pes roti bakar coklat nanas enak kamu lokasi kota buka sore subuh cocok ngemil malam suka yogurt asam jual bungkus asam enak',\n",
       " 'makan enak kenal makan harga tidak masuk akal bakmi layan ramah sopan lokasi rumah tua bersih kecewa mahal banding saing',\n",
       " 'negara indonesia ancam bangkrut',\n",
       " 'sesal acara makan malam restoran rekan kantor pesan menu beef steak buntut bakar udon soup hot chocolate es kopi makan standar tidak istimewa istimewa elite',\n",
       " 'temu wef on asean presiden jokowi hadir luncur go viet',\n",
       " 'kecewa liga champions tidak siar channel channel indihome channel lokal channel sports juang hak siar langgan bayar mahal kecewa',\n",
       " ' teman cowok janggal makan ajak jalan dago nyata lokasi menyambung arah lembang untung romantis jam malam terang utama lilin pilih out door udara dingin',\n",
       " 'suasana temoat nyaman nongkrong teman pacar keluarga',\n",
       " 'nikmat sate lembut daging tidak bau suasana enak cocok pgie keluarga',\n",
       " 'tolong cek pesan langsung cape marah marah indosat melulu',\n",
       " 'mudah teriak bohong bangkang salah orang tua tidak becus didik anak',\n",
       " 'semoga setia tani rakyat indonesia sabang merauke kota pelosok desa',\n",
       " 'suasana nyaman makan enak kunjung bandung lupa makan malam cocok acara keluarga pasang acara reuni teman anjur reservasi restoran recommended restoran if visi bandung',\n",
       " 'bakar mati keluarga',\n",
       " 'bagus bagus pandang witers layan ramah cepat ramah tea coffee enak utama suasana pas bawa rekan rekan resto coba temu inap hotel padma mudah mudah tahan layan semoga',\n",
       " 'pajak kak nomor efin aktifasi lupa password akun djponline',\n",
       " 'prabowo pasukan orang stres indonesia hancur',\n",
       " 'nasi goreng enak rempah asa harga sahabat buka cabang',\n",
       " 'maklum jokowi bawa perasaan klaim meng klaim pokok presiden ri alay lebay capcay puyung hai',\n",
       " 'kemarin kunjung dusun bambu keluarga tidak libur unjung bilang ramai kunjung kali wilayah bamboo playground rabbit wonderland masuk bamboo playground bayar tiket k wonderland bayar k konsep makan tidak bosan main',\n",
       " 'hormat tolong respon pesan langsung terima kasih',\n",
       " 'keluarga suka menu ayam tulang lunak tidak makan pisah tulang daging bumbu pas enak puas layan',\n",
       " 'harap pimpin negeri kayak milik rakyat rakyat hidup makmur negara kesatuan republik indonesia harga mati rebut kayak negeri bancak pengkhianat jual aset bangsa bravo prabowo insyaallah',\n",
       " 'pesan es jeruk nipis bakso es sirup pasar bakso tidak panas cenderung dingin tidak layak rekomendasi',\n",
       " 'pagi macet tur bus jam tidak',\n",
       " 'muka cepot medan ku mati anak',\n",
       " 'imam citra publikasi maaf muak gue',\n",
       " ' kali kunjung beda rentang kunjung juni tidak pulang nongkrong alami ubah keren lighting pukau dominansi lampu cahaya kuning tidak silau mata lift musik',\n",
       " 'sate khas bumbu asli daging ayam cocok nikmat malam',\n",
       " 'produksi indomi goreng sate cari tidak enak beda dengan sate merek',\n",
       " 'apa anies nyalon presiden mending nyalon saja sana barbershop sudah',\n",
       " 'aneka masakan sunda bersih nyaman layan ramah nyaman sesuai biaya',\n",
       " 'tidak mengerti kubu jokowi ideologi pikir tidak sesuai benci syariat khalifah dukung budaya syirik dukung bakar bendera brkalimt tauhid tidak pilih jokowi takut kena azab',\n",
       " 'jokowi manathir proses aisya hukum',\n",
       " 'suki enak beli gratis harga jangkau pilih kaldu',\n",
       " 'kasihan lihat muka jokowi sontoloyo',\n",
       " 'anak sama curi hem bip contoh sampah masyarakat musnah',\n",
       " 'urgent koneksi data internet buruk',\n",
       " 'marah indosat',\n",
       " 'letak jalan braga legendaris pusat kota bandung restoran tawar alam makan unik menu khas eropa harga super miring loyang pizza id atur an nuansa live musik jelang malam harga murah tidak arti kualitas makan buruk layan restoran menjungkirbalikkan stigma',\n",
       " 'rekomendasi restoran teman beliau bilang restoran bentuk bangun interior tidak ubah semenjak beliau duduk bangku sama an konsisten kafe lihat ubah musala konsumen',\n",
       " 'bandung jalan ciumbuleuit soto semarang nama keluarga suka makan soto ayam surabaya pakai koya tidak lezat sambal minum jeruk hangat eh selera makan jalan',\n",
       " 'kagum sayang beliau demokrat sejati walo militer dibully caci represif',\n",
       " 'lokasi sembunyi sudut buah rumah jangkau bus angkutan kota jangkau kendara pribadi konsep bagus rumah desa eropa lantai dinding kayu taman pekarang pagar kayu padu hawa sejuk bandung unjung nikmat makan kursi area taman unik drum bekas',\n",
       " 'cabang sambal beda cabang simpang raya bandung sambal ayam pop enak ayam pop gulai ayam enak parkir luas',\n",
       " 'yuk',\n",
       " 'dove mahal',\n",
       " 'senin pagi ku mandi hujan plus jebak macet bikin kesal',\n",
       " 'makan minum restoran harga mahal tidak enak',\n",
       " 'bakmi porsi enak tidak oke letak jalan strategis gampang temu',\n",
       " 'harga makan mahal diskon kartu kredit kadang dor sambal sereh wajib coba enak',\n",
       " 'the best city ringan kota bandung suasana romantis nge date acara spesial makan minum oke coba rekomendasi terima kasih mas kamal layan ramah',\n",
       " 'cari port makan enak coba puri bambu old resto but still have bagus makan there kemarin mencoba bakut kuah sate babi pesan daging samcan pas enak bakut kuah makan asin kasih sambal asa pas lidah harga tidak mahal jangkau',\n",
       " 'sate ayam sapi ukur jumbo iris bawang merah saji lontong pilih makan siang',\n",
       " 'salah makan suka harga mahal ukur bandung nyaman romantis makan barat asia enak sup zuppa kue',\n",
       " 'the valley tuju utama bandung agam jenis makan pandang indah injak malam lampu kerlap lerlip hias suasana makan malam romantis',\n",
       " 'capai kafe lawang wangi butuh usaha susur jalan sempit tanjak kelas kelok layak jalan tanjak pandang wah worth of effort masuk gerbang tanjak sambut galeri pamer seni gantung tema keren',\n",
       " 'pandang bagus santai sore malam makan variatif enak',\n",
       " 'tenderloin enak empuk suasana tempo lupa pesan segar juice sama segar padan steak',\n",
       " 'pakai paket yellow lo pulsa dasar tukang tipu',\n",
       " 'wujud standar kelola didik standar nasional',\n",
       " 'adik suka restoran mampir langsung tidak sreg makan sedia lihat tidak bangkit selera beda restoran shabu ku njungi pilih masak nyata masuk lidah makan tidak makan',\n",
       " 'bubur kental pas potong cakue ayam hati ampela pinggir jalan orang tidak nyaman makan mobil bungkus bawa pulang aman jual jam jam sore',\n",
       " 'lokasi tidak kota suasana asri alami gugah selera makan usaha jam makan siang malam pas peak hours ramai libur menu tradisional original sunda tidak ragu coba menu coba',\n",
       " 'nasi rawon enak harga jangkau universitas parahyangan unik kayu',\n",
       " 'makan malam keluarga ulang suami kesan suasana tawan tahun trans kamu iya hotel layan ramah mas tian tidak tunggu makan minum pes hitam angus steak saus teriyakiny top markotop sop buntut tidak ragu enak',\n",
       " 'makan bubur enak sara langgan pagi kadang suka penuh tidak jarang kali habis pokok enak deh',\n",
       " 'patut bangga puji politikus laku kecuali cuap cuap kosong lenyap tenggelam laut masuk partai demokrasi indonesia perjuangan',\n",
       " 'keluarga libur bandung rencana pergi inap trans kamu iya bandung sengaja makan malam hotel rekomendasi teman asa senang makan malam selesai bantu mas renaldi top',\n",
       " 'tunggu makan waitress galak pas makan pesan pizza eh gosong kasir pas bayar tidak senyum bad services',\n",
       " 'tidak spesial menu tawar coco rico mes sirloin steak medium carbonara spaghetti carbonara lumayan porsi steak kenyal cocok kumpul nikmat lampu kota bandung',\n",
       " 'mes beef ku rice bowl dengan spinach topping teh beef ku potong tipis and enak enak mulut lupa mes chicken karaage enak pol',\n",
       " 'kali ramai unjung bakmi enak murah strategis jalan utama kebun jati',\n",
       " 'restoran gaya saji gelas kaleng hijau motif batik piring kaleng kue batok jajan khas tempo masakan enak biarpun tidak enak restoran sunda restoran mudah temu',\n",
       " 'kali unjung mal kesan mal bingung mahal mal jalur barang merek temu harga sesuai merek kuliner masuk mahal variasi jalan',\n",
       " 'tegur sri mulyani anies baswedan biaya dinas jakarta',\n",
       " 'makan siang istri anak anak restoran chaotic tama tunggu kursi menit duduk tidak langsung layan saji daftar menu menit meja hadap menit bersih makan sebal',\n",
       " 'narkoba salah tingkat kualitas anak bangsa',\n",
       " 'dasar alam minggu pesan pollo al pomodoro pasta daging ayam asa kulkas segar',\n",
       " 'semenjak perintah cina ajar usir cina tionghoa negara rendah pribumi jakarta ajar usir cina pribumi',\n",
       " 'muak putus offside onside laku hakim garis liga sepak bola indonesia kesal malu terima kasih',\n",
       " 'lokasi jalan dayang sumbi no bandung pintu masuk tidak sangka wah luas interior campur ethnic modern timbul nyaman atur meja kursi meja tidak dempet tidak menampak sesak',\n",
       " 'dago pandang restoran bagus hawa segar menu lumayan enak utama tempe mendoan nasi liwet',\n",
       " 'kacau komisi pemberantasan korupsi jaga kacau ketidaksinkronan lembaga atur kasat mata sengaja jaga curiga lembaga',\n",
       " 'lokasi pusat kota bandung selonjor kampung daun perdu pohon malas gerak laugh menu andal saji kuliner tradisional khas sunda laugh harga kaji lepas kampung daun cocok temu khusus urus bisnis masuk jamu tamu cicip suasana nyunda',\n",
       " 'yakult rupa produk minum',\n",
       " 'jokowi putus asa boneka mega',\n",
       " 'pilih makan leseh tidak memilih sambal pilih suka hati ambil layan muas prasmanan pesan gantung menu',\n",
       " 'sengaja pilih jokowi polling fadli zon bong sok lawan bang fh keok',\n",
       " 'steak enak porsi japanese beef lembut juicy tenderloin enak welldone medium rare medium rare pas matang lapis juicy saus pilih pilih mushroom blackpepper mantap malam minggu cepat kali lihat habis sisa tinggal wagyu',\n",
       " 'nyata kecut orang sombong dunia world cruel lever menyadari',\n",
       " 'bandung kadang mampir batagor enak patut puji sayang pas ramai suasana saran malam jam hindar antre menunggu',\n",
       " 'oy paket aduh parah jasa kirim',\n",
       " 'parkir steak enak super juicy tidak murah tidak sesal harga barang kualitas mantap',\n",
       " 'tidak murah',\n",
       " 'kalah karolin quick count sutarmidji lihat',\n",
       " 'kader makan narkoba',\n",
       " 'nikmat makan sunda suasana pinggir lembah samping sungai asa alam layan lambat dapur saung saung',\n",
       " 'restoran bandung pilih makan enak sempurna harga jangkau layan muas suasana nyaman kali unjung bandung makan tidak jaga',\n",
       " 'saja sahabat coba akses lumayan mudah capai macet pas libur masakan tidak istimewa foto cek media sosial eks',\n",
       " 'warga boyolali tidak suka hina prabowo',\n",
       " 'makan saji enak porsi mes nasi goreng pikir porsi orang nyata live musik malam minggu',\n",
       " 'kali pergi romantis utama malam saung saung raya hias dekorasi suasana makan khas sunda air terjun cocok pergi pasang keluarga harga mahal makan suasana',\n",
       " 'pasangan calon pilihan gubernur jawa timur tidak kualitas',\n",
       " 'rupa salah contoh padu apik utilitas firmitas venustas fungsi restoran dukung desain tawan hijau tumbuh sebar salah contoh terap konsep ekonomi kreatif layak harga harga restoran cocok temu bisnis suasana tenang pikir jernih',\n",
       " 'perintah kerja tidak sih orang tidak becus',\n",
       " 'bus tidak nyaman mbak tidak sesuai diomongi makan enak wisata tuju kecewa',\n",
       " 'menu sederhana milik kreatif saji mie roti makan tutup mi ilih asyik kumpul teman harga tidak mahal sesuai',\n",
       " 'nongkrong makan malam restoran belah suami minum kopi nongrong anak muda menu murah suasana class ular tangga monopoli uno main foosbal unjung tampil keren',\n",
       " 'llorente alli menang spurs swansea',\n",
       " 'kali coba makan malam restoran cari cari sejarah nyata restoran padat unjung pilih menu variatif italian me an indonesia coba order pizza super enak lasagna lezat kenyang mi goreng kepiting porsi enak lidah beef tongue potong pas lidah',\n",
       " 'ikan laut aceh mahal',\n",
       " 'restoran top suasana nyaman mengobrol teman saudara pasang makan enak tidak makan berat suka sore jelang malam',\n",
       " 'alf tidak kecewa pimpin jokowi',\n",
       " 'trump perintah tarif pajak barang cina',\n",
       " 'waria kampung dasar kampung pulang kamu kamu ternate betawi',\n",
       " 'makan enak panas makan pilih layan diam jalan jalan temu rumah makan ampera harga lumayan jangkau porsi nasi sedikit saji teh tawar hangat segar lalap sama sambal enak gratis musala toilte enak deh di',\n",
       " 'penyedia belah biaya materai kelas memaksa beli paket ganti kartu cari untung uang tidak suka',\n",
       " 'dedi deddy duet sabar bikin jawa barat kibar',\n",
       " 'pahri oh pahri kamu trio kwek kwek itu teman kamu sih sn fz muka batu bata urat malu putus',\n",
       " 'harga rupiah tusuk kocek rupiah tusuk jamin daging kambing bau empuk panggang tidak sesuai sop tulang ramai maknyus',\n",
       " 'lumayan luas parkir sempit pilih menu lumayan layan muas penuh jam tunggu masakan hidang meja kesal',\n",
       " 'makan enak harga jangkau ayam goreng wajib coba deh tempe tah hati asa enak',\n",
       " 'enak sushi cocok makan sushi nongkrong layan ramah dessert enak rekomendasi anak gaol',\n",
       " 'enak harga antre duduk neng parkir jual kue basah tradisional neng deh',\n",
       " 'masuk',\n",
       " 'masuk rm ayam suharti asa ala keraton masuk masuk lingkung keraton jawa masuk wibawa',\n",
       " 'lumayan ken mencoba makan sensasi beda pakai alas daun pesan goreng bagus kasih kuah gratis kuah rendang restoran sunda wah',\n",
       " 'bank negara indonesia syariat sedia layan e collection mahkamah agung',\n",
       " 'piring gelas zaman minum gelas alumunium bagaimana begitu pas jam makan siang jamin mengantre seabreg seabreg resto menu yahud peda merah jarang resto sunda sedia peda mantap',\n",
       " 'konsep tawar pasangan calon rindu inovatif kang tea',\n",
       " 'korea selatan hebat cinta produk mobil lalang produk negeri ac hotel merek samsung bikin telepon genggam e rt devisa infra struktur lampau butuh pariwisata oke',\n",
       " 'pelihara buruk kotor lihat tidak higienis',\n",
       " 'jual rak dinding aluminium serbaguna susun cuma magic jakarta',\n",
       " 'iri lihat temu kebahagiaan',\n",
       " 'kasihan deh susul lisan wkwk jam matkul ham anjing',\n",
       " 'salah makan steak favorit bandung bagus enak harga standar desain ruang bawa layak makan eropa',\n",
       " 'makan mi kuliah tidak ubah enak segar kikil coba mi kocok jalan banda samping fo summit wah mantap',\n",
       " 'enak keluarga cinta makan pedas',\n",
       " 'tolak masuk makan ringan makan enak kok manajer ramah tidak sakit hati acara rijsttafel resto malam asyik dukung',\n",
       " 'menu lumayan pilih layan cepat hotel inap malam mudah menyebrang mantap',\n",
       " 'pasta saji masak beda kali sepageti jenis agam warung pasta asa suasana nyaman beli paket free cheese kue avocado loveable',\n",
       " 'anthony genting tunggu wakil denmark final',\n",
       " 'waze manfaat mudah',\n",
       " 'suka pandang sudut dusun bambu desain bangun cantik konsep dusun bagus modern foto bagus kebun lavender negeri mata manja pandang indah makan lumayan saran minggu ramai tidak nikmat',\n",
       " 'pandang hadap lembah pohon menu masakan indonesia makan makan barat menu ala carte cake pastry masakan tidak spesial pandang bagus',\n",
       " 'commedian kecut heran jurkam pilihan kepala daerah jakarta',\n",
       " 'nyaman makan malam resto pandang kolam renang kesan romantis makan lumayan enak harga pas',\n",
       " 'suasana alam pandang tawan makan makan sunda saung tutup pinggir danau pandang langsung gunung udara sejuk sungguh alam senang',\n",
       " 'suka saka bistro malam suasana enak live musik nikmat suasana makan saji enak harga jangkau susah kunjung sabtu jalan macet',\n",
       " 'makan iseng jam malam malam suasa ramai senin tidak makan berat pilih roti bakar indomie mi instan pisang bakar menu sedia varian di browse menu pilih tidak foto hehe',\n",
       " 'tidak akses lihat transaksi masuk akun tokopedia akun koneksi',\n",
       " 'baca sistem bank struktur ketimbang',\n",
       " 'kupon pulsa rupiah orang untung retweet bniquotes',\n",
       " 'faedah malam minggu',\n",
       " 'sedia ruang indoor bawa keluarga pilih ruang pesan sate kambing gule saudara sate gulai enak',\n",
       " 'makan sederhana menu cina makan non halal arang proses masak milik aroma menu kenal kwetiaw goreng spesial usus goreng saus mentega bistik sapi',\n",
       " 'desain bagus unik penuh ukir kayu detail suka desain restoran suka santap lantai utama teras lihat pandang braga makan enak layan ramah',\n",
       " 'zaman bicara pribumi mayat ratus lenyap teknologi',\n",
       " 'gerai indosat komplain marah',\n",
       " 'sejuk',\n",
       " 'minum khas taipan enak tawar agam menu pilih harga murah desain cup unik riau tidak',\n",
       " 'makan nasi goreng cabang du setiabudi bin buka mes nasi goreng layan pesan jam pesan aroma oreng nasi goreng tenggorok tidak enak batuk',\n",
       " 'menyesal orang tua tabung puluh juta sekolahkan anak oi tidak dosen sampah',\n",
       " 'sambal pedas parah favorit gobak ulek sambal hapus areng sukses geng reds dipo',\n",
       " 'cina medan ayo kali bantai',\n",
       " 'restoran letak hotel hyatt bandung suguh menu manja lidah unjung konsep garmen restoran asa restoran',\n",
       " 'baca novel tanda tangan tulis tonton film puas gueh puas tagih bagus suka akhir bahagia suka per cinta ucup selamat tim',\n",
       " 'komisi pemberantasan korupsi kawal bahas rapbd malut',\n",
       " 'malam suami mes sop ikan enak perpadua bumbu pas pas sop panas cocok makan udara dingin porsi sop ikan desain restoran oke',\n",
       " 'baca bank rakyat indonesia bank mandiri masuk indomaret kerja legalitas car capekdech',\n",
       " 'tuju keruh suasana panas prof heran orang model maaf salah mahal muncul tagar oknum kalang pb nu',\n",
       " 'benci ',\n",
       " 'yoyakarta tolol miskin tidak buka pom bensin shell saja kamu monopoli pertamina bodoh',\n",
       " 'layan jelek harga mahal',\n",
       " 'fahri maling teriak maling',\n",
       " 'waroeng steak and shake patut coba nikmat steak harga mahasiswa alias harga murah restoran steak mahal wajar lihat beda harga restoran kunjung anak muda utama mahasiswa lokasi mudah akses patut coba',\n",
       " 'rumah nyaman udara sejuk terima kasih layan rudi hospitality wine lengkap suasana sepi dingin dukung mewine burgundy ruang vip keluarga lengkap cerobong asap rekomendasi',\n",
       " 'makan pes dingin tidak asa masak mi jus asa segar segar juice pure buah oke arisan oke keluarga layan ramah gesit order makan panggil ulang ulang',\n",
       " 'minimal driver tidak pickup barang siang mohon ditindaklanjuti',\n",
       " 'lumayan enak sushi enak harga letak strategis mudah jangkau angkut mobil pribadi menu sushi menu sushi porsi pieces sushi enak tidak ginger pickle sushi tei citarasa kulit ginger pickle wasabi cabe bubuk istimewa',\n",
       " 'makan enak variasi makan lokal interlokal jus segar pilih pandang restoran hadap hutan cantik sejuk makan keluarga pasang restoran',\n",
       " 'achmad nurzahedi maju pilgubri usung demokrat gerindra',\n",
       " 'bagus peduli laku lgbt gelar rajam lempar batu monas laku lgbt tobat darah ampun khilaf',\n",
       " 'variasi makan ala rumah khas sunda lumayan enak jengkol kue balok',\n",
       " 'subuh warung coba serabi khas layan lumayan ramai sulit tunggu tidak minimal nyata tunggu pesan jam an duduk asap rokok',\n",
       " 'lapor tiket adu mohon selesai',\n",
       " 'eh busyeng rek baca ngadat melulu sudah',\n",
       " 'menu tawar bikin lapar bau aroma ikan bakar ayam bakar gurame goreng sungguh mantap sambal khas sunda asli bersih layan bagus kali kemari tunggu',\n",
       " 'coba langsung suka pesan bakmi komplet enak mie kenyal tidak tidak porsi daging jamur harga jangkau sesuai porsi',\n",
       " 'lokasi tidak bir ramai unjung masuk langsung sambut layan bungkus makan makan arah lantai makan luas unjung hawa asa panas oke',\n",
       " 'kali kuliah tidak tinggal mampir bandung makan nasi liwet porsi tempe mendoan mantap nyaman tidak sesal deh',\n",
       " 'pakai indihome kakak wuuu ganti mahal lemah otak',\n",
       " 'bingung cari makan malam ulang nikah pilih the sky walaka lantai sambut hangat meja reserved pilih menu pilih seabass sop buntut hmmm tidak served nyata enak delicious nikmat makan malam bantu mbak della',\n",
       " 'id karya visual derajat samsung langkah mudah video',\n",
       " 'ayo rakyat tidak pakai wakil rakyat bubar wakil rakyat',\n",
       " 'jokowi otak keren deh infrastruktur indonesia kembang',\n",
       " 'sara pribumi lantik tidak bahas pilih kasih',\n",
       " 'cari raya ulang nikah pandang bagus dekorasi suasana romantis layan muas terima kasih to diah',\n",
       " 'makan minum enak lengkap sayur paket hemat ribu ayam potong ribu bebek ayam kampung rumah enak lihat kendara',\n",
       " 'resto luas suasana senang unjung lihat pandang kota bandung menu makan barat indonesia makan harga sesuai kualitas layan',\n",
       " 'tidak istimewa masakan citarasa restoran banding restoran piring daun pisang lokasi restoran strategis mudah temu bandung pusdai bandung jalan wr supratman',\n",
       " 'bagus bank negara indonesia syariat tidak potong administrasi',\n",
       " 'bandung mampir makan pasar paskal pilhan makananan harga tawar lumayan bayar ribet',\n",
       " 'variasi suki kuah suki enak kuah tomyam dimsum enak rekomendasi harga lumayan sesuai kualitas',\n",
       " 'oke terima kasih tanggap',\n",
       " 'kuah tom yum enak sayang porsi makan harga mahal puas',\n",
       " 'menu makan agam pilih sayur daging tidak spesial puasa makan segar harga lumayan murah mal',\n",
       " 'makan strategis trans studio bandung layan ramah cepat tidak tunggu ganti',\n",
       " 'kampret momen masak mi lembek',\n",
       " 'hina',\n",
       " 'tidak senang layan sayang kualitas kereta bagus fasilitas nyaman bagus sumber daya manusia tidak kualitas',\n",
       " 'acara musik indosiar musik negeri keren',\n",
       " 'pergi enak malam pasang lampu jalan siang pas puasa jual makan jam siang jual souvenir baju',\n",
       " 'inspirasi motivasi mario teguh the golden arah',\n",
       " 'bagus alam makan oke pricey malam remang dingin utan wajib bandung',\n",
       " 'telat jne',\n",
       " 'makan steak harga kualitas padan cocok kalang harga jangkau nikmat tidak kalah kafe mahal minum agam suka minum susu coklat kasih es krim lupa nama minum capucinno kasih es krim vannila pokok bikin lidah goyang',\n",
       " 'lapor penasaran png makan suasana oke adem meja kursi meja kursi pesan jalan mulus suara mas ampun deh tidak bicara blubup blubup haha mes mi ayam bakso ekstra pacar mes bakso urat soun tidak pesan pacar nyata tidak sesuai ekspektasi',\n",
       " 'tidak musim peak season asa riuh rendah juang capai macet lembang unjung nyaman renung resap indah alam wahana main anak santap pribadi hadap danau laku reservasi sampan orang sayang',\n",
       " 'bawa tamu senang makan uni makan alas daun piring dapur buka salah uni staf ramah harga muat kantong tidak mahal jangkau',\n",
       " 'the kiosk pilih favorit teman coba makan tradisional pergi makan beda pilih menu ragam makan tradisional fusion makan barat harga tidak uras kantong suka suasana favorit kiosk dago kualitas makan prima layan kiosk',\n",
       " 'harap nikmat suguh khas nasi goreng progo nyata jam sebelas pes bahan masak pilih hidang ganti sedia',\n",
       " 'steak enak harga reasonable pilih steak agam enak',\n",
       " 'indomie goreng mengeluarkan',\n",
       " 'kafe daerah dago pakar bilang jual suasana pandang kota bandung malam sore dago ciburial romantis sejuk segar udara bandung utara menu makan standar kafe makan barat indonesia jepang porsi banding kafe jenis area harga tawar relatif jangkau',\n",
       " 'johan budi gagal seleksi calon pimpin komisi pemberantasan korupsi tidak pilih voting komisi dewan perwakilan rakyat orang dewan perwakilan rakyat fadelie zona fauckri hamzah alergi orang dewan perwakilan rakyat',\n",
       " 'aduh indosat kecewa daftar kena tarif kb pulsa berkurrang drastis',\n",
       " 'kurir jne ikhlas',\n",
       " 'lapar jalan jakarta bandung restoran salah pilih jenis menu harga prediksi makan saji tidak buang tunggu proses masak favorit ayam pop',\n",
       " 'bubur pas tidak encer tidak kental ayam pas gurih legit isi perut pagi',\n",
       " 'tidak gagal',\n",
       " 'letak gang area rumah akses jalan belah istana plaza keren ip makan makan jual tidak aneka ragam nasi bakmoy famous nasi lengko patut coba',\n",
       " 'lupa teman',\n",
       " 'tembak mati hukum mati sasar',\n",
       " 'parkir luas parkir pinggir jalan koordinasi ruang restoran luas nyaman makan muas ikan pilih berup ikan hidup ikan segar simpan peti es menu kepiting tidak makan kepiting alas agama anggota tema mes kepiting gugah selera',\n",
       " 'janji jokowi realisasi salut kerja presiden',\n",
       " 'bela bu sus tekan upaya kalang elite oligarki rezim ikan izin kapal asing curi ikan laut indonesia tekan lobi asing pecat sus menteri lawan',\n",
       " 'warpas singkat warung pasta menu tidak pasta camil calamari pizza agam jenis asin manis',\n",
       " 'jumat malam bandung guyur hujan alhamdulillah lokasi hujan reda go show tidak reservasi puluh khawatir sedia untung penuh tunggu langsung lantai pilih menu chicken wing pizza tani english tea mango juice lime mantap',\n",
       " 'prabowo bakat dictator gaya tidak simpatik mata kesal',\n",
       " 'front pembela islam sampah masyarakat bersih',\n",
       " 'kampung daun rupa makan suasana alam sejuk terletakdi kabupaten bandung suasana senang tumbuh pohon rindang olah olah hutan lingkung teduh suguh makan khas sunda pedas pedas asyik suasana tidak makan aneka minum khas jawa barat',\n",
       " 'pulsa gudang aktif wi fi orang internetan',\n",
       " 'interior gaya ala belanda tempo daerah tahan bentuk bangun era kolonial restoran saji masakan tionghoa eropa saya khas menu makan rekomendasi combo steak nasi goreng spesial kodok ala szechuan aneka pizza enak minum coba banana smothies',\n",
       " 'my favorit menu suka modanyaki seafood salmon tidak bikin enek porsi wajib coba deh',\n",
       " 'steak hidang sisi ukur nikmat asa langsung saus steak kental sesuai harga',\n",
       " 'resto dago meja pesan lantai pandang kerlap kerlip cahaya lampu makan prasmanan resto tidak enak pesan ala carte',\n",
       " 'sungguh asyik terkahir rekan rekan tamu kantor santap malam orang tidak layan makan enak utama pizza banana pancake mantap makan sungguh jangkau kota',\n",
       " 'dago bandung lengkap unjung suasa romantis makan enak lokasi tebing dago lihat pandang kota bandung pilih posisi duduk hadap pandang bandung porsi makan enak tidak rugi bayar lokasi mudah',\n",
       " 'pajak alat berat kalsel temu titik terang',\n",
       " 'masakan average lokasi cantik air terjun kotor pollution makan lambat mahal',\n",
       " 'orang suka obat dokter biaya relatif mahal orang dokter sembuh dokter salah diagnosa lumrah dokter manusia',\n",
       " 'bagus pandang lantai the trans kamu iya hotel cocok raya acara istimewa orang istimewa makan saji enak appetizer main course makan tutup tidak kecewa layan ramah senang skywalk takut alam seru menengangkan coba',\n",
       " 'anis sandi pimpin periode',\n",
       " 'resto sedia menu makan rumah garang asam iga sapi contoh olah dira mu garam asem segar hasil cita asam manis garang asam iga sapi saji panci api panas nasi goreng saji iris daging ayam telur dadar udang goreng tepung iris daging suka',\n",
       " ' ledak puluh rumah bakar as',\n",
       " 'bodoh kamu pakai jawa',\n",
       " 'unjung the kiosk cihampelas walk rekan bingung cari masakan khas sunda tradisional upa ikan goreng bakar salah orang sekuriti the kiosk konsep duduk ayun tarik pilih makan menu tawar variatif',\n",
       " 'rela uang pajak pakai gaji anggota hewan hobi undang undang ancam orang politik pasrah tumbal main politik rebut parlemen singkir rampok demokrasi ayo mencalonkan anggota legislatif',\n",
       " 'minimal jam lah makassar internet bayar mahal internet jelek',\n",
       " 'marah telkom blok telkomsel',\n",
       " 'nikmat santap pagi inap hotel padma bandung unjung barangkali antusias hadap suasana santap pagi warna pandang sisi timur sisi indah bangun hotel kolam renang baris bukit gunung foto ria',\n",
       " 'mi senang enak paikut pesan bubur habis jam pagi ruang pengap tidak ac nyala harga kategori medium tidak murah tidak',\n",
       " 'suasana nyaman harga jangkau enak sedia kursi bayi kamar mandi bersih musala pegawai ramah pesan makan parkir tidak luas',\n",
       " 'makan simple jual indomie doang roti bakar interior nyaman main isi santai oke',\n",
       " 'tidak pakai uang negara menumpang pesawat tentara nasional indonesia tidak uang negara dasar bohong',\n",
       " ' minggu kunjung bandung urus kerja malam teman cari kuliner bandung tidak jam cari makan unik rekomendasi pandan wangi lumayan nyamuk makan malam makan nasi pakai terong raos menu andal',\n",
       " 'marah indosat',\n",
       " 'syukur agama kristen hindar agama islam sesat tuhan palsu syukur',\n",
       " 'tidak sesal makan solaria bersih cocok keluarga makan cepat di order',\n",
       " 'masker inisfree bikin jerawat aduh',\n",
       " 'dakwa mantan ketua dewan perwakilan rakyat ri setya novanto dengar baca tanggap eksepsi tim jaksa kartu tanda penduduk elektronik',\n",
       " 'tidur bangun suara azan magrib babi mending suara sedap jerit orang gila',\n",
       " 'vila rumah stroberi pilih libur kumpul terluargab teman kantor kolam renang vila santa omelet rumah stroberi lumayan enak sarap pagi petik stroberi beli wisata keluarga senang',\n",
       " 'tidak bicara langsung to poin menu suguh enak deh ditunjangdengan bersih eh nyaman deh keluarga kunjung kemari',\n",
       " 'sukses misi kristen musnah islam bumi indonesia',\n",
       " 'pilih makanya enak hang out minum kopi minum kopi bareng teman pandang bandung asyik',\n",
       " 'libur makan malam tanggal malam ramai menu habis hujan laron tidak salah restoran laron hidup bebas sayang resto kelas layan tunggu makan beef donburi',\n",
       " 'pagi emosi sinyal hidup ku faedah aduh sesal pakai three',\n",
       " 'giggle bo stana plaza suka tarik makan enak rekomendasi teman kunjung tanggal pesan grilled chicken chicken brisket schnitze menu enak makan potong menu tidak layak makan',\n",
       " 'tua bangka tidak sadar istirahat tua bikin calon presiden linglung',\n",
       " 'kunjung kota bandung singgah makan siang resto unik siang teman mampir buah resto nama alas daun tuju hadir variasi menu agam menu saji santap sunda fantastis lihat pilih sambal limpah',\n",
       " 'kunjung minggu mi naripan letak jalan naripan mes yamien manis babat enak harga standar jangkau',\n",
       " 'nostalgia batagor bandung asli padu olah batagor pas saos kacang bikin tagih porsi ban lumayan cocok',\n",
       " 'kenal saji kopi lokal lintong sidikkalang aceh gayo dan lain lain hot cold beverages sedia recommended menu cream bulle macchiato con pana ice rum latte tidak kalah banding minum rekomendasi kopi mes smoothies milkshakes bir minum camilan kentang goreng',\n",
       " 'indonesia susah hebat susah bangkit kapel tidak kompeten buru koper',\n",
       " 'resto bekas gergaji kayu mesin potong sengaja icon cita makan oke unik steak tidak pakai kentang ganti ubi giling lembut',\n",
       " 'harga jangkau resto thailand green tea enak oke beli paket murah banding daging enak sayura segar harga ribu an coba beda suka pedas sambal gratis',\n",
       " 'turun gunung dukung menang djarot gubernur sumatra utara',\n",
       " 'teh swike in town restoran rapi bersih my favorit swike kuah tauco enak swike goreng mentega enak goreng kering juicy tidak ubah zaman sekolah dasar anak bandung wajib mampir lepas kangen',\n",
       " 'comot makan enak harga top makan enak beef porcini steak daging super empuk saus wine cita unik tidak tinggal dessert apple ku chen potong pie garing renyah padu buah apel saus rahasia mantap',\n",
       " 'maleman habis warung buka antre bayang enak enak murah',\n",
       " 'bilang gerai mc donalds bandung lokasi asyik pusat kota akses gampang kendara untung belah istana plaza habis belanja langsung mampir mc donalds wifi gratis speed cenderung lambat tidak stabil khusus lantai layan ramah makan standar mc donalds',\n",
       " 'tawar tidak cocok lidah harga jangkau akan menu beda enak enak semoga teknis servis mantap',\n",
       " 'mes nasi goreng brandal harga rupiah tingkat pedas goda level brandal rempah aroma daun kemangi harum level goda pedas pilih nasi goreng telur kikil',\n",
       " 'makan sekian tidak injak lembang kecewa berat makan keluarga lembang belah rm ampera ayam goreng kuning tidak asa asin ayam bakar kecap daging keras lalat',\n",
       " 'makan standar masakan rumah nyaman sayang siang panas',\n",
       " 'pvj mal rupa mal nge hit bandung khusus anak muda belanja makan tonton hang out es skating laku tarik tata letak tata rupa kes lega tidak tutup rapat tembok center point mal dekorasi tema',\n",
       " 'kafe salah suka pandang bagus udara segar makan enak steak enak cocok lidah tom yam enak obrol teman keluarga nyaman',\n",
       " 'pandang sore jelang malam suasana senang hawa segar nyaman ku njungi orang orang cinta jenak lupa penat jakarta langit biru jernih polusi ibu kota bantu hilang lelah makan variasi layan ramah kuasa isi makan nilai uang',\n",
       " 'skeptis',\n",
       " 'salah restoran favorit bandung lokasi pencil jangkau menu makan enak sunda pandang indah suasana mata lidah puas selesai makan kenyang tidur saung',\n",
       " 'kacamata patah galau',\n",
       " 'tidak sesal beli makan warung upnormal masakan enak olah indomie beda enak begitu',\n",
       " 'jalan bisnis nandung teman in bandung teman langsung beehive suasana enak nyaman dekorasi betah layan ramah mes steak makan enak minum suka segar lupa nama bahan dasar mangga',\n",
       " 'resto ramai unjung menu enak top batagor mie kocok es oyen dan lain lain lantai makan sedia ruang luas lantai ',\n",
       " 'percaya amin rakus zaman zaman tidak orang jelek orang agama',\n",
       " 'metode jual prasmanan makan tinggal pilih jenis sayur lauk pauk aneka sambal lauk pauk panas tinggal info tugas nyaman parkir luas musik angklung tani makan pokok sunda habis sudah harga murah riah',\n",
       " 'langkan sesat agama maju kolong langit',\n",
       " 'kali coba minggu hang out nyaman anak muda senang nongkrong cocok deh anak muda',\n",
       " 'salah bukti nyata presiden bangun negara kesatuan republik indonesia bangsa negara maju masak tidak bangga masak tidak periode presiden prestasi dedikasi layak pilih pribadi tidak tidak bangga beliau',\n",
       " 'padu dessert waffle saus caramel pisang lidah manja segar fruit punch suasana pvj romantis',\n",
       " 'suka kuliner suka makan coba besar black burger murah ukur gede harga hitam burger isi mantap oke',\n",
       " 'beli ski aqua surat pemberitahuan tahunan harga k sesal mal k',\n",
       " 'layan akhir pekan banking lokasi bekas ernest kantor cab bank mandiri bekas juanda',\n",
       " 'makan makan enak kue kue khas favorit kue surabi coklat meses saji kisar menit',\n",
       " 'kunjung bandung lupa makan indah malam',\n",
       " 'batagor singkat bakso goreng batagor riri masuk batagor kenal bandung enak gurih asa ikan batagor riri cepat tutup sore malam habis',\n",
       " 'bikin penasaran kafe makan gelap tidak aneh bikin penasaran makan standar nothing spesial',\n",
       " 'copot anggota polisi rusak nama korp',\n",
       " 'aksesoris bawa charger saja buku pandu bus indonesia bantu',\n",
       " 'dewan perwakilan rakyat bubar tidak',\n",
       " 'tepung segitiga biru warna tepung tidak biru tipu',\n",
       " 'senang temu buku bandung suka whopper asyik parkir bingung cari mal pas parkir',\n",
       " 'martabak cocok pancake oke manis pas tidak manis enek harap tekstur lembab ala martabak manis nama tekstur bolu martabak enak nikmat dingin awet simpan suhu ruang harga relatif mahal banding hehe deh beli',\n",
       " 'ayam enak langsung sedia makan otak keju aroma camilan menu makan ayam bakar nikmat hidang lalap sayur asem sambal dada pesan',\n",
       " ' makan keluarga braga permai keluarga kali resto makan enak porsi menu orang nasi porsi isi harga tidak mahal harga sesuai porsi makan yanh',\n",
       " 'indosat lemah otak minimal pakai unduh cepat kisar kbps tidak senang',\n",
       " 'pandang tawar bagus staf ramah sayang menu tidak lengkap tidak sesuai harga mahal',\n",
       " 'coba bakmi rica pedas makan peluh penuh letak pusat kota jalan jaksa sulit cari parkir parkir jalan braga jalan kaki pergi coba pangsit goreng',\n",
       " 'diskriminalisasi daerah pilihan kepala daerah curhatan',\n",
       " 'usut bantuan likuiditas bank indonesia komisi pemberantasan korupsi periksa menteri era megawati',\n",
       " 'bakso ceker braga menu wajib coba buka malam harga jangkau cocok tani malam nikmat jalan braga',\n",
       " 'gara gara reda dipo makan ikan takut bau amis eneng makan ikan tidak pas makan ikan menu wajib makan bawal goreng bakar capcay yapuy sambal tyson tidak suka ikan bilang tidak suka makan ikan deh coba makan',\n",
       " 'cari bratwurst tinggal sentrasari kualitas makan mantap oke pribadi ramai enak obrol santai bikin cabang',\n",
       " 'rumah makan khas sunda kota kembang bandung ciri khas kental sunda rumah makan ampera masakan khas sunda jambal roti pepes jeroan babat paru etc gepuk jamur lalap sayur asem sambal terasi petai jengkol dan lain lain minum khas sunda es cendol harga rumah makan ramah linkungan utama dompet',\n",
       " 'nyaman pas pinggir jalan mbak mbak ramah pilih makan segar lokasi pintu ciwalk',\n",
       " 'menu ayam goreng recommended plus sambal kecap ayam goreng indrawati rupa salah kuliner legendaris orang tua generasi lahir familiar ayam goreng',\n",
       " 'mantap crepes enak sejagad hehe',\n",
       " 'calais minum bubble favorit keluarga enak menyegerkan pesan rose milk tea coffee jelly bikin segar bikin kenyang coffeejelly kasih nyaman anak suami tunggu calais belanja supermarket area calais nongkrong teman asyik calais colok',\n",
       " 'daging kambing muda empuk harga pas kantong nyaman balas daging kambing enak',\n",
       " 'agenda salah wajib ku njungai makan malam the valley kawasan dago istimewa lokasi restoran nikmat pandang indah kota bandung malam sayang duduk ruang langsung hadap kota bandung hujan air tampias paksa pindah',\n",
       " 'there was some gazebo bale bale as the ning room when visited kampung daun mujaer bakar as my option due to i love ikan bakar dengan sambal the tase definitely delicious cause i successfully eat one of mujaer just by myself hehe gazebo bale bale makan kunjung mes mujaer',\n",
       " 'pas cari makan rumah pas harga pas kantong jajan gejrot otak pas makan buka',\n",
       " 'ozt rupa salah kafe lumayan unjung daerah kopo bandung menu rekomendasi harga lumayan miring ukur makan bau makan barat samping mudah jangkau suasana tarik salah daya tarik ozt kafe',\n",
       " 'kucing gue kasih makan sabun dana mati tidak',\n",
       " 'skitaran jam makan siang nasi bancak pintu masuk langsung hadap natrian ambil makan cari duduk penuh layan sigap bangku kosong langsung bersih piring kotor',\n",
       " 'makan tutup saji enak harga murah jangkau layan cepat instagramable cocok foto',\n",
       " 'sistem layan cost ubah sistem mandiri sel layan harga makan mengalamai porsi harga oke tidak kategori mahal puas secra terima turun banding sistem ubah',\n",
       " 'minimal indomie goreng e date kadaluarsa aroma mi tengik bumbu gumpal saus ubah warna tekstur',\n",
       " 'berat',\n",
       " 'restoran usung suasana alami konsep bilik pisah keliling bebatuan pohon air terjun jembatan kayu dan lain lain makan saji milik enak harga tawar ribu orang musim libur ramai',\n",
       " 'masyarakat bosan muak dengar janji janji calon presiden',\n",
       " 'salah benci film tokoh utama mati jalan cerita',\n",
       " 'favorit baca komik tani camilan makan berat minum harga tidak mahal enak suasana santai nyaman',\n",
       " 'cape sumpah tunggu paket jne',\n",
       " 'sengaja pasang teman eksplor wisata bandung nongkrong hit mampir warung kopi modjok lokasi jalan pinus raya bilang memojok tidak mogok rumah kompleks warung kopi konsep ruang asri unik interior indah',\n",
       " 'makan roti bakar pakai keju mi pakai keju pisang pakai keju begitu begitu saja deh keju tumpuk deh serius harga murah lah serius rekomendasi deh serius hehe',\n",
       " 'agama buddha adalah agama sesat alir tidak',\n",
       " 'cepat respon kirim super cepat barang sesuai deskripsi terima kasih dok toko',\n",
       " 'senang makan jenis makan khas jawa barat bandung sedia lokasi tidak stasiun mudah akses jakarta lokasi parkir luas mudah belanja makan',\n",
       " 'suka dor sambal sereh sayang kali pedas pakai cabai merah tidak cengek minum teh hijau maknyus',\n",
       " 'main game bosan tonton film tidak tarik buka media sosial isi benci',\n",
       " 'eh mencari bakso ya laugh udara bandung cocok makan hangat temu enak kongkow kongkow bakso menu koda selera coba fokus bakso malang pokok makyuss sudah',\n",
       " '',\n",
       " 'transjakarta kemarin top kartu transjakarta ribu halte permai koja pagi pakai kartu nyata top up tugas tolong hati uang langgan tidak tanggung',\n",
       " 'hot lemon tea onion ring chicken steak sempurna matte i think visi daerah cimahi tapat cimahi mal enak layak harga',\n",
       " 'batagor patut coba bandung batagor enak makan sayang harga mahal ribu pc porsi isi pc makan ringan sedia yamin pilih sesuai selera bumbu manis asin enak roti bakar kue cubit tidak coba',\n",
       " 'jokowi presiden muka gila kamu',\n",
       " 'pacar nyata cinta ala romantis puncak gunung hawa sejuk saji wine makan eropa khas',\n",
       " 'kemari siang makan siang minggu teman kelompok bir delapan orang lantai tunggu kursi orang makan kursi penuh meja ukur orang per enam',\n",
       " 'istri pilih restoran makan siang lokasi kantor daerah setiabudi bandung lokasi spbu jalan setiabudi seberang hotel hemangini parkir luas suasana bistro bar nyaman desain interior unik cocok senang foto ria swafoto senang hang out',\n",
       " 'restoran makan sedia harga jangkau suasana enak nyaman',\n",
       " 'mantap bakso empuk lembut enak variasi harga murah pokok wajib coba deh',\n",
       " 'inap cihampelas tunggu terbang esok hotel temu restoran kambing bakar cairo lihat kepul asap aroma goda langsung langkah kaki pasuk menu iga paha punggung kambing bakar ukur small medium large menu kari kambing nasi goreng kambing',\n",
       " 'batagor lumayan enak habis belanja pasar dago harga relatif murah suka batagor kering bumbu kacang dibanyakin',\n",
       " 'eh grab aktif apa promo rupiah wah bahagia',\n",
       " 'didit prabowo cipta lgbt homo laknatullah anak prabowo prabowo ajar',\n",
       " 'makan khas sunda oke kotor sayang ramai unjung antre',\n",
       " 'nikmat santap pagi inap hotel padma bandung unjung barangkali antusias hadap suasana santap pagi warna pandang sisi timur sisi indah bangun hotel kolam renang baris bukit gunung foto ria',\n",
       " 'intel kamu indomie telur perut doang otak kosong',\n",
       " 'tidak susah cari susur jalan bukit pakar timur arah the valley lokasi belah kiri nasi ayam hijau rekomendasi ayam empuk tumis kangkung enak harga kebun awi mes maincourse perut destination',\n",
       " 'ayam goreng kecap manis empuk enak beda ayam masak ayam goreng ayam djogja pilih alternatif istri makan ayam enak tidak goreng suasana makan nyaman ayam coba',\n",
       " 'orang bekas tidak orang rantau mampus kontra kubur warung nasi tidak laku orang bekas sekolah tidak tamat',\n",
       " 'retoran sapu lidi bandung utara persis daerah kompleks rumah rumah makan dikelilingin sawah kolam sambal enak',\n",
       " 'kasih',\n",
       " 'laku tugas mu es serang keluarga sayang',\n",
       " 'makan shabu shabu mengobrol teman teman asyik makan harga tidak mahal',\n",
       " 'yogyakarta depo toko belanja kadang niat makan menu pilih makan halal minum makan tutup keluarga selera makan beda',\n",
       " 'sinyal telkomsel bikin marah marah sudah',\n",
       " 'habis jalan kaki cikapundung mampir kafe percis samping jalan braga bawa kendara roda sulit cari parkir jam menu tawar menu steak masakan eropa istimewa kafe menu steak olah bahan dasar daging',\n",
       " 'the valley restoran pandang kota bandung timur no malam terluhatn indah lampu kedap kedip indah makan minum an okok',\n",
       " 'nongkrong area riau nyaman menu makan variasi japanese masakan jawa makan barat dessert oke coba triple creeme bulle pilih duduk smoking tidak rokok sesuai berkumpul berkumpul foto bareng teman rekomendasi',\n",
       " 'terbang garuda indonesia terbang indonesia',\n",
       " 'tidak suka orang pelit orang pelit kubur sempit',\n",
       " 'vegetarian cocok makan menu dukung vegan harga lumayan jangkau',\n",
       " 'stasiun terminal angkutan kota tidak susah temu makan sate pesan iris potong daging segar langsung bakar daging empuk gurih bumbu enak cocol bumbu',\n",
       " 'tidak suka jokowi pilih prabowo',\n",
       " 'tidak kejam',\n",
       " 'bakpao kenal zaman gari khas',\n",
       " 'kendala putar tokopedia sungkan hubung',\n",
       " 'pokok cinta produk bandung produk cina kualitas oke',\n",
       " 'mantap nasi goreng lidah tulis menu oke sop iga suka nasi goreng lidah',\n",
       " 'negara indonesia cinta rakyat berani cibir presiden enak jidat tidak otak bacot gilir usut komen bawa jalur hukum deh di suka jijik manusia',\n",
       " 'ajang piala dunia telkomsel ambil licensed mobile broadcaster helat sepak bola',\n",
       " 'siang mampir keluarga makan siang cost bin mes makan gelas es kelapa gelas es kelapa protes layan bilang mes gelas terima order sikeras buah kartu es',\n",
       " 'resto salah resto tempo e t menu makan saji variatif menu italia pizza menu america aneka steak menu aseli indonesia sate sedia harga muas',\n",
       " 'udang batu tidak partai dukung jokowi',\n",
       " 'ser sor panen nasi bungkus desember front pembela islam front pembela islam semkin sor ser tenggelam kubang',\n",
       " 'docmart merek singkat martens',\n",
       " 'tidak tidur galau memikirkan kamu',\n",
       " 'islam tidak siang tidak malam tidak pagi ribut teriak mesjid coba kristen tindas dasar agama munafik tidak otak toleransi agama berisik huru hara',\n",
       " 'menu unik coba tumis keciwis terong goreng perkedel empuk gurih harga tidak mahal enak tips pekan laku reservasi penuh',\n",
       " 'restoran sunda bandung memiiki kualitas makan muas raja sunda layan cepat tidak pakai unjung makan malam jelang tutup restoran layan ramah profesional makan cepat saji enak perut lapar',\n",
       " 'adik penasaran nama restoran unik suasana restoran klasik tampil bandung zaman makan pilih enak rekomendasi nongkrong teman',\n",
       " 'maaf minimal nomer pakai sel daerah situ kalah tidak tidak ku sinyal jelek',\n",
       " 'sapu lidi restoran masakan enak segar santap makan enak',\n",
       " 'asyik luas nyaman menu agam salad enak segar es krim tidak suka tidak pas makan ramai orang traktir',\n",
       " 'kesal marah bakar kartu indosat',\n",
       " 'keluarga makan dapur apati anggrek makan cepat layan selesai bayar layan bulak lihat lampu padam jam tutup tegur layan layan gardu listrik mati aneh lampu',\n",
       " 'makan restoran murah enak layan ramah cepat tanggal konsumen',\n",
       " 'waris susilo bambang yudhoyono the raja of citra the caesar of pola hidup super mewah vvv sutra super glamour banget terima jokowi mega proyek mangkrak hutang t radikalisme',\n",
       " 'periksa boediono tidak ku cecar komisi pemberantasan korupsi jabat era megawati',\n",
       " 'rupa resto legendaris bandung menu utama steak ala eropa kenal resto zaman kuda menikmatiya pas libur lebaran tidak ubah lihat resto area luas taman hijau kolam ikan sudut anak lihat ikan',\n",
       " 'telkomsel gemar bikin orang marah paket data mahal internet lambat',\n",
       " 'penasaran lihat ramai unjung mampir coba nasi bakmoy mes bakmoy enak deh surabaya menunggu ramai menu rujak lotek enak',\n",
       " 'harga murah makan muas pesan buritto nachos tidak bayang kecewa',\n",
       " 'dusun bambu cocok hilang penat imam seniman langsung dusun bambu jalan menit suasana asri udara bersih situ tpt nama lutung kas arung pohon reservasi nyata lutung kasarung tidak orang kecewa',\n",
       " 'kafe saji hidang mi saji utama branding kafe daya tarik kalang anak muda suasana kafe nyaman mengobrol kuliah kerja proyek proyek santai kafe nuansa saji mie mie kasta',\n",
       " 'restoran an menu andal sate ayam daging sate tebal panggang sempurna unjung piring bumbu kacang cabe rawit rebus bawang merah kecap manis sedia meja menu sedia sate kambing gule kambing restoran sedia ayam goreng',\n",
       " 'menggemari deh elon musk visioner',\n",
       " 'pergi lagi',\n",
       " 'bandung surga kuliner bekeliling sudut kota temu agam kuliner harga murah harga uras kocek the valley letak dago pakar referensi kunjung kota kembang pandang suasana restoran asyik rileks bosan makan',\n",
       " 'pemerintah kota surabaya tidak raya ganti malam komentar trirismaharini',\n",
       " 'jengkel',\n",
       " ' kades sanggau serentak undur',\n",
       " 'makan sapu lidi suka bandung ajak keluarga makan nyata makan tidak enak layan mes karedok ikan bakar daun genjer tumis sate kambing makan lalat suasana makan ganggu kucing liar meja bekas orang makan',\n",
       " 'restoran favorit keluarga tidak ubah luas cocok tampung acara keluarga minggu bawa sopir susah parkir saking penuh sayang lokasi rokok non rokok area campur bawa bayi hati',\n",
       " 'tidak jasa jnt',\n",
       " 'untung jalan pencil letak but makan wagyu hitam angus buih coba kentang oke masih potato enak gue makan kasar plus keju mantap rekomend ajak keluarga orang sayang',\n",
       " 'lumayan suasana nyunda pakai piring gelas seng makan lengkap kue balok arumanis es goyobod karedok bandros pas deh kantong mahasiswa',\n",
       " 'jual pc gaming desain grafis spesifikasi gahar mining lapak medy saputra msaputra ',\n",
       " 'tarik air terjun mini pusat perhati pilih makan aneka citarasa sunda libur pekan nikmat seni budaya sunda lupa telepon pesan saung',\n",
       " 'generasi goblok alir indonesia bersih lgbt hukum rajam pas kaum sodom',\n",
       " 'bingung makan nyata tidak salah the restaurant padma top makan pandang sempurna sesuai harga tidak bikin rugi tagih hehe wajib coba makan atmosfer bikin tenang pandang keren udara sejuk',\n",
       " 'awas bahaya laten samad ujian akhir semester gadang promosi ketua pengurus besar nahdlatul ulama antek wahabi hati front pembela islam harap islam nusantara kompak mengkar mengkar orang',\n",
       " 'kafe cocok muda mud jalan pacar nyaman enak makan minum tidak bikin kantong bolong cocok nongkrong bareng teman saudara elegant tidak mahal',\n",
       " 'dusun bambu kereatiivitas unik buah area wisata konsep tidak bawa makan minum denda sedia aneka rumah makan saji wisata lengkap kebun paint ball wisata air resto tarik wisata keluarga reuni',\n",
       " 'halo minimal wifi telkom speedy rumah mati minggu tidak nyala no telepon jalan padang tawang nomor canggu kuta utara badung bal nama i nyoman sarwadi',\n",
       " 'bukti islam buru lindung agama',\n",
       " 'makan nyaman suasana air terjun dingin enak makan makan',\n",
       " 'tenggelam partai partai dukung nista agama partai takiyah partai munafik benci agama',\n",
       " 'zaman janji km rakyat bosan alias muak',\n",
       " 'mantap',\n",
       " 'kali pandang bagus pas tidak pinggir resto pandang titip pesan layan reserve kosong sembari tunggu mes minum lupa kasih tip mes chicken gordon bleu great caesar salad chicken mushroom muas lidah',\n",
       " 'lumayan nyaman makan sedia lokasi gampang cari letak kompleks mal parkir luas hujan repot luat parkir makan ribet bayar pakai nota bayar kasir kadang antre kasir tidak santai makan pes meja',\n",
       " 'menu harga tawar sapu lidi luas mes nasi goreng sop buntut cappucino jus stroberi enak',\n",
       " 'jus tebu letak bec lihat proses giling tebu segar tebu enak segar tebu asli harga mahal ribu an timpal enak kali beli jus tebu rekomendasi cape jalan bec',\n",
       " 'sidang tidak tokoh masuk beliau usaha tuntas efektif demokrat beliau ikan kontribusi kuat demokrat martabat beliau serang partai sda',\n",
       " 'ramen enak sekian pilih ramen kuah beda lezat hem ramen nikmat okonomiyaki pilih isi tuna cumi keju mozzarella bersih nyaman lengkap komik pinjam situ isi unik lokasi strategis area simpang dago',\n",
       " 'ramai kampung daun libur minggu mei antre nomor tunggu menit saung nomor ujung suasana tidak asri nampaknya saung area luas catat tidak kunjung makan tarik',\n",
       " 'restoran favorit anak menu suka kepiting saus singapura pedas goda anak suka cumi goreng mentega kuah saus goreng cumi kriuk manis tidak pedas alamat susah cari worth the effort mudah jangkau jalan riau kendara jalan riau arah dago tinggal belok',\n",
       " 'bacot syarif bacot orang kafir kamu andal goblok bacot kamu saja kencang mental tai kucing',\n",
       " 'lihat beliau ustad ilmu cetek',\n",
       " 'wagyu japanese prime rekomendasi tingkat matang pas sesuai makan enak harga sesuai kualitas nyaman non smoking area sempit enak duduk smoking area',\n",
       " 'kali tidak bosan suasana romantis tenang like pribadi resto makan endus layan oke rekomendasi to mengunjungi here',\n",
       " 'makan nyaman saji makan minum selera sunda harga makan minum kelas enak porsi makan saung nikmat iring musik sunda kucur air',\n",
       " 'prabowo urus usaha tidak becus karyawan tidak gaji urus negara',\n",
       " 'makaroni enak pizza enak kulit tipis harga mahal porsi wanita',\n",
       " 'mampir kemari tandang bandung potong daging saos kacang kental harga standar rekomendasi sate',\n",
       " 'suka jual beli muslim malas rezeki non muslim non muslim mas oke be',\n",
       " 'nasi putih kenal masakan layak coba suasana restoran senang kes teduh tenang makan saji tarik indonesia',\n",
       " 'aurora coin beli indoda ikin untung',\n",
       " 'agus harimurti yudhoyono harap pilihan kepala daerah cetak pimpin integritas',\n",
       " 'pilih cerdas prabowo sang patriot parahyangan khatam hadap cina mayor jenderal tentara nasional indonesia purna sudrajat mantan duta ri cina ',\n",
       " 'makanya serba babi kombinasi enak minum segar cocok until makan pagi siang malam suasa ruang ala kafe',\n",
       " 'semiggu pdam daerah tidak alir stok air pdam habis tanggung',\n",
       " 'kadang kemas paket tidak sesuai harap kotor rusak jalan kecewa lihat isi sesuai butuh',\n",
       " 'saji piring bentuk kotak rapi menu hidang tarik enak penuh selera staf restoran informatif coba sayur lotek karedok nyata segar nikmat bumbu saji sempurna lezat restoran sedia masakan indonesia cireng pempek dessert lezat',\n",
       " 'bayar cepat mahal layan kamu tahi',\n",
       " 'pongah batal prediksi akal sehat rakyat tumbuh',\n",
       " 'keluarga mampir restoran sea makan di cost khusus masakan sea makan sayang kepiting habis kepiting makan kulit enak pesan udang goreng oke oke',\n",
       " 'nyaman nyaman ciwalk tidak nyaman kali buka ciumbuluit makan enak favorit chicken steak beef cordon blue',\n",
       " 'tidak makan indomie makan langsung bikin porsi indomie goreng jumbo',\n",
       " 'nama mal sesuai nyata restoran mahal harga tidak cgv blitz sepi mal makan burger mahal ribu habis makan malam orang',\n",
       " 'tawar hidang roti malam coba susu murni padan roti keju stroberi roti zaman enak banding roti',\n",
       " 'letak rumah sakit boromeus daerah dago gampang cari arah jalan layang masuk jalan dago belok kanan pas rumah sakit boromeus meter kiri jalan lumayan ramai layan cepat pesan roti bakar kopi nikmat porsi',\n",
       " 'sesal beli ip hitung nyata telepon genggam ',\n",
       " 'salah sudut kota bandung bir house nama aku meal daerah ciumbuleuit nyaman ramah bar langsung hadap open dapur salah milik chef humble senang cerita bahan makan masuk kelas salah alas suka flavour bir mantap',\n",
       " 'menu agam coba beli pizza ukur pizza tipis pizza bilang crunchy',\n",
       " 'dibaned pakai telkom telkomsel sedy melete wah',\n",
       " 'ridwan kamil klaim silaturahmi partai demokrasi indonesia perjuangan tahap',\n",
       " 'layan arogan tidak senang laku layan langgan indosat',\n",
       " 'driver fase global positioning system pakai mod jarak parah',\n",
       " 'antisipasi langgar himbau perintah api pantau malam bireuen',\n",
       " 'suka bandung pilih masakan sayur lalap khas sunda tutut enak es goyobot mantap pokok',\n",
       " 'jual blue daily half time by ale rupiah mesan klik',\n",
       " 'ayam mc donalds enak',\n",
       " 'beda bandung unjung nikmat alam restoran kedai makan area main anak inap lokasi gunung segar malam dingin tuju unjung sedia kendara wara wiri parkir lobi',\n",
       " 'batagor bakso goreng makan khas bandung kingsley batagor jual beda kualitas premium ukur yun yi putih lembut mantap ikan asa batagor pes matang matang tahan kulkas taruh freezer',\n",
       " 'berengsek acara zaman sumpah tidak bosan tidak mutu sedih heran acara begitu bangga senang goblok acara alay orang acara goblok',\n",
       " 'tidak suka prabowo suka bohong',\n",
       " 'pas butuh nyaman privacy resto sedia room khusus kali dakken reserve ruang khusus bebas mengobrol tertawa tidak ganggu orang bangga bangga malu orang lihat pokok ruang milik deh hehe',\n",
       " 'makan enak worthy saji buka bikin main corse ukur jumbo tidak sesal deh makan',\n",
       " 'foodcourt luas saji makan tradisional modern harga murah riah mahal tata dekorasi apik betah sayang cuaca hujan gerimis jalan pilih duduk',\n",
       " 'kedai nyonya rumah jalan naripan bandung kafe makan minum okok toko sedia kue roti kue belah toko dunkin donat pesan nikmat',\n",
       " 'kemarin mencoba aglio olio tuna mushroom soup potato cheese steak icip sedikit enak aglio olio kejap porsi lumayan saking lahap nyaman staf ramah tanggap suka it',\n",
       " 'sejuk ramai kota makan cocok foto rekreasi',\n",
       " 'bikin pegal enak bebas macet coba sipil paket jalan macet segel',\n",
       " 'roti zaman salah buka sore pulang kantor kadang tidak keburu',\n",
       " 'sumpah marah indosat',\n",
       " 'plus makan enak variasi menu es contoh es goyobod cincau jengkol enak tidak bau',\n",
       " 'nyata akang ridwan orang takut tidak berani tega atur',\n",
       " 'porsi ukur topeng lumayan enak rasio cenderung manis menabrak makan gurih minyak jeroan babi rebus enak porsi raksasa porsi makan orang harga masuk murah yamien bandung',\n",
       " 'cari nongkrong jam bandung mc donalds simpang dago salah favorit tidak kenal merek dunia menu tawar bayang lokasi strategis area seating suasana malam nyaman obrol teman',\n",
       " 'hitung puluh nikmat sioamay batagor kali kunjung bandung harga ribu ratus buah kingsley sedia menu mi siomay batagor mie standar enak favorit mi yamin manis pangsit camil batagor siomay suka siomay ikan kuat',\n",
       " 'bangga unjung salah restoran hit ramai bincang orang mewah presentasi makan fantastis layan alhasil bangga hirup udara segar pandang tekstur presentasi makan saji appreciate layan waitress mantap',\n",
       " 'pas makan malam suasana restoran nyaman coba nasi babi nasi putih porsi telur mata sapi matang kornet maling lap chiong kian crispy sama can sayur hijau sambal enak pesan minum lemon tea lemon tea segar bbq pork rias bumbu serap daging blackpepper kuat sate samcan pedas garing',\n",
       " 'mudah jangkau transportasi letak belah jalan layang pasupati nyaman keluarga pasang teman abuba steak porsi mantap steak empuk',\n",
       " 'buka jam pagi menikmani sarap harga relatif lumayan lumayan layan cepat muat meja coba menu mi bebek menu rekomendasi',\n",
       " 'kenken bigul dapur rupa resto jual makan non halal coba kota kembang resto buka siang antre ular masuk daftar daftar tunggu primetime coba babi panggang babi goreng ribu mantap',\n",
       " 'bohong',\n",
       " 'acara makan malam keluarga pas suasana romantis malam c cocok pasang haha lampu jalan pesan nasi goreng nasi goreng tato dalam nanas enak harga lumayan hai tidak lupa kejar pantomim',\n",
       " 'manusia model jongos tidak tidak jawa jajah belanda ratus mas jawa dungu',\n",
       " 'suka iga bakat superman harga bilang mahal ribu porsi layak makam enak bawa anak main area kafe',\n",
       " 'damping air sungai rimbun pohon makan lezat betah cocok istirahat jajan sedia hawa sejuk',\n",
       " 'resto dessert sedia menu dessert lengkap lumayan enak harga sesuai kualitas makan',\n",
       " 'mampir bandung daerah sukajadi mencoba ramen parkir luas makan ramai enak obrol santai thailand enak',\n",
       " 'tidak istimewa saus kacang batagor merek harga murah enak harga mahal potong rupiah ribu desember ',\n",
       " 'roti bakar bubur enak cocok lapar malam cuti buka sore pagi subuh tidak persis',\n",
       " 'suasana enak tenang mes kue serabi enak layan bilang saji makan',\n",
       " 'sambal daun serawung tomat cabe rawit sambal kota garut nama cibiuk kenal sambal nikmat gurame goreng ayam goreng enak lengkokng cibiuk milik cabang',\n",
       " 'restoran tidak enak mahal terminal c rusak gambar bandara soetta world class airport',\n",
       " 'belitung inn tidak rekomendasi cari hotel pas belitung listrik mati subuh komplain nyala sarap jam waktu indonesia bagian barat habis astagfirullah',\n",
       " 'anies baswedan bicara gugat beli properti pulau reklamasi',\n",
       " 'mantap maju dewan perwakilan rakyat ri banda aceh nama edi saputra ketua dewan pimpinan cabang partai demokrat bireuen',\n",
       " 'pimpin jokowi tidak pimpin soeharto',\n",
       " 'tarik hotel inap decor homey tunggu masuk daftar tunggu duduk order makan minum sama inum menit oke ramai maklum si teak pes suami menit burger pesan saji sayang steak tidak timpal minus',\n",
       " 'tidak kecewa',\n",
       " 'lapor tidak makan putus ngemil lareine kue roti roti lengkap varian cocok lapar malas makan',\n",
       " 'harga makna politik jalan kotor kecewa hancur negeri',\n",
       " 'pakai baju papua baju cantik nila budaya orang makan cantik jelek jelek',\n",
       " 'raya ulang istri cinta sengaja pilih utama ruang suasana nyaman tenang suara lift musik dengar sayup asa mantap tidak kalah makan oke kunjung makan oke harga mahal he he he bayar',\n",
       " 'ajak wisata daerah lembang teman lokal bandung makan siang lokasi kampung daun luas hijau lengkap air terjun air terjun alami senang kumpul habis santap makan khas sunda enak',\n",
       " 'steak butuh saji cenderung cepat sesuai lidah dompet tunggu teman jam tidak asa makan lupa hehe',\n",
       " '',\n",
       " 'bandung kenal kuliner bandung kemarin browsing makan pagi enak bandung bakmi naripan salah rekomendasi buka jam pagi ramai unjung pesan mi asin babi enak puas makan porsi bandung coba sarap',\n",
       " 'letak lokasi ramai sejuk cocok lepas penat tata lokasi khas tema alam danau saung hutan sawah unik kafe bentuk sarang burung letak pohon kayu putih sambung jembatan kayu sensasi makan makan lumayan enak',\n",
       " 'ridwan kamil pasrah partai damping pilihan gubernur jawa barat',\n",
       " 'mearasakan indomie beda favorit mi ala upnormal saus keju pedas harga puluh ribu toping telur mata sapi matang cocok kerja tugas nongkrong',\n",
       " 'inap hotel trans coba the tahun resto trans tawar makan siang malam pandang kota bandung indah makan tawar westren makan indonesia makan minum wine minum keras coba indah malam suasana remang romantis pandang lampu indah',\n",
       " 'rida restoran bawa keluarga makassar restauran pusat kota senang lihat pandang kota lantai sky walk cantik steak salmon isi enak pakai keluarga senang ala status bantu bagus ramah sabar layan oke',\n",
       " 'padu nuansa mewah iring live musik akustik kelas malam indah agam menu pilih restorant pasang pilih lantai kesan pribadi pandang kota lampu cantik daya tarik kota bandung lantai cocok unjung baur',\n",
       " 'tidak untung',\n",
       " 'pas jantung bandung ramai jalan riau cape cape fo makan daken rumah bekas rumah kafe nyaman makan enak steak nasi goreng cream sup enak porsi saji piring',\n",
       " 'positif atmosfir kursi meja kayu kualitas negatif menu makan tidak sedia harga tidak nilai uang layan muas nasi liwet tidak standar order kuali asin standar asin',\n",
       " 'salah foodcourt bandung lokasi hotel hilton nyaman santa keluarga makan variasi harga jangkau rekomendasi',\n",
       " 'tidak cocok produk ponds',\n",
       " 'marah indosat ampas puasa',\n",
       " 'jajah jajah khianat kali tantang khianat agama muslim kafir rang kaum',\n",
       " 'the restoran pas romantis makan malam makan enak pandang bagus lagu alun easy listening bagus services terima kasih ms tisna',\n",
       " 'mantan ketua dewan perwakilan rakyat setya novanto jalan sidang agenda dengar jaksa eksepsi',\n",
       " 'kali makan resto menu sarap inap the valley resort november menyicipi menu main course acara kantor sila mes wagyu mahal salah acara direschedule jam malam maju jam jam makan siang',\n",
       " 'kunjung restoran jam sore orang teman ambil meja makan saung mes nasi tutug oncom nasi timbel komplit spesial goreng restoran sedia pilih sambal ambil gantung selera lidah',\n",
       " 'makan sejuk suasana senang jenis masakan sunda tradisional lumayan makan leseh pondok nuansa alam air terjun belah',\n",
       " 'lumayan peak season jalan macet triliun triliun enak sejuk plus kebun stroberi wisata petik makan rekomendasi utama nasi liwet enak wajib coba lembang cinta',\n",
       " 'ayam goreng suharti enak keluarga bandung ayam enak lunak garing sedia menu gudeg bacem dan lain lain',\n",
       " 'konflik',\n",
       " 'lemah otak anjir bikin tidak senang tidak sudah pakai indosat',\n",
       " 'pesan iga bakar sup iga iga bakar pesan tingkat pedas level tidak sepedas bayang iga sup vetsin asa menu utama iga temu serengit point',\n",
       " 'belanja produk lengkap masak',\n",
       " 'enak pedas enak jual judes p banding bakmi kenal bakmi bar suka give it a coba',\n",
       " 'segi sederhana tidak ragu harga jangkau sabar antre panas tunggu gilir',\n",
       " 'bongkar susilo bambang yudhoyono negeri hancur',\n",
       " 'rumah milik pagar warna hitam',\n",
       " 'tidak bosan siang malam nikmat indah kampung daun konsep pas nuansa jawa barat asri tenang betah makan hidang agam cita sunda',\n",
       " 'pantas saja anis baswedan ganti kerja tidak menteri',\n",
       " ...]"
      ]
     },
     "execution_count": 18,
     "metadata": {},
     "output_type": "execute_result"
    }
   ],
   "source": [
    "data_cleansing_sentimen = df['Kalimat_Bersih'].tolist()\n",
    "data_cleansing_sentimen"
   ]
  },
  {
   "cell_type": "code",
   "execution_count": 39,
   "metadata": {
    "colab": {
     "base_uri": "https://localhost:8080/"
    },
    "id": "8RAw8Zn-MbkN",
    "outputId": "bd6c0395-ef46-4baf-8461-d9a03119ed13"
   },
   "outputs": [
    {
     "name": "stdout",
     "output_type": "stream",
     "text": [
      "feature_xnn4_tfidf has created!\n"
     ]
    }
   ],
   "source": [
    "tfid_vect = TfidfVectorizer()\n",
    "tfid_vect.fit(data_cleansing_sentimen)\n",
    "\n",
    "X_tfid = tfid_vect.transform(data_cleansing_sentimen)\n",
    "\n",
    "with open('feature_xnn4_tfidf.pickle', 'wb') as handle:\n",
    "    pickle.dump(tfid_vect, handle,protocol=pickle.HIGHEST_PROTOCOL)\n",
    "    print(\"feature_xnn4_tfidf has created!\")"
   ]
  },
  {
   "cell_type": "code",
   "execution_count": 40,
   "metadata": {},
   "outputs": [
    {
     "data": {
      "text/plain": [
       "<10933x11826 sparse matrix of type '<class 'numpy.float64'>'\n",
       "\twith 150393 stored elements in Compressed Sparse Row format>"
      ]
     },
     "execution_count": 40,
     "metadata": {},
     "output_type": "execute_result"
    }
   ],
   "source": [
    "X_tfid"
   ]
  },
  {
   "cell_type": "code",
   "execution_count": 41,
   "metadata": {
    "colab": {
     "base_uri": "https://localhost:8080/"
    },
    "id": "V3W7ELTHdyJk",
    "outputId": "d2916741-5dec-457c-c1ac-801256fc9ef1"
   },
   "outputs": [
    {
     "data": {
      "text/plain": [
       "0        positive\n",
       "1         neutral\n",
       "2        positive\n",
       "3        positive\n",
       "4        negative\n",
       "           ...   \n",
       "10928     neutral\n",
       "10929    positive\n",
       "10930    positive\n",
       "10931    negative\n",
       "10932    positive\n",
       "Name: Label, Length: 10933, dtype: object"
      ]
     },
     "execution_count": 41,
     "metadata": {},
     "output_type": "execute_result"
    }
   ],
   "source": [
    "classes = df['Label']\n",
    "Y = classes\n",
    "Y"
   ]
  },
  {
   "cell_type": "code",
   "execution_count": 42,
   "metadata": {},
   "outputs": [
    {
     "data": {
      "text/html": [
       "<div>\n",
       "<style scoped>\n",
       "    .dataframe tbody tr th:only-of-type {\n",
       "        vertical-align: middle;\n",
       "    }\n",
       "\n",
       "    .dataframe tbody tr th {\n",
       "        vertical-align: top;\n",
       "    }\n",
       "\n",
       "    .dataframe thead th {\n",
       "        text-align: right;\n",
       "    }\n",
       "</style>\n",
       "<table border=\"1\" class=\"dataframe\">\n",
       "  <thead>\n",
       "    <tr style=\"text-align: right;\">\n",
       "      <th></th>\n",
       "      <th>Label</th>\n",
       "      <th>Count</th>\n",
       "    </tr>\n",
       "  </thead>\n",
       "  <tbody>\n",
       "    <tr>\n",
       "      <th>0</th>\n",
       "      <td>positive</td>\n",
       "      <td>6383</td>\n",
       "    </tr>\n",
       "    <tr>\n",
       "      <th>1</th>\n",
       "      <td>negative</td>\n",
       "      <td>3412</td>\n",
       "    </tr>\n",
       "    <tr>\n",
       "      <th>2</th>\n",
       "      <td>neutral</td>\n",
       "      <td>1138</td>\n",
       "    </tr>\n",
       "  </tbody>\n",
       "</table>\n",
       "</div>"
      ],
      "text/plain": [
       "      Label  Count\n",
       "0  positive   6383\n",
       "1  negative   3412\n",
       "2   neutral   1138"
      ]
     },
     "metadata": {},
     "output_type": "display_data"
    }
   ],
   "source": [
    "df_label = pd.DataFrame(Y.value_counts()).reset_index().rename(columns={\"index\": \"Label\"})\n",
    "df_label.columns.values[1]='Count'\n",
    "display(df_label)"
   ]
  },
  {
   "cell_type": "code",
   "execution_count": 43,
   "metadata": {},
   "outputs": [
    {
     "data": {
      "text/plain": [
       "0        positive\n",
       "1         neutral\n",
       "2        positive\n",
       "3        positive\n",
       "4        negative\n",
       "           ...   \n",
       "10928     neutral\n",
       "10929    positive\n",
       "10930    positive\n",
       "10931    negative\n",
       "10932    positive\n",
       "Name: Label, Length: 10933, dtype: object"
      ]
     },
     "execution_count": 43,
     "metadata": {},
     "output_type": "execute_result"
    }
   ],
   "source": [
    "Y"
   ]
  },
  {
   "cell_type": "code",
   "execution_count": 44,
   "metadata": {},
   "outputs": [
    {
     "name": "stdout",
     "output_type": "stream",
     "text": [
      "y_labels4.pickle has created1!\n"
     ]
    }
   ],
   "source": [
    "with open('y_labels4.pickle','wb') as handle:\n",
    "    pickle.dump(Y, handle, protocol=pickle.HIGHEST_PROTOCOL)\n",
    "    print(\"y_labels4.pickle has created1!\")"
   ]
  },
  {
   "cell_type": "markdown",
   "metadata": {
    "id": "-wmCuT_C4dwp"
   },
   "source": [
    "#### Preparing train dan test dataset , 20% sebagai data test 80% sebagai data train"
   ]
  },
  {
   "cell_type": "code",
   "execution_count": 45,
   "metadata": {
    "id": "QmHopd6T45bm"
   },
   "outputs": [],
   "source": [
    "X_train, X_test, Y_train, Y_test = train_test_split(X_tfid, Y, test_size=0.2)"
   ]
  },
  {
   "cell_type": "markdown",
   "metadata": {},
   "source": [
    "### Hyperparameter Tunning"
   ]
  },
  {
   "cell_type": "markdown",
   "metadata": {},
   "source": [
    "- hidden_layer_sizes : With this parameter we can specify the number of layers and the number of nodes we want to have in the Neural Network Classifier. Each element in the tuple represents the number of nodes at the ith position, where i is the index of the tuple. Thus, the length of the tuple indicates the total number of hidden layers in the neural network.\n",
    "- max_iter: Indicates the number of epochs.\n",
    "- activation: The activation function for the hidden layers.\n",
    "- solver: This parameter specifies the algorithm for weight optimization over the nodes."
   ]
  },
  {
   "cell_type": "code",
   "execution_count": 48,
   "metadata": {},
   "outputs": [],
   "source": [
    "model = MLPClassifier()\n",
    "parameter_space = {'hidden_layer_sizes':[(5,2)],\n",
    "                   'max_iter':[300]}"
   ]
  },
  {
   "cell_type": "code",
   "execution_count": 49,
   "metadata": {
    "scrolled": false
   },
   "outputs": [
    {
     "name": "stderr",
     "output_type": "stream",
     "text": [
      "/opt/anaconda3/lib/python3.9/site-packages/sklearn/neural_network/_multilayer_perceptron.py:692: ConvergenceWarning: Stochastic Optimizer: Maximum iterations (300) reached and the optimization hasn't converged yet.\n",
      "  warnings.warn(\n",
      "/opt/anaconda3/lib/python3.9/site-packages/sklearn/neural_network/_multilayer_perceptron.py:692: ConvergenceWarning: Stochastic Optimizer: Maximum iterations (300) reached and the optimization hasn't converged yet.\n",
      "  warnings.warn(\n"
     ]
    },
    {
     "data": {
      "text/plain": [
       "GridSearchCV(cv=5, estimator=MLPClassifier(), n_jobs=-1,\n",
       "             param_grid={'hidden_layer_sizes': [(5, 2)], 'max_iter': [300]})"
      ]
     },
     "execution_count": 49,
     "metadata": {},
     "output_type": "execute_result"
    }
   ],
   "source": [
    "from sklearn.model_selection import GridSearchCV\n",
    "\n",
    "clf = GridSearchCV(model, parameter_space, n_jobs=-1, cv=5)\n",
    "clf.fit(X_train, Y_train) # X is train samples and y is the corresponding labels\n"
   ]
  },
  {
   "cell_type": "code",
   "execution_count": 50,
   "metadata": {},
   "outputs": [
    {
     "name": "stdout",
     "output_type": "stream",
     "text": [
      "Best parameters found:\n",
      " {'hidden_layer_sizes': (5, 2), 'max_iter': 300}\n"
     ]
    }
   ],
   "source": [
    "print('Best parameters found:\\n', clf.best_params_)"
   ]
  },
  {
   "cell_type": "code",
   "execution_count": 51,
   "metadata": {},
   "outputs": [
    {
     "data": {
      "text/plain": [
       "{'hidden_layer_sizes': (5, 2), 'max_iter': 300}"
      ]
     },
     "execution_count": 51,
     "metadata": {},
     "output_type": "execute_result"
    }
   ],
   "source": [
    "clf.best_params_"
   ]
  },
  {
   "cell_type": "code",
   "execution_count": 52,
   "metadata": {
    "scrolled": true
   },
   "outputs": [
    {
     "name": "stdout",
     "output_type": "stream",
     "text": [
      "0.735 (+/-0.160) for {'hidden_layer_sizes': (5, 2), 'max_iter': 300}\n"
     ]
    }
   ],
   "source": [
    "# All results\n",
    "means = clf.cv_results_['mean_test_score']\n",
    "stds = clf.cv_results_['std_test_score']\n",
    "for mean, std, params in zip(means, stds, clf.cv_results_['params']):\n",
    "    print(\"%0.3f (+/-%0.03f) for %r\" % (mean, std * 2, params))"
   ]
  },
  {
   "cell_type": "code",
   "execution_count": 53,
   "metadata": {},
   "outputs": [
    {
     "name": "stdout",
     "output_type": "stream",
     "text": [
      "Results on the test set:\n",
      "              precision    recall  f1-score   support\n",
      "\n",
      "    negative       0.58      0.39      0.47       673\n",
      "     neutral       0.54      0.49      0.51       217\n",
      "    positive       0.76      0.90      0.82      1297\n",
      "\n",
      "    accuracy                           0.70      2187\n",
      "   macro avg       0.63      0.59      0.60      2187\n",
      "weighted avg       0.68      0.70      0.68      2187\n",
      "\n"
     ]
    }
   ],
   "source": [
    "y_true, y_pred = Y_test , clf.predict(X_test)\n",
    "from sklearn.metrics import classification_report\n",
    "print('Results on the test set:')\n",
    "print(classification_report(y_true, y_pred))"
   ]
  },
  {
   "cell_type": "markdown",
   "metadata": {
    "id": "qy1kYtdS46cu"
   },
   "source": [
    "## Training (NEURAL NETWORK)"
   ]
  },
  {
   "cell_type": "markdown",
   "metadata": {},
   "source": [
    "### Model Hyperparameter Tunning"
   ]
  },
  {
   "cell_type": "markdown",
   "metadata": {},
   "source": [
    "#### Activation value"
   ]
  },
  {
   "cell_type": "code",
   "execution_count": 55,
   "metadata": {},
   "outputs": [],
   "source": [
    "# best_values_activation = {}\n",
    "# for value in clf.best_params_:\n",
    "#     best_values_activation = (clf.best_params_)['activation']\n",
    "# best_values_activation"
   ]
  },
  {
   "cell_type": "markdown",
   "metadata": {},
   "source": [
    "#### Alpha value"
   ]
  },
  {
   "cell_type": "code",
   "execution_count": 56,
   "metadata": {},
   "outputs": [],
   "source": [
    "# best_values_alpha = {}\n",
    "# for value in clf.best_params_:\n",
    "#     best_values_alpha = (clf.best_params_)['alpha']\n",
    "# best_values_alpha"
   ]
  },
  {
   "cell_type": "markdown",
   "metadata": {},
   "source": [
    "#### hidden_layer_sizes value"
   ]
  },
  {
   "cell_type": "code",
   "execution_count": 57,
   "metadata": {},
   "outputs": [
    {
     "data": {
      "text/plain": [
       "(5, 2)"
      ]
     },
     "execution_count": 57,
     "metadata": {},
     "output_type": "execute_result"
    }
   ],
   "source": [
    "best_values_hidden_layer_sizes = {}\n",
    "for value in clf.best_params_:\n",
    "    best_values_hidden_layer_sizes = (clf.best_params_)['hidden_layer_sizes']\n",
    "best_values_hidden_layer_sizes"
   ]
  },
  {
   "cell_type": "markdown",
   "metadata": {},
   "source": [
    "#### learning_rate value"
   ]
  },
  {
   "cell_type": "code",
   "execution_count": 58,
   "metadata": {},
   "outputs": [],
   "source": [
    "# best_values_learning_rate = {}\n",
    "# for value in clf.best_params_:\n",
    "#     best_values_learning_rate = (clf.best_params_)['learning_rate']\n",
    "# best_values_learning_rate"
   ]
  },
  {
   "cell_type": "markdown",
   "metadata": {},
   "source": [
    "#### solver value"
   ]
  },
  {
   "cell_type": "code",
   "execution_count": 59,
   "metadata": {},
   "outputs": [],
   "source": [
    "# best_values_solver = {}\n",
    "# for value in clf.best_params_:\n",
    "#     best_values_solver = (clf.best_params_)['solver']\n",
    "# best_values_solver"
   ]
  },
  {
   "cell_type": "markdown",
   "metadata": {},
   "source": [
    "#### Max Iteration"
   ]
  },
  {
   "cell_type": "code",
   "execution_count": 60,
   "metadata": {},
   "outputs": [
    {
     "data": {
      "text/plain": [
       "300"
      ]
     },
     "execution_count": 60,
     "metadata": {},
     "output_type": "execute_result"
    }
   ],
   "source": [
    "best_values_iter = {}\n",
    "for value in clf.best_params_:\n",
    "    best_values_iter= (clf.best_params_)['max_iter']\n",
    "best_values_iter"
   ]
  },
  {
   "cell_type": "markdown",
   "metadata": {},
   "source": [
    "## Training"
   ]
  },
  {
   "cell_type": "code",
   "execution_count": 62,
   "metadata": {},
   "outputs": [],
   "source": [
    "model_hyper= MLPClassifier(max_iter=best_values_iter, hidden_layer_sizes= best_values_hidden_layer_sizes)"
   ]
  },
  {
   "cell_type": "code",
   "execution_count": 63,
   "metadata": {},
   "outputs": [
    {
     "name": "stdout",
     "output_type": "stream",
     "text": [
      "Training Selesai\n"
     ]
    }
   ],
   "source": [
    "model_hyper.fit(X_train, Y_train)\n",
    "print('Training Selesai')"
   ]
  },
  {
   "cell_type": "code",
   "execution_count": 64,
   "metadata": {},
   "outputs": [],
   "source": [
    "pickle.dump(model_hyper, open(\"model4_nn_hyperparam.pickle\",'wb'))"
   ]
  },
  {
   "cell_type": "code",
   "execution_count": 65,
   "metadata": {
    "colab": {
     "base_uri": "https://localhost:8080/"
    },
    "id": "S7C7AYW326FR",
    "outputId": "01098473-6af4-418e-a160-015cb75b78c9"
   },
   "outputs": [],
   "source": [
    "load_model_hyper = pickle.load(open(\"model4_nn_hyperparam.pickle\", 'rb'))\n",
    "result = load_model_hyper.score(X_test, Y_test)"
   ]
  },
  {
   "cell_type": "markdown",
   "metadata": {
    "id": "KXTaqUpH5HSS"
   },
   "source": [
    "## Evaluation Data Test"
   ]
  },
  {
   "cell_type": "code",
   "execution_count": 66,
   "metadata": {
    "colab": {
     "base_uri": "https://localhost:8080/"
    },
    "id": "puUeg5nD5Gyx",
    "outputId": "b9cd7a56-0ed3-45cc-e82b-ad390ce2ce96"
   },
   "outputs": [
    {
     "name": "stdout",
     "output_type": "stream",
     "text": [
      "Testing Selesai\n",
      "\n",
      "               precision    recall  f1-score   support\n",
      "\n",
      "    negative       0.64      0.79      0.71       547\n",
      "     neutral       0.66      0.58      0.62       248\n",
      "    positive       0.90      0.84      0.87      1392\n",
      "\n",
      "    accuracy                           0.80      2187\n",
      "   macro avg       0.74      0.74      0.73      2187\n",
      "weighted avg       0.81      0.80      0.80      2187\n",
      "\n",
      "Accuracy Score Test :  0.7997256515775034\n",
      "F1 Score Test :  0.7333316158295377\n",
      "Precision Score Test :  0.7376933050399964\n",
      "Recall Score Test :  0.7366303862757523\n"
     ]
    }
   ],
   "source": [
    "test = model_hyper.predict(X_test)\n",
    "print(\"Testing Selesai\")\n",
    "\n",
    "print(\"\\n\",classification_report(test,Y_test))\n",
    "\n",
    "test_acc = accuracy_score(Y_test, test)\n",
    "test_F1 = f1_score(Y_test, test, pos_label=['positive','negative','neutral'],\n",
    "                                           average='macro')\n",
    "test_precision = precision_score(Y_test, test,pos_label=['positive','negative','neutral'],\n",
    "                                           average='macro')\n",
    "test_recall = recall_score(Y_test, test,pos_label=['positive','negative','neutral'],\n",
    "                                           average='macro')\n",
    "\n",
    "print(\"Accuracy Score Test : \",test_acc)\n",
    "print(\"F1 Score Test : \",test_F1)\n",
    "print(\"Precision Score Test : \",test_precision)\n",
    "print(\"Recall Score Test : \",test_recall)"
   ]
  },
  {
   "cell_type": "markdown",
   "metadata": {
    "id": "yyOf2TmRBNsl"
   },
   "source": [
    "## Evaluation Data Train"
   ]
  },
  {
   "cell_type": "code",
   "execution_count": 67,
   "metadata": {
    "colab": {
     "base_uri": "https://localhost:8080/"
    },
    "id": "n_qRve1mBJgZ",
    "outputId": "706035fb-5ac6-4556-83a3-579adfa05f78"
   },
   "outputs": [
    {
     "name": "stdout",
     "output_type": "stream",
     "text": [
      "\n",
      "               precision    recall  f1-score   support\n",
      "\n",
      "    negative       1.00      0.97      0.99      2814\n",
      "     neutral       0.99      0.98      0.98       924\n",
      "    positive       0.98      1.00      0.99      5008\n",
      "\n",
      "    accuracy                           0.99      8746\n",
      "   macro avg       0.99      0.99      0.99      8746\n",
      "weighted avg       0.99      0.99      0.99      8746\n",
      "\n",
      "Accuracy Score Train:  0.98925222959067\n"
     ]
    }
   ],
   "source": [
    "train = model_hyper.predict(X_train)\n",
    "train_acc = accuracy_score(Y_train, train)\n",
    "\n",
    "print(\"\\n\",classification_report(train,Y_train))\n",
    "print(\"Accuracy Score Train: \",train_acc)"
   ]
  },
  {
   "cell_type": "markdown",
   "metadata": {
    "id": "NsLiz4meHYlv"
   },
   "source": [
    "## Confusion Matrix"
   ]
  },
  {
   "cell_type": "markdown",
   "metadata": {
    "id": "oAB2T1OqHtsO"
   },
   "source": [
    "### Pada Data sentimen yang telah di cleansing diperoleh ConfusionMatrix berikut ini:"
   ]
  },
  {
   "cell_type": "code",
   "execution_count": 68,
   "metadata": {
    "id": "CrkzRpVlqDK9"
   },
   "outputs": [],
   "source": [
    "confusion_matrix = metrics.confusion_matrix(Y_test, test)\n",
    "cm = metrics.ConfusionMatrixDisplay(confusion_matrix = confusion_matrix, display_labels = ['negative', 'neutral','positive'])"
   ]
  },
  {
   "cell_type": "code",
   "execution_count": 69,
   "metadata": {
    "colab": {
     "base_uri": "https://localhost:8080/"
    },
    "id": "9h_DdLjCByGf",
    "outputId": "79e3d528-8967-4a0d-d780-0fb60fde0119"
   },
   "outputs": [
    {
     "data": {
      "text/plain": [
       "array([[ 432,   76,  165],\n",
       "       [  19,  144,   54],\n",
       "       [  96,   28, 1173]])"
      ]
     },
     "execution_count": 69,
     "metadata": {},
     "output_type": "execute_result"
    }
   ],
   "source": [
    "confusion_matrix"
   ]
  },
  {
   "cell_type": "code",
   "execution_count": 70,
   "metadata": {
    "colab": {
     "base_uri": "https://localhost:8080/",
     "height": 295
    },
    "id": "Ic7RyqjM_LPh",
    "outputId": "3fd2aeba-10e0-4679-a61b-8d68631adfb2"
   },
   "outputs": [
    {
     "data": {
      "image/png": "[encoded data removed]",
      "text/plain": [
       "<Figure size 640x480 with 2 Axes>"
      ]
     },
     "metadata": {},
     "output_type": "display_data"
    }
   ],
   "source": [
    "import matplotlib.pyplot as plt\n",
    "\n",
    "cm.plot()\n",
    "plt.title(\"Confusion Matrix\")\n",
    "plt.show()"
   ]
  },
  {
   "cell_type": "markdown",
   "metadata": {
    "id": "4fO4SsvDNAOp"
   },
   "source": [
    "## Cross Validation"
   ]
  },
  {
   "cell_type": "code",
   "execution_count": 71,
   "metadata": {},
   "outputs": [],
   "source": [
    "import numpy as np"
   ]
  },
  {
   "cell_type": "code",
   "execution_count": 73,
   "metadata": {
    "colab": {
     "base_uri": "https://localhost:8080/"
    },
    "id": "GNp_2DJTCPw-",
    "outputId": "3aff35c7-7295-450e-9404-ffb4f2aa152d"
   },
   "outputs": [
    {
     "name": "stdout",
     "output_type": "stream",
     "text": [
      "Training ke- 1\n",
      "              precision    recall  f1-score   support\n",
      "\n",
      "    negative       0.00      0.00      0.00       690\n",
      "     neutral       0.00      0.00      0.00       220\n",
      "    positive       0.58      1.00      0.74      1277\n",
      "\n",
      "    accuracy                           0.58      2187\n",
      "   macro avg       0.19      0.33      0.25      2187\n",
      "weighted avg       0.34      0.58      0.43      2187\n",
      "\n",
      "======================================================\n",
      "Training ke- 2\n",
      "              precision    recall  f1-score   support\n",
      "\n",
      "    negative       0.61      0.39      0.48       667\n",
      "     neutral       0.52      0.42      0.47       219\n",
      "    positive       0.76      0.93      0.84      1301\n",
      "\n",
      "    accuracy                           0.71      2187\n",
      "   macro avg       0.63      0.58      0.59      2187\n",
      "weighted avg       0.69      0.71      0.69      2187\n",
      "\n",
      "======================================================\n",
      "Training ke- 3\n",
      "              precision    recall  f1-score   support\n",
      "\n",
      "    negative       0.00      0.00      0.00       695\n",
      "     neutral       0.00      0.00      0.00       213\n",
      "    positive       0.58      1.00      0.74      1279\n",
      "\n",
      "    accuracy                           0.58      2187\n",
      "   macro avg       0.19      0.33      0.25      2187\n",
      "weighted avg       0.34      0.58      0.43      2187\n",
      "\n",
      "======================================================\n",
      "Training ke- 4\n",
      "              precision    recall  f1-score   support\n",
      "\n",
      "    negative       0.79      0.68      0.73       705\n",
      "     neutral       0.57      0.65      0.61       234\n",
      "    positive       0.85      0.90      0.87      1247\n",
      "\n",
      "    accuracy                           0.80      2186\n",
      "   macro avg       0.74      0.74      0.74      2186\n",
      "weighted avg       0.80      0.80      0.80      2186\n",
      "\n",
      "======================================================\n",
      "Training ke- 5\n",
      "              precision    recall  f1-score   support\n",
      "\n",
      "    negative       0.55      0.73      0.63       655\n",
      "     neutral       0.00      0.00      0.00       252\n",
      "    positive       0.83      0.85      0.84      1279\n",
      "\n",
      "    accuracy                           0.72      2186\n",
      "   macro avg       0.46      0.53      0.49      2186\n",
      "weighted avg       0.65      0.72      0.68      2186\n",
      "\n",
      "======================================================\n",
      "\n",
      "\n",
      "\n",
      "Rata-rata Accuracy:  0.679883\n",
      "Rata-rata F1-Score :  0.46209\n",
      "Rata-rata Precision :  0.502877\n",
      "Rata-rata Recall :  0.443692\n"
     ]
    }
   ],
   "source": [
    "kf = KFold(n_splits=5,random_state=42,shuffle=True)\n",
    "\n",
    "accuracies = []\n",
    "score_f1 = []\n",
    "score_preci = []\n",
    "score_rcall = []\n",
    "\n",
    "y = classes\n",
    "\n",
    "for i, data in enumerate(kf.split(X_tfid), start=1):\n",
    "\n",
    "    data_train   = X_tfid[data[0]]\n",
    "    target_train = y[data[0]]\n",
    "\n",
    "    data_test    = X_tfid[data[1]]\n",
    "    target_test  = y[data[1]]\n",
    "\n",
    "    clf = MLPClassifier(max_iter=best_values_iter, hidden_layer_sizes= best_values_hidden_layer_sizes)\n",
    "    model_nn = clf.fit(data_train,target_train)\n",
    "\n",
    "    preds = clf.predict(data_test)\n",
    "\n",
    "    # for the current fold only    \n",
    "    accuracy = accuracy_score(target_test, preds)\n",
    "    F1 = f1_score(preds,target_test, pos_label=['positive','negative','neutral'],\n",
    "                                           average='macro')\n",
    "    precision = precision_score(preds,target_test,pos_label=['positive','negative','neutral'],\n",
    "                                           average='macro')\n",
    "    recall = recall_score(preds,target_test,pos_label=['positive','negative','neutral'],\n",
    "                                           average='macro')\n",
    "\n",
    "    print(\"Training ke-\", i)\n",
    "    print(sklearn.metrics.classification_report(target_test,preds))\n",
    "    print(\"======================================================\")\n",
    "\n",
    "    accuracies.append(accuracy)\n",
    "    score_f1.append(F1)\n",
    "    score_preci.append(precision)\n",
    "    score_rcall.append(recall)\n",
    "\n",
    "# this is the average accuracy over all folds\n",
    "average_accuracy = np.mean(accuracies)\n",
    "average_f1 = np.mean(score_f1)\n",
    "average_precision = np.mean(score_preci)\n",
    "average_recall= np.mean(score_rcall)\n",
    "\n",
    "print()\n",
    "print()\n",
    "print()\n",
    "print(\"Rata-rata Accuracy: \", round(average_accuracy,6))\n",
    "print(\"Rata-rata F1-Score : \", round(average_f1,6))\n",
    "print(\"Rata-rata Precision : \", round(average_precision,6))\n",
    "print(\"Rata-rata Recall : \", round(average_recall,6))"
   ]
  },
  {
   "cell_type": "markdown",
   "metadata": {
    "id": "onnV7suHtbZn"
   },
   "source": [
    "## Predict"
   ]
  },
  {
   "cell_type": "code",
   "execution_count": 74,
   "metadata": {
    "colab": {
     "base_uri": "https://localhost:8080/"
    },
    "id": "JUW8Xdy1x5xB",
    "outputId": "656fbd8a-8c45-4c22-fef6-8b5b757b469c"
   },
   "outputs": [
    {
     "name": "stdout",
     "output_type": "stream",
     "text": [
      "Sentimen: negative\n"
     ]
    }
   ],
   "source": [
    "original_text = \"sakit sekali\"\n",
    "\n",
    "text = tfid_vect.transform([cleansing(original_text)])\n",
    "\n",
    "result = model_hyper.predict(text)[0]\n",
    "print(\"Sentimen:\",result)"
   ]
  },
  {
   "cell_type": "code",
   "execution_count": null,
   "metadata": {
    "scrolled": false
   },
   "outputs": [],
   "source": [
    "from sklearn.model_selection import learning_curve\n",
    "import warnings\n",
    "warnings.filterwarnings('ignore')\n",
    "\n",
    "train_sizes, train_scores, test_scores =\\\n",
    "    learning_curve(estimator = model_hyper, X = X_train, y = Y_train)\n",
    "\n",
    "train_mean = np.mean(train_scores, axis=1)\n",
    "train_std = np.std(train_scores, axis=1)\n",
    "test_mean = np.mean(test_scores, axis=1)\n",
    "test_std = np.std(test_scores, axis=1)\n",
    "\n",
    "plt.plot(train_sizes, train_mean,\n",
    "         color = \"blue\", marker = 'o',\n",
    "         markersize = 5,label  ='Training accuracy')\n",
    "\n",
    "plt.fill_between(train_sizes, \n",
    "                 train_mean + train_std, \n",
    "                 train_mean - train_std,\n",
    "                 alpha=0.15, color = 'blue')\n",
    "\n",
    "plt.plot(train_sizes, test_mean, \n",
    "         color='red', linestyle = '--',\n",
    "         marker = 's',markersize = 5, \n",
    "         label = 'Validation accuracy')\n",
    "\n",
    "plt.fill_between(train_sizes, \n",
    "                 test_mean + test_std, \n",
    "                 test_mean - test_std,\n",
    "                 alpha=0.15, color = 'green')\n",
    "    \n",
    "\n",
    "plt.grid()\n",
    "plt.title(\"Learning Rate Curve\")\n",
    "plt.xlabel('Number of training examples')\n",
    "plt.ylabel('Accuracy')\n",
    "plt.legend(loc = 'lower right')\n",
    "plt.ylim([0.25, 1.01])\n",
    "plt.show"
   ]
  },
  {
   "cell_type": "code",
   "execution_count": null,
   "metadata": {},
   "outputs": [],
   "source": []
  },
  {
   "cell_type": "code",
   "execution_count": null,
   "metadata": {},
   "outputs": [],
   "source": []
  },
  {
   "cell_type": "code",
   "execution_count": null,
   "metadata": {},
   "outputs": [],
   "source": []
  }
 ],
 "metadata": {
  "accelerator": "TPU",
  "colab": {
   "provenance": []
  },
  "gpuClass": "standard",
  "kernelspec": {
   "display_name": "Python 3 (ipykernel)",
   "language": "python",
   "name": "python3"
  },
  "language_info": {
   "codemirror_mode": {
    "name": "ipython",
    "version": 3
   },
   "file_extension": ".py",
   "mimetype": "text/x-python",
   "name": "python",
   "nbconvert_exporter": "python",
   "pygments_lexer": "ipython3",
   "version": "3.9.13"
  },
  "vscode": {
   "interpreter": {
    "hash": "aee8b7b246df8f9039afb4144a1f6fd8d2ca17a180786b69acc140d282b71a49"
   }
  }
 },
 "nbformat": 4,
 "nbformat_minor": 1
}
